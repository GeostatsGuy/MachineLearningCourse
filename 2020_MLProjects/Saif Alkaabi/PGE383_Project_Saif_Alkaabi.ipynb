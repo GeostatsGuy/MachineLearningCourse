{
 "cells": [
  {
   "cell_type": "markdown",
   "metadata": {},
   "source": [
    "\n",
    "\n",
    "<p align=\"center\">\n",
    "    <img src=\"https://github.com/GeostatsGuy/GeostatsPy/blob/master/TCG_color_logo.png?raw=true\" width=\"220\" height=\"240\" />\n",
    "\n",
    "</p>\n",
    "\n"
   ]
  },
  {
   "cell_type": "markdown",
   "metadata": {},
   "source": [
    "\n",
    "## Interactive Bootstrap Demo\n",
    "\n",
    "#### Saif Alkaabi\n",
    "#### Hildebrand Department of Petroleum and Geosystems Engineering, University of Texas at Austin\n",
    "\n",
    "### Subsurface Machine Learning Course, The University of Texas at Austin\n",
    "#### Hildebrand Department of Petroleum and Geosystems Engineering, Cockrell School of Engineering\n",
    "#### Department of Geological Sciences, Jackson School of Geosciences\n",
    "\n",
    "\n",
    "\n",
    "\n",
    "_____________________\n",
    "\n",
    "Workflow supervision and review by:\n",
    "\n",
    "#### Instructor: Prof. Michael Pyrcz, Ph.D., P.Eng., Associate Professor, The Univeristy of Texas at Austin\n",
    "##### [Twitter](https://twitter.com/geostatsguy) | [GitHub](https://github.com/GeostatsGuy) | [Website](http://michaelpyrcz.com) | [GoogleScholar](https://scholar.google.com/citations?user=QVZ20eQAAAAJ&hl=en&oi=ao) | [Book](https://www.amazon.com/Geostatistical-Reservoir-Modeling-Michael-Pyrcz/dp/0199731446) | [YouTube](https://www.youtube.com/channel/UCLqEr-xV-ceHdXXXrTId5ig)  | [LinkedIn](https://www.linkedin.com/in/michael-pyrcz-61a648a1)\n",
    "\n",
    "#### Course TA: Jack Xiao, Graduate Student, The University of Texas at Austin\n",
    "##### [Twitter](https://twitter.com/jackxiao6) | [LinkedIn](https://www.linkedin.com/in/yuchen-jack-xiao-b1b20876/)\n"
   ]
  },
  {
   "cell_type": "markdown",
   "metadata": {},
   "source": [
    "### Executive Summary\n",
    "\n",
    "This interactive demo is meant as an educational tool to demonstrate bootstrap for subsurface modeling workflows. This tool demonstrates how the bootstrap process works by showing the realizations as they aggregate to form the bootstrap uncertainty. Also shown is the flexibility of bootstrapping to measure uncertainty in any statistic. Bootstrap is a powerful method that can be used to measure uncertainty in subsurface data."
   ]
  },
  {
   "cell_type": "markdown",
   "metadata": {},
   "source": [
    "### Import Packages\n",
    "\n"
   ]
  },
  {
   "cell_type": "code",
   "execution_count": 1,
   "metadata": {},
   "outputs": [],
   "source": [
    "import geostatspy.GSLIB as GSLIB                        # GSLIB utilites, visualization and wrapper\n",
    "import geostatspy.geostats as geostats                  # GSLIB methods convert to Python\n",
    "import os                                               # to set current working directory \n",
    "import sys                                              # supress output to screen for interactive variogram modeling\n",
    "import io\n",
    "import numpy as np                                      # arrays and matrix math\n",
    "import pandas as pd                                     # DataFrames\n",
    "import matplotlib.pyplot as plt                         # plotting\n",
    "from matplotlib.pyplot import cm                        # color maps\n",
    "import math                                             # sqrt operator\n",
    "import random                                           # random simulation locations\n",
    "from copy import copy                                   # copy a colormap\n",
    "from ipywidgets import interactive                      # widgets and interactivity\n",
    "from ipywidgets import widgets                            \n",
    "from ipywidgets import Layout\n",
    "from ipywidgets import Label\n",
    "from ipywidgets import VBox, HBox\n",
    "from scipy import stats                                 # summary statistics\n",
    "from scipy.stats import norm                            # Gaussian distribution\n",
    "import scipy.stats as st                                # statistical methods\n",
    "from IPython.display import display, clear_output\n",
    "from matplotlib.offsetbox import AnchoredText"
   ]
  },
  {
   "cell_type": "markdown",
   "metadata": {},
   "source": [
    "### Functions\n",
    "\n",
    "The following function will be used in the workflow.\n",
    "\n"
   ]
  },
  {
   "cell_type": "code",
   "execution_count": 2,
   "metadata": {},
   "outputs": [],
   "source": [
    "def f_make(real_max_,ndata_, real_no_, tdata_, tstat_, debias_): # function to take parameters, make interactive widget\n",
    "    global ymi\n",
    "    global yma\n",
    "    global xmin\n",
    "    global xmax\n",
    "    global Demo\n",
    "    text_trap = io.StringIO()                           # suppress all text function output to dashboard to avoid clutter \n",
    "    sys.stdout = text_trap\n",
    "    cmap = cm.inferno\n",
    "    np.random.seed(seed = 73072)                        # ensure same results for all runs\n",
    "    random.seed(73072)\n",
    "    \n",
    "    for f in np.arange(len(feature)):\n",
    "        unit[columns[f][0]] = feature[f].value\n",
    "    \n",
    "    np.random.seed(seed = 73072)                        # reset number seed to ensure same sequence\n",
    "    data = np.random.choice(tdata_, size=int(len(df)*ndata_))\n",
    "    np.random.seed(seed = 73072)\n",
    "    \n",
    "    if debias_ == 'On':\n",
    "        wts_df = df['Wts']\n",
    "    else:\n",
    "        wts_df = df['Wts_no']\n",
    "    weights = np.random.choice(wts_df, size=int(len(df)*ndata_))\n",
    "    \n",
    "    if real_no_ > real_max_:\n",
    "        clear_output()\n",
    "        real_no_ = real_max_\n",
    "        real_no.max = real_max_\n",
    "        Demo\n",
    "        plt.show()\n",
    "        \n",
    "        \n",
    "    if real_no.max < real_max_:\n",
    "        real_no.max = real_max_\n",
    "        real_no.max = real_max.value\n",
    "        #real_no.value = real_no.max\n",
    "        Demo\n",
    "        clear_output()\n",
    "    \n",
    "    if real_no.max > real_max_:\n",
    "        real_no.max = real_max_\n",
    "        real_no.max = real_max.value\n",
    "        Demo\n",
    "        clear_output()\n",
    "        \n",
    "    L = real_max_                                       # set the number of realizations for uncertainty calculation\n",
    "    mean = np.zeros(L); stdev = np.zeros(L)             # declare arrays to hold the realizations of the statistics\n",
    "    P10 = np.zeros(L)                          \n",
    "    P50 = np.zeros(L); P90 = np.zeros(L)\n",
    "    samples = np.zeros((real_max_,len(data)))\n",
    "    for l in range(0, L):                               # loop over realizations\n",
    "        samples[l]  = random.choices(data, weights=weights, cum_weights=None, k=len(data))\n",
    "        mean[l] = np.average(samples[l])\n",
    "        stdev[l] = np.std(samples[l])\n",
    "        P10[l] = np.percentile(q = 10, a = samples[l])\n",
    "        P50[l] = np.percentile(q = 50, a = samples[l])\n",
    "        P90[l] = np.percentile(q = 90, a = samples[l])\n",
    "    stat_data = [mean, stdev, P10, P50, P90]\n",
    "    \n",
    "    plt.subplot(121)\n",
    "    GSLIB.hist_st(stat_data[tstat_][:real_no_],min(stat_data[tstat_]),max(stat_data[tstat_]),False,False,20,None,tstat.label + ', ' + tdata.label + ' (' + unit[tdata.label] +')','Bootstrap Uncertainty in ' + tdata.label + ' ' + tstat.label)\n",
    "    GSLIB.hist_st(stat_data[tstat_],min(stat_data[tstat_]),max(stat_data[tstat_]),False,False,20,None,tstat.label + ', ' + tdata.label + ' (' + unit[tdata.label] +')','Bootstrap Uncertainty in ' + tdata.label + ' ' + tstat.label)\n",
    "    \n",
    "    if real_max_ == realizations:\n",
    "        ymi, yma = plt.gca().get_ylim()\n",
    "        xmin, xmax = plt.gca().get_xlim()  \n",
    "    \n",
    "    ymi2, yma2 = plt.gca().get_ylim()  \n",
    "    \n",
    "    plt.ylim((ymi, yma))\n",
    "    plt.xlim((xmin, xmax))\n",
    "    plt.plot([stat_data[tstat_][real_no.value-1], stat_data[tstat_][real_no.value-1]], [0, 0.9*yma], 'k')\n",
    "    plt.text(stat_data[tstat_][real_no.value-1], 0.9*yma, tstat.label + ' = ' + str(np.around(stat_data[tstat_][real_no.value-1], 3)) + ' (' + unit[tdata.label] + ')', bbox=dict(boxstyle = \"square\", facecolor = \"white\"), fontsize=12)\n",
    "    \n",
    "    plt.subplot(122)\n",
    "    GSLIB.hist_st(samples[real_no.value-1],min(data),max(data),False,False,20,None, tdata.label + ' (' + unit[tdata.label] +')','Bootstrap ' + tdata.label + ' Realization ' + str(real_no_))\n",
    "    ymin, ymax = plt.gca().get_ylim()\n",
    "    plt.plot([stat_data[tstat_][real_no.value-1], stat_data[tstat_][real_no.value-1]], [0, 0.9*ymax], 'k')\n",
    "    plt.text(1.017*stat_data[tstat_][real_no.value-1], 0.9*ymax, tstat.label + ' = ' + str(np.around(stat_data[tstat_][real_no.value-1], 3)) + ' (' + unit[tdata.label] + ')', bbox=dict(boxstyle = \"square\", facecolor = \"white\"), fontsize=12)\n",
    "    \n",
    "    plt.subplots_adjust(left=0.0, bottom=0.0, right=2.0, top=1.2, wspace=0.2, hspace=0.2)  "
   ]
  },
  {
   "cell_type": "markdown",
   "metadata": {},
   "source": [
    "### Load Data\n",
    "\n",
    "The following workflow applies the .csv file 'sample_data_biased.csv' from PGE 383 datasets. However, the interactive tool accepts other datasets as well. \n",
    "\n",
    "We will work with the following features:\n",
    "\n",
    "* **porosity** - void fraction in rock\n",
    "* **permeability** - ability of a fluid to flow through the rock in millidarcy (mD)\n"
   ]
  },
  {
   "cell_type": "markdown",
   "metadata": {},
   "source": [
    "Set the working directory using the following command:"
   ]
  },
  {
   "cell_type": "code",
   "execution_count": 3,
   "metadata": {},
   "outputs": [
    {
     "ename": "SyntaxError",
     "evalue": "(unicode error) 'unicodeescape' codec can't decode bytes in position 2-3: truncated \\UXXXXXXXX escape (<ipython-input-3-93285882d9f0>, line 1)",
     "output_type": "error",
     "traceback": [
      "\u001b[1;36m  File \u001b[1;32m\"<ipython-input-3-93285882d9f0>\"\u001b[1;36m, line \u001b[1;32m1\u001b[0m\n\u001b[1;33m    os.chdir(\"C:\\Users\\Xerqe\\Dropbox\\UT\\Subsurface ML\\Project\\Reference\")                     # set the working directory\u001b[0m\n\u001b[1;37m            ^\u001b[0m\n\u001b[1;31mSyntaxError\u001b[0m\u001b[1;31m:\u001b[0m (unicode error) 'unicodeescape' codec can't decode bytes in position 2-3: truncated \\UXXXXXXXX escape\n"
     ]
    }
   ],
   "source": [
    "os.chdir(\"C:\\Users\\Xerqe\\Dropbox\\UT\\Subsurface ML\\Project\\Reference\")                     # set the working directory"
   ]
  },
  {
   "cell_type": "markdown",
   "metadata": {},
   "source": [
    "Load the comma delimited file into a Pandas' DataFrame object:"
   ]
  },
  {
   "cell_type": "code",
   "execution_count": 4,
   "metadata": {},
   "outputs": [],
   "source": [
    "df = pd.read_csv('PGE383_Project_Saif_Alkaabi_data.csv')                                  # load our data table "
   ]
  },
  {
   "cell_type": "markdown",
   "metadata": {},
   "source": [
    "### Basic Data Checking and Visualization\n",
    "\n",
    "We can check the summary statistics of the data to understand what we are using:\n"
   ]
  },
  {
   "cell_type": "code",
   "execution_count": 5,
   "metadata": {},
   "outputs": [
    {
     "data": {
      "text/html": [
       "<div>\n",
       "<style scoped>\n",
       "    .dataframe tbody tr th:only-of-type {\n",
       "        vertical-align: middle;\n",
       "    }\n",
       "\n",
       "    .dataframe tbody tr th {\n",
       "        vertical-align: top;\n",
       "    }\n",
       "\n",
       "    .dataframe thead th {\n",
       "        text-align: right;\n",
       "    }\n",
       "</style>\n",
       "<table border=\"1\" class=\"dataframe\">\n",
       "  <thead>\n",
       "    <tr style=\"text-align: right;\">\n",
       "      <th></th>\n",
       "      <th>count</th>\n",
       "      <th>mean</th>\n",
       "      <th>std</th>\n",
       "      <th>min</th>\n",
       "      <th>25%</th>\n",
       "      <th>50%</th>\n",
       "      <th>75%</th>\n",
       "      <th>max</th>\n",
       "    </tr>\n",
       "  </thead>\n",
       "  <tbody>\n",
       "    <tr>\n",
       "      <th>X</th>\n",
       "      <td>289.0</td>\n",
       "      <td>475.813149</td>\n",
       "      <td>254.277530</td>\n",
       "      <td>0.000000</td>\n",
       "      <td>300.000000</td>\n",
       "      <td>430.000000</td>\n",
       "      <td>670.000000</td>\n",
       "      <td>990.000000</td>\n",
       "    </tr>\n",
       "    <tr>\n",
       "      <th>Y</th>\n",
       "      <td>289.0</td>\n",
       "      <td>529.692042</td>\n",
       "      <td>300.895374</td>\n",
       "      <td>9.000000</td>\n",
       "      <td>269.000000</td>\n",
       "      <td>549.000000</td>\n",
       "      <td>819.000000</td>\n",
       "      <td>999.000000</td>\n",
       "    </tr>\n",
       "    <tr>\n",
       "      <th>Facies</th>\n",
       "      <td>289.0</td>\n",
       "      <td>0.813149</td>\n",
       "      <td>0.390468</td>\n",
       "      <td>0.000000</td>\n",
       "      <td>1.000000</td>\n",
       "      <td>1.000000</td>\n",
       "      <td>1.000000</td>\n",
       "      <td>1.000000</td>\n",
       "    </tr>\n",
       "    <tr>\n",
       "      <th>Porosity</th>\n",
       "      <td>289.0</td>\n",
       "      <td>0.134744</td>\n",
       "      <td>0.037745</td>\n",
       "      <td>0.058548</td>\n",
       "      <td>0.106318</td>\n",
       "      <td>0.126167</td>\n",
       "      <td>0.154220</td>\n",
       "      <td>0.228790</td>\n",
       "    </tr>\n",
       "    <tr>\n",
       "      <th>Perm</th>\n",
       "      <td>289.0</td>\n",
       "      <td>207.832368</td>\n",
       "      <td>559.359350</td>\n",
       "      <td>0.075819</td>\n",
       "      <td>3.634086</td>\n",
       "      <td>14.908970</td>\n",
       "      <td>71.454424</td>\n",
       "      <td>5308.842566</td>\n",
       "    </tr>\n",
       "  </tbody>\n",
       "</table>\n",
       "</div>"
      ],
      "text/plain": [
       "          count        mean         std       min         25%         50%  \\\n",
       "X         289.0  475.813149  254.277530  0.000000  300.000000  430.000000   \n",
       "Y         289.0  529.692042  300.895374  9.000000  269.000000  549.000000   \n",
       "Facies    289.0    0.813149    0.390468  0.000000    1.000000    1.000000   \n",
       "Porosity  289.0    0.134744    0.037745  0.058548    0.106318    0.126167   \n",
       "Perm      289.0  207.832368  559.359350  0.075819    3.634086   14.908970   \n",
       "\n",
       "                 75%          max  \n",
       "X         670.000000   990.000000  \n",
       "Y         819.000000   999.000000  \n",
       "Facies      1.000000     1.000000  \n",
       "Porosity    0.154220     0.228790  \n",
       "Perm       71.454424  5308.842566  "
      ]
     },
     "execution_count": 5,
     "metadata": {},
     "output_type": "execute_result"
    }
   ],
   "source": [
    "df.describe().transpose()"
   ]
  },
  {
   "cell_type": "markdown",
   "metadata": {},
   "source": [
    "Get the range of the data from the summary statistics above:"
   ]
  },
  {
   "cell_type": "code",
   "execution_count": 6,
   "metadata": {},
   "outputs": [],
   "source": [
    "xmin = 0.0; xmax = 1000.0               # range of x values\n",
    "ymin = 0.0; ymax = 1000.0               # range of y values\n",
    "pormin = 0.05; pormax = 0.25;           # range of porosity values\n",
    "permmin = 0.0; permmax = 5500           # range of permeability values\n",
    "nx = 100; ny = 100; csize = 10.0  "
   ]
  },
  {
   "cell_type": "markdown",
   "metadata": {},
   "source": [
    "Visualize the spatial dataset:"
   ]
  },
  {
   "cell_type": "code",
   "execution_count": 7,
   "metadata": {},
   "outputs": [
    {
     "data": {
      "image/png": "[encoded data removed]",
      "text/plain": [
       "<Figure size 432x288 with 4 Axes>"
      ]
     },
     "metadata": {
      "needs_background": "light"
     },
     "output_type": "display_data"
    }
   ],
   "source": [
    "cmap = plt.cm.plasma \n",
    "\n",
    "plt.subplot(121)\n",
    "GSLIB.locmap_st(df,'X','Y','Porosity',xmin,xmax,ymin,ymax,pormin,pormax,'Well Data - Porosity','X(m)','Y(m)','Porosity (fraction)',cmap)\n",
    "plt.subplots_adjust(left=0.0, bottom=0.0, right=1.0, top=1.2, wspace=0.2, hspace=0.2)\n",
    "\n",
    "plt.subplot(122)\n",
    "GSLIB.locmap_st(df,'X','Y','Perm',xmin,xmax,ymin,ymax,permmin,permmax,'Well Data - Permeability','X(m)','Y(m)','Permeability (mD)',cmap)\n",
    "plt.subplots_adjust(left=0.0, bottom=0.0, right=1.0, top=1.2, wspace=0.2, hspace=0.2)\n",
    "\n",
    "plt.subplots_adjust(left=0.0, bottom=0.0, right=2.0, top=1.2, wspace=0.2, hspace=0.2)\n",
    "plt.show()"
   ]
  },
  {
   "cell_type": "markdown",
   "metadata": {},
   "source": [
    "As we can see, the data is biased as the samples are concentrated towards one region with favorable porosity and permeability. It is essential to debias the data to avoid bias in the uncertainty model. In this workflow, we will apply cell-based declustering to give weights to the data points."
   ]
  },
  {
   "cell_type": "code",
   "execution_count": 8,
   "metadata": {},
   "outputs": [
    {
     "name": "stdout",
     "output_type": "stream",
     "text": [
      "There are 289 data with:\n",
      "   mean of      0.13474387540138408 \n",
      "   min and max  0.058547873 and 0.228790002\n",
      "   standard dev 0.03767982164385207 \n"
     ]
    },
    {
     "data": {
      "text/html": [
       "<div>\n",
       "<style scoped>\n",
       "    .dataframe tbody tr th:only-of-type {\n",
       "        vertical-align: middle;\n",
       "    }\n",
       "\n",
       "    .dataframe tbody tr th {\n",
       "        vertical-align: top;\n",
       "    }\n",
       "\n",
       "    .dataframe thead th {\n",
       "        text-align: right;\n",
       "    }\n",
       "</style>\n",
       "<table border=\"1\" class=\"dataframe\">\n",
       "  <thead>\n",
       "    <tr style=\"text-align: right;\">\n",
       "      <th></th>\n",
       "      <th>X</th>\n",
       "      <th>Y</th>\n",
       "      <th>Facies</th>\n",
       "      <th>Porosity</th>\n",
       "      <th>Perm</th>\n",
       "      <th>Wts</th>\n",
       "    </tr>\n",
       "  </thead>\n",
       "  <tbody>\n",
       "    <tr>\n",
       "      <th>0</th>\n",
       "      <td>100</td>\n",
       "      <td>900</td>\n",
       "      <td>1</td>\n",
       "      <td>0.115359</td>\n",
       "      <td>5.736104</td>\n",
       "      <td>3.064286</td>\n",
       "    </tr>\n",
       "    <tr>\n",
       "      <th>1</th>\n",
       "      <td>100</td>\n",
       "      <td>800</td>\n",
       "      <td>1</td>\n",
       "      <td>0.136425</td>\n",
       "      <td>17.211462</td>\n",
       "      <td>1.076608</td>\n",
       "    </tr>\n",
       "    <tr>\n",
       "      <th>2</th>\n",
       "      <td>100</td>\n",
       "      <td>600</td>\n",
       "      <td>1</td>\n",
       "      <td>0.135810</td>\n",
       "      <td>43.724752</td>\n",
       "      <td>0.997239</td>\n",
       "    </tr>\n",
       "    <tr>\n",
       "      <th>3</th>\n",
       "      <td>100</td>\n",
       "      <td>500</td>\n",
       "      <td>0</td>\n",
       "      <td>0.094414</td>\n",
       "      <td>1.609942</td>\n",
       "      <td>1.165119</td>\n",
       "    </tr>\n",
       "    <tr>\n",
       "      <th>4</th>\n",
       "      <td>100</td>\n",
       "      <td>100</td>\n",
       "      <td>0</td>\n",
       "      <td>0.113049</td>\n",
       "      <td>10.886001</td>\n",
       "      <td>1.224164</td>\n",
       "    </tr>\n",
       "  </tbody>\n",
       "</table>\n",
       "</div>"
      ],
      "text/plain": [
       "     X    Y  Facies  Porosity       Perm       Wts\n",
       "0  100  900       1  0.115359   5.736104  3.064286\n",
       "1  100  800       1  0.136425  17.211462  1.076608\n",
       "2  100  600       1  0.135810  43.724752  0.997239\n",
       "3  100  500       0  0.094414   1.609942  1.165119\n",
       "4  100  100       0  0.113049  10.886001  1.224164"
      ]
     },
     "execution_count": 8,
     "metadata": {},
     "output_type": "execute_result"
    }
   ],
   "source": [
    "wts, cell_sizes, dmeans = geostats.declus(df,'X','Y','Porosity',iminmax = 1, noff= 10, ncell=100,cmin=10,cmax=2000)\n",
    "df['Wts'] = wts\n",
    "df.head()"
   ]
  },
  {
   "cell_type": "markdown",
   "metadata": {},
   "source": [
    "### Interactive Bootstrap Demo\n",
    "\n",
    "This tool is flexible and is able to accept other datasets. \n",
    "\n",
    "* **Note:** It will conduct cell-based declustering automatically as long as 'X' , 'Y', and 'Porosity' data are available. Otherwise, it will assign nominal weights to the data.\n",
    "\n"
   ]
  },
  {
   "cell_type": "markdown",
   "metadata": {},
   "source": [
    "### 1. Load Alternative Dataset (Optional)\n",
    "\n",
    "It is possible to use other datasets for this bootstrap demo. Use the upload widget to select the file directly:\n",
    "\n"
   ]
  },
  {
   "cell_type": "code",
   "execution_count": 9,
   "metadata": {},
   "outputs": [
    {
     "data": {
      "application/vnd.jupyter.widget-view+json": {
       "model_id": "38e393829d4d4cb19cfacbde30b98ee5",
       "version_major": 2,
       "version_minor": 0
      },
      "text/plain": [
       "FileUpload(value={}, accept='.csv', description='Upload')"
      ]
     },
     "metadata": {},
     "output_type": "display_data"
    }
   ],
   "source": [
    "uploader = widgets.FileUpload(accept = '.csv')\n",
    "display(uploader)"
   ]
  },
  {
   "cell_type": "markdown",
   "metadata": {},
   "source": [
    "After uploading the file, extract it and convert it into a Pandas' Dataframe:"
   ]
  },
  {
   "cell_type": "code",
   "execution_count": 10,
   "metadata": {},
   "outputs": [
    {
     "ename": "ValueError",
     "evalue": "not enough values to unpack (expected 1, got 0)",
     "output_type": "error",
     "traceback": [
      "\u001b[1;31m---------------------------------------------------------------------------\u001b[0m",
      "\u001b[1;31mValueError\u001b[0m                                Traceback (most recent call last)",
      "\u001b[1;32m<ipython-input-10-c60a3ecfd929>\u001b[0m in \u001b[0;36m<module>\u001b[1;34m\u001b[0m\n\u001b[0;32m      1\u001b[0m \u001b[0muploaded_file\u001b[0m \u001b[1;33m=\u001b[0m \u001b[0muploader\u001b[0m\u001b[1;33m.\u001b[0m\u001b[0mvalue\u001b[0m\u001b[1;33m\u001b[0m\u001b[1;33m\u001b[0m\u001b[0m\n\u001b[1;32m----> 2\u001b[1;33m \u001b[1;33m[\u001b[0m\u001b[0mfile_name\u001b[0m\u001b[1;33m]\u001b[0m \u001b[1;33m=\u001b[0m \u001b[0muploader\u001b[0m\u001b[1;33m.\u001b[0m\u001b[0mvalue\u001b[0m\u001b[1;33m\u001b[0m\u001b[1;33m\u001b[0m\u001b[0m\n\u001b[0m\u001b[0;32m      3\u001b[0m \u001b[0mdf\u001b[0m \u001b[1;33m=\u001b[0m \u001b[0mpd\u001b[0m\u001b[1;33m.\u001b[0m\u001b[0mread_csv\u001b[0m\u001b[1;33m(\u001b[0m\u001b[0mio\u001b[0m\u001b[1;33m.\u001b[0m\u001b[0mBytesIO\u001b[0m\u001b[1;33m(\u001b[0m\u001b[0muploaded_file\u001b[0m\u001b[1;33m[\u001b[0m\u001b[0mfile_name\u001b[0m\u001b[1;33m]\u001b[0m\u001b[1;33m[\u001b[0m\u001b[1;34m'content'\u001b[0m\u001b[1;33m]\u001b[0m\u001b[1;33m)\u001b[0m\u001b[1;33m)\u001b[0m\u001b[1;33m\u001b[0m\u001b[1;33m\u001b[0m\u001b[0m\n",
      "\u001b[1;31mValueError\u001b[0m: not enough values to unpack (expected 1, got 0)"
     ]
    }
   ],
   "source": [
    "uploaded_file = uploader.value\n",
    "[file_name] = uploader.value\n",
    "df = pd.read_csv(io.BytesIO(uploaded_file[file_name]['content']))"
   ]
  },
  {
   "cell_type": "markdown",
   "metadata": {},
   "source": [
    "Check the summary statistics of the data:"
   ]
  },
  {
   "cell_type": "code",
   "execution_count": 11,
   "metadata": {},
   "outputs": [
    {
     "data": {
      "text/html": [
       "<div>\n",
       "<style scoped>\n",
       "    .dataframe tbody tr th:only-of-type {\n",
       "        vertical-align: middle;\n",
       "    }\n",
       "\n",
       "    .dataframe tbody tr th {\n",
       "        vertical-align: top;\n",
       "    }\n",
       "\n",
       "    .dataframe thead th {\n",
       "        text-align: right;\n",
       "    }\n",
       "</style>\n",
       "<table border=\"1\" class=\"dataframe\">\n",
       "  <thead>\n",
       "    <tr style=\"text-align: right;\">\n",
       "      <th></th>\n",
       "      <th>count</th>\n",
       "      <th>mean</th>\n",
       "      <th>std</th>\n",
       "      <th>min</th>\n",
       "      <th>25%</th>\n",
       "      <th>50%</th>\n",
       "      <th>75%</th>\n",
       "      <th>max</th>\n",
       "    </tr>\n",
       "  </thead>\n",
       "  <tbody>\n",
       "    <tr>\n",
       "      <th>X</th>\n",
       "      <td>289.0</td>\n",
       "      <td>475.813149</td>\n",
       "      <td>254.277530</td>\n",
       "      <td>0.000000</td>\n",
       "      <td>300.000000</td>\n",
       "      <td>430.000000</td>\n",
       "      <td>670.000000</td>\n",
       "      <td>990.000000</td>\n",
       "    </tr>\n",
       "    <tr>\n",
       "      <th>Y</th>\n",
       "      <td>289.0</td>\n",
       "      <td>529.692042</td>\n",
       "      <td>300.895374</td>\n",
       "      <td>9.000000</td>\n",
       "      <td>269.000000</td>\n",
       "      <td>549.000000</td>\n",
       "      <td>819.000000</td>\n",
       "      <td>999.000000</td>\n",
       "    </tr>\n",
       "    <tr>\n",
       "      <th>Facies</th>\n",
       "      <td>289.0</td>\n",
       "      <td>0.813149</td>\n",
       "      <td>0.390468</td>\n",
       "      <td>0.000000</td>\n",
       "      <td>1.000000</td>\n",
       "      <td>1.000000</td>\n",
       "      <td>1.000000</td>\n",
       "      <td>1.000000</td>\n",
       "    </tr>\n",
       "    <tr>\n",
       "      <th>Porosity</th>\n",
       "      <td>289.0</td>\n",
       "      <td>0.134744</td>\n",
       "      <td>0.037745</td>\n",
       "      <td>0.058548</td>\n",
       "      <td>0.106318</td>\n",
       "      <td>0.126167</td>\n",
       "      <td>0.154220</td>\n",
       "      <td>0.228790</td>\n",
       "    </tr>\n",
       "    <tr>\n",
       "      <th>Perm</th>\n",
       "      <td>289.0</td>\n",
       "      <td>207.832368</td>\n",
       "      <td>559.359350</td>\n",
       "      <td>0.075819</td>\n",
       "      <td>3.634086</td>\n",
       "      <td>14.908970</td>\n",
       "      <td>71.454424</td>\n",
       "      <td>5308.842566</td>\n",
       "    </tr>\n",
       "    <tr>\n",
       "      <th>Wts</th>\n",
       "      <td>289.0</td>\n",
       "      <td>1.000000</td>\n",
       "      <td>0.639743</td>\n",
       "      <td>0.281976</td>\n",
       "      <td>0.670642</td>\n",
       "      <td>0.789486</td>\n",
       "      <td>1.174123</td>\n",
       "      <td>3.984325</td>\n",
       "    </tr>\n",
       "  </tbody>\n",
       "</table>\n",
       "</div>"
      ],
      "text/plain": [
       "          count        mean         std       min         25%         50%  \\\n",
       "X         289.0  475.813149  254.277530  0.000000  300.000000  430.000000   \n",
       "Y         289.0  529.692042  300.895374  9.000000  269.000000  549.000000   \n",
       "Facies    289.0    0.813149    0.390468  0.000000    1.000000    1.000000   \n",
       "Porosity  289.0    0.134744    0.037745  0.058548    0.106318    0.126167   \n",
       "Perm      289.0  207.832368  559.359350  0.075819    3.634086   14.908970   \n",
       "Wts       289.0    1.000000    0.639743  0.281976    0.670642    0.789486   \n",
       "\n",
       "                 75%          max  \n",
       "X         670.000000   990.000000  \n",
       "Y         819.000000   999.000000  \n",
       "Facies      1.000000     1.000000  \n",
       "Porosity    0.154220     0.228790  \n",
       "Perm       71.454424  5308.842566  \n",
       "Wts         1.174123     3.984325  "
      ]
     },
     "execution_count": 11,
     "metadata": {},
     "output_type": "execute_result"
    }
   ],
   "source": [
    "df.describe().transpose()"
   ]
  },
  {
   "cell_type": "markdown",
   "metadata": {},
   "source": [
    "### 2. Input Units\n",
    "\n",
    "Indicate units for the data used. These units will be automatically integrated into the interactive tool display. By default, units for features in 'PGE383_Project_Saif_Alkaabi_data.csv' are applied.\n",
    "\n"
   ]
  },
  {
   "cell_type": "code",
   "execution_count": 12,
   "metadata": {},
   "outputs": [
    {
     "name": "stdout",
     "output_type": "stream",
     "text": [
      "There are 289 data with:\n",
      "   mean of      0.13474387540138408 \n",
      "   min and max  0.058547873 and 0.228790002\n",
      "   standard dev 0.03767982164385207 \n"
     ]
    },
    {
     "data": {
      "application/vnd.jupyter.widget-view+json": {
       "model_id": "a55d50f5e1fa47cf818735c10448ace6",
       "version_major": 2,
       "version_minor": 0
      },
      "text/plain": [
       "Text(value='km', description='X:', placeholder='Type unit')"
      ]
     },
     "metadata": {},
     "output_type": "display_data"
    },
    {
     "data": {
      "application/vnd.jupyter.widget-view+json": {
       "model_id": "a3cf8a5edd954f7f982ee882d4563929",
       "version_major": 2,
       "version_minor": 0
      },
      "text/plain": [
       "Text(value='km', description='Y:', placeholder='Type unit')"
      ]
     },
     "metadata": {},
     "output_type": "display_data"
    },
    {
     "data": {
      "application/vnd.jupyter.widget-view+json": {
       "model_id": "2bfc48cb7dc84512ae110fa3ccb89bf6",
       "version_major": 2,
       "version_minor": 0
      },
      "text/plain": [
       "Text(value='', description='Facies:', placeholder='Type unit')"
      ]
     },
     "metadata": {},
     "output_type": "display_data"
    },
    {
     "data": {
      "application/vnd.jupyter.widget-view+json": {
       "model_id": "b2514a7e3ac646c990deca567c324724",
       "version_major": 2,
       "version_minor": 0
      },
      "text/plain": [
       "Text(value='fraction', description='Porosity:', placeholder='Type unit')"
      ]
     },
     "metadata": {},
     "output_type": "display_data"
    },
    {
     "data": {
      "application/vnd.jupyter.widget-view+json": {
       "model_id": "426ac0a150024bacae96b4c061067195",
       "version_major": 2,
       "version_minor": 0
      },
      "text/plain": [
       "Text(value='mD', description='Perm:', placeholder='Type unit')"
      ]
     },
     "metadata": {},
     "output_type": "display_data"
    }
   ],
   "source": [
    "if 'Por' in df.columns:\n",
    "    df = df.rename(columns={'Por': 'Porosity'})\n",
    "\n",
    "if 'Porosity'in df.columns:\n",
    "    if 'X' in df.columns:\n",
    "        if 'Y' in df.columns:\n",
    "            wts, cell_sizes, dmeans = geostats.declus(df,'X','Y','Porosity',iminmax = 1, noff= 10, ncell=100,cmin=10,cmax=2000)\n",
    "    df['Wts'] = wts                           # add weights to the sample data DataFrame\n",
    "else:\n",
    "    df['Wts'] = np.ones((len(df)))\n",
    "\n",
    "df['Wts_no'] = np.ones((len(df)))\n",
    "\n",
    "columns = []\n",
    "for l in range(len(df.columns)-2):\n",
    "    columns.append((df.columns[l], df.iloc[:, l].tolist()))\n",
    "    \n",
    "feature=[]\n",
    "unit = dict()\n",
    "n = 0\n",
    "for col in columns:\n",
    "    feature.append(widgets.Text(\n",
    "        value='',\n",
    "        placeholder='Type unit',\n",
    "        description= col[0] + ':',\n",
    "        disabled=False\n",
    "))\n",
    "    \n",
    "    if col[0] == 'X':\n",
    "        feature[n].value = 'km'\n",
    "    if col[0] == 'Y':\n",
    "        feature[n].value = 'km'\n",
    "    if col[0] == 'Porosity':\n",
    "        feature[n].value = 'fraction'\n",
    "    if col[0] == 'Perm':\n",
    "        feature[n].value = 'mD'\n",
    "    display(feature[n])\n",
    "    \n",
    "    unit[col[0]] = ''\n",
    "    n = n + 1\n",
    "\n",
    "for f in np.arange(len(feature)):\n",
    "    unit[columns[f][0]] = feature[f].value"
   ]
  },
  {
   "cell_type": "markdown",
   "metadata": {},
   "source": [
    "### 3. Display the Interactive Tool\n",
    "\n",
    "The following code will display the interactive tool with automated updating of the graphics."
   ]
  },
  {
   "cell_type": "code",
   "execution_count": 13,
   "metadata": {
    "scrolled": false
   },
   "outputs": [
    {
     "data": {
      "application/vnd.jupyter.widget-view+json": {
       "model_id": "0280ceb5e4be48c6a89c21b4cf23696b",
       "version_major": 2,
       "version_minor": 0
      },
      "text/plain": [
       "VBox(children=(Text(value='                                                                                   …"
      ]
     },
     "metadata": {},
     "output_type": "display_data"
    },
    {
     "data": {
      "application/vnd.jupyter.widget-view+json": {
       "model_id": "3adf5641609f4f8e88b7495bcb1ed5af",
       "version_major": 2,
       "version_minor": 0
      },
      "text/plain": [
       "Output()"
      ]
     },
     "metadata": {},
     "output_type": "display_data"
    }
   ],
   "source": [
    "import warnings; warnings.simplefilter('ignore')\n",
    "\n",
    "realizations = 1000\n",
    "interactive_plot = []\n",
    "\n",
    "stat = [('Average', 0), ('Standard Deviation', 1), ('P10', 2), ('P50', 3), ('P90', 4)]\n",
    "style = {'description_width': 'initial'}\n",
    "l = widgets.Text(value='                                                                                                       Bootstrap Interactive Demo',layout=Layout(width='950px', height='30px'))\n",
    "real_max = widgets.IntSlider(min = 100, max = realizations, value = realizations, step = 100, description = 'Realizations',orientation='horizontal',continuous_update=True,\n",
    "                          layout=Layout(width='300px', height='40px'))\n",
    "real_max.style.handle_color = 'gray'\n",
    "\n",
    "tstat = widgets.Dropdown(options=stat, value=0, description='Statistic:',)\n",
    "\n",
    "tdata = widgets.Dropdown(options=columns, value=columns[0][1], description='Data:',)\n",
    "\n",
    "ndata = widgets.FloatSlider(min = 0.1, max = 1.0, value = 1, step = 0.1, description = 'Data%',orientation='horizontal',continuous_update=True,\n",
    "                          layout=Layout(width='300px', height='40px'))\n",
    "ndata.style.handle_color = 'gray'\n",
    "\n",
    "real_no = widgets.IntSlider(min = 1, max = real_max.value, value = 1, step = 1, description = 'Real. #',orientation='horizontal',continuous_update=True,\n",
    "                          layout=Layout(width='300px', height='40px'))\n",
    "real_no.style.handle_color = 'gray'\n",
    "\n",
    "debias = widgets.ToggleButtons(options=['On', 'Off'],description='Debiasing',disabled=False,button_style='', # 'success', 'info', 'warning', 'danger' or ''\n",
    "    tooltips=['Spatial debiasing using cell-based declustering. \"X\", \"Y\", and \"Porosity\" data required. If not available, nominal weights are given and the data is not debiased.', 'No debiasing. Assumes samples are representative.'],)\n",
    "\n",
    "uipars1 = widgets.HBox([tdata,tstat, debias],)\n",
    "\n",
    "uipars2 = widgets.HBox([real_max,ndata, real_no],)     \n",
    "\n",
    "uik = widgets.VBox([l, uipars1, uipars2],)\n",
    "    \n",
    "# connect the function to make the samples and plot to the widgets    \n",
    "interactive_plot = widgets.interactive_output(f_make, {'real_max_':real_max,'ndata_':ndata, 'real_no_':real_no, 'tdata_':tdata, 'tstat_':tstat, 'debias_': debias})\n",
    "#interactive_plot.clear_output(wait = True)               # reduce flickering by delaying plot updating\n",
    "\n",
    "Demo = display(uik, interactive_plot)                            # display the interactive plot\n"
   ]
  },
  {
   "cell_type": "markdown",
   "metadata": {},
   "source": [
    "#### Observations:\n",
    "\n",
    "* When adjusting the number of realizations, we notice that the shape of the histogram (left plot) becomes more defined (i.e. less flat) at larger realizations. As we increase the number of realizations, the general shape of the histogram tends to stabilize. This is an indication of reaching a **sufficient number of realizations**. \n",
    "\n",
    "\n",
    "* When reducing the percentage of data used, we are introducing uncertainty into the data. This distorts the shape of the histogram and makes it relatively less defined (i.e. flatter). In some cases, the histogram becomes skewed. This shows **implications of sparse sampling** on uncertainty.\n",
    "\n",
    "\n",
    "* Spatial bias can heavily impact uncertainty calculations. The shape of the histogram can be completely altered when turning on and off spatial debiasing. It is **necessary to debias the data** and ensure the data is representative.\n",
    "\n",
    "\n",
    "* Bootstrap is a **powerful, flexible method** that can calculate uncertainty in various statistics for various parameters."
   ]
  },
  {
   "cell_type": "markdown",
   "metadata": {},
   "source": [
    "\n",
    "### Parting Comments\n"
   ]
  },
  {
   "cell_type": "markdown",
   "metadata": {},
   "source": [
    "\n",
    "I hope this was helpful,\n",
    "\n",
    "Saif Alkaabi\n",
    "\n",
    "___________________\n",
    "\n",
    "#### Work Supervised by:\n",
    "\n",
    "### Michael Pyrcz, Associate Professor, University of Texas at Austin \n",
    "*Novel Data Analytics, Geostatistics and Machine Learning Subsurface Solutions*\n",
    "\n",
    "With over 17 years of experience in subsurface consulting, research and development, Michael has returned to academia driven by his passion for teaching and enthusiasm for enhancing engineers' and geoscientists' impact in subsurface resource development. \n",
    "\n",
    "For more about Michael check out these links:\n",
    "\n",
    "#### [Twitter](https://twitter.com/geostatsguy) | [GitHub](https://github.com/GeostatsGuy) | [Website](http://michaelpyrcz.com) | [GoogleScholar](https://scholar.google.com/citations?user=QVZ20eQAAAAJ&hl=en&oi=ao) | [Book](https://www.amazon.com/Geostatistical-Reservoir-Modeling-Michael-Pyrcz/dp/0199731446) | [YouTube](https://www.youtube.com/channel/UCLqEr-xV-ceHdXXXrTId5ig)  | [LinkedIn](https://www.linkedin.com/in/michael-pyrcz-61a648a1)\n",
    "\n",
    "#### Want to Work Together?\n",
    "\n",
    "I hope this content is helpful to those that want to learn more about subsurface modeling, data analytics and machine learning. Students and working professionals are welcome to participate.\n",
    "\n",
    "* Want to invite me to visit your company for training, mentoring, project review, workflow design and / or consulting? I'd be happy to drop by and work with you! \n",
    "\n",
    "* Interested in partnering, supporting my graduate student research or my Subsurface Data Analytics and Machine Learning consortium (co-PIs including Profs. Foster, Torres-Verdin and van Oort)? My research combines data analytics, stochastic modeling and machine learning theory with practice to develop novel methods and workflows to add value. We are solving challenging subsurface problems!\n",
    "\n",
    "* I can be reached at mpyrcz@austin.utexas.edu.\n",
    "\n",
    "I'm always happy to discuss,\n",
    "\n",
    "*Michael*\n",
    "\n",
    "Michael Pyrcz, Ph.D., P.Eng. Associate Professor The Hildebrand Department of Petroleum and Geosystems Engineering, Bureau of Economic Geology, The Jackson School of Geosciences, The University of Texas at Austin\n"
   ]
  }
 ],
 "metadata": {
  "kernelspec": {
   "display_name": "Python 3",
   "language": "python",
   "name": "python3"
  },
  "language_info": {
   "codemirror_mode": {
    "name": "ipython",
    "version": 3
   },
   "file_extension": ".py",
   "mimetype": "text/x-python",
   "name": "python",
   "nbconvert_exporter": "python",
   "pygments_lexer": "ipython3",
   "version": "3.7.6"
  }
 },
 "nbformat": 4,
 "nbformat_minor": 2
}
