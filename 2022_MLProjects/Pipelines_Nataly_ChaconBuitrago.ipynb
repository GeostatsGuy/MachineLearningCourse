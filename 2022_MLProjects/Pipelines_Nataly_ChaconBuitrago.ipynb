{
 "cells": [
  {
   "cell_type": "markdown",
   "metadata": {},
   "source": [
    "\n",
    "\n",
    "<p align=\"center\">\n",
    "    <img src=\"https://github.com/GeostatsGuy/GeostatsPy/blob/master/TCG_color_logo.png?raw=true\" width=\"220\" height=\"240\" />\n",
    "\n",
    "</p>\n",
    "\n",
    "## PGE 383 Final Project \n",
    "\n",
    "____________________\n"
   ]
  },
  {
   "cell_type": "markdown",
   "metadata": {},
   "source": [
    "\n",
    "## Algorithm Chains and Pipeline Tutorial\n",
    "\n",
    "#### Nataly Chacon Buitrago\n",
    "####  Hildebrand Department of Petroleum and Geosystems Engineering, Cockrell School of Engineering\n",
    "\n",
    "### Subsurface Machine Learning Course, The University of Texas at Austin\n",
    "_____________________\n",
    "\n",
    "Workflow supervision and review by:\n",
    "\n",
    "#### Instructor: Prof. Michael Pyrcz, Ph.D., P.Eng., Associate Professor, The Univeristy of Texas at Austin\n",
    "##### [Twitter](https://twitter.com/geostatsguy) | [GitHub](https://github.com/GeostatsGuy) | [Website](http://michaelpyrcz.com) | [GoogleScholar](https://scholar.google.com/citations?user=QVZ20eQAAAAJ&hl=en&oi=ao) | [Book](https://www.amazon.com/Geostatistical-Reservoir-Modeling-Michael-Pyrcz/dp/0199731446) | [YouTube](https://www.youtube.com/channel/UCLqEr-xV-ceHdXXXrTId5ig)  | [LinkedIn](https://www.linkedin.com/in/michael-pyrcz-61a648a1)\n",
    "\n",
    "#### Course TA: Misael Morales, Graduate Student, The University of Texas at Austin\n"
   ]
  },
  {
   "cell_type": "markdown",
   "metadata": {},
   "source": [
    "### Executive Summary\n",
    "\n",
    "\n",
    "A machine learning pipeline is a tool that helps to automate machine learning workflows. It consists of multiple steps that can do everything in a ML workflow, from data extraction and preprocessing to model training and deployment. \n",
    "In data science teams, the production of pipelines many times are the central product. As, they encapsulate the best practices of producing a ML model. In sciences and engineering a pipeline can be very useful for a single model that needs to be updated frequently. \n",
    "In this workflow, I will explain how to build a basic pipeline with a simple data set. Then, I will explain how to combine pipelines and GridSearchCV to search over parameters for all processing steps at once. I will also explain about how to create a pipeline using make_pipeline and how to build a pipeline when there are different types of data columns."
   ]
  },
  {
   "cell_type": "markdown",
   "metadata": {},
   "source": [
    "### Import Packages\n"
   ]
  },
  {
   "cell_type": "code",
   "execution_count": 1,
   "metadata": {},
   "outputs": [],
   "source": [
    "import numpy as np                                        # for working with data and model arrays\n",
    "import warnings\n",
    "from sklearn.neighbors import KNeighborsRegressor         # for nearest k neighbours\n",
    "from sklearn.decomposition import PCA                     # perform dimensionality reduction using PCA\n",
    "from sklearn.preprocessing import OneHotEncoder           # Encode categorical features as a one-hot numeric array\n",
    "import pandas as pd                                       # data manipulation and analysis\n",
    "from sklearn import set_config                            # visualization of diagrams\n",
    "from sklearn.impute import SimpleImputer                  # Complete missing values with simple strategies\n",
    "from sklearn.model_selection import train_test_split      # split the model in train and test sets\n",
    "from sklearn.pipeline import Pipeline                     # to build pipelines\n",
    "from sklearn.pipeline import make_pipeline                # Construct a Pipeline from the given estimators\n",
    "from sklearn.preprocessing import StandardScaler          # feature scaling\n",
    "from sklearn.preprocessing import MinMaxScaler            # feature scaling\n",
    "from sklearn.linear_model import LogisticRegression       # logistic regression\n",
    "from sklearn.compose import ColumnTransformer             # Applies transformers to columns of an array or pandas df\n",
    "from sklearn.model_selection import GridSearchCV          # Exhaustive search over specified parameter values for an estimator\n",
    "import mglearn                                            # helper functions for the book \"Introduction to \n",
    "                                                          # Machine Learning with Python\""
   ]
  },
  {
   "cell_type": "markdown",
   "metadata": {},
   "source": [
    "### Load Data\n",
    "\n",
    " We will work with the following features:\n",
    "\n",
    "* **Well Index (WellIndex)** \n",
    "* **porosity (Por)** - fraction of rock void in units of percentage\n",
    "* **permeability (LogPerm)** - ability of a fluid to flow through the rock in mil;iDarcy\n",
    "* **acoustic impedence (AI)** - product of sonic velocity and rock density in unitsof $kg/m^2s*10^3$\n",
    "* **Brittleness (Brittle)** - ability of a rock to break\n",
    "* **Total Organic Content (TOC)** - concentration of organic material in source rocks as represented by the weight percent of organic carbon\n",
    "* **Vitrinite Reflectance (VR)** - measurement of the maturity of organic matter with respect to whether it has generated hydrocarbons or could be an effective source rock.\n",
    "\n",
    " The target variable is:\n",
    "* **Production** "
   ]
  },
  {
   "cell_type": "code",
   "execution_count": 2,
   "metadata": {},
   "outputs": [
    {
     "data": {
      "text/html": [
       "<div>\n",
       "<style scoped>\n",
       "    .dataframe tbody tr th:only-of-type {\n",
       "        vertical-align: middle;\n",
       "    }\n",
       "\n",
       "    .dataframe tbody tr th {\n",
       "        vertical-align: top;\n",
       "    }\n",
       "\n",
       "    .dataframe thead th {\n",
       "        text-align: right;\n",
       "    }\n",
       "</style>\n",
       "<table border=\"1\" class=\"dataframe\">\n",
       "  <thead>\n",
       "    <tr style=\"text-align: right;\">\n",
       "      <th></th>\n",
       "      <th>WellIndex</th>\n",
       "      <th>Por</th>\n",
       "      <th>LogPerm</th>\n",
       "      <th>AI</th>\n",
       "      <th>Brittle</th>\n",
       "      <th>TOC</th>\n",
       "      <th>VR</th>\n",
       "      <th>Production</th>\n",
       "    </tr>\n",
       "  </thead>\n",
       "  <tbody>\n",
       "    <tr>\n",
       "      <th>0</th>\n",
       "      <td>1</td>\n",
       "      <td>15.91</td>\n",
       "      <td>1.67</td>\n",
       "      <td>3.06</td>\n",
       "      <td>14.05</td>\n",
       "      <td>1.36</td>\n",
       "      <td>1.85</td>\n",
       "      <td>177.381958</td>\n",
       "    </tr>\n",
       "    <tr>\n",
       "      <th>1</th>\n",
       "      <td>2</td>\n",
       "      <td>15.34</td>\n",
       "      <td>1.65</td>\n",
       "      <td>2.60</td>\n",
       "      <td>31.88</td>\n",
       "      <td>1.37</td>\n",
       "      <td>1.79</td>\n",
       "      <td>1479.767778</td>\n",
       "    </tr>\n",
       "    <tr>\n",
       "      <th>2</th>\n",
       "      <td>3</td>\n",
       "      <td>20.45</td>\n",
       "      <td>2.02</td>\n",
       "      <td>3.13</td>\n",
       "      <td>63.67</td>\n",
       "      <td>1.79</td>\n",
       "      <td>2.53</td>\n",
       "      <td>4421.221583</td>\n",
       "    </tr>\n",
       "    <tr>\n",
       "      <th>3</th>\n",
       "      <td>4</td>\n",
       "      <td>11.95</td>\n",
       "      <td>1.14</td>\n",
       "      <td>3.90</td>\n",
       "      <td>58.81</td>\n",
       "      <td>0.40</td>\n",
       "      <td>2.03</td>\n",
       "      <td>1488.317629</td>\n",
       "    </tr>\n",
       "    <tr>\n",
       "      <th>4</th>\n",
       "      <td>5</td>\n",
       "      <td>19.53</td>\n",
       "      <td>1.83</td>\n",
       "      <td>2.57</td>\n",
       "      <td>43.75</td>\n",
       "      <td>1.40</td>\n",
       "      <td>2.11</td>\n",
       "      <td>5261.094919</td>\n",
       "    </tr>\n",
       "  </tbody>\n",
       "</table>\n",
       "</div>"
      ],
      "text/plain": [
       "   WellIndex    Por  LogPerm    AI  Brittle   TOC    VR   Production\n",
       "0          1  15.91     1.67  3.06    14.05  1.36  1.85   177.381958\n",
       "1          2  15.34     1.65  2.60    31.88  1.37  1.79  1479.767778\n",
       "2          3  20.45     2.02  3.13    63.67  1.79  2.53  4421.221583\n",
       "3          4  11.95     1.14  3.90    58.81  0.40  2.03  1488.317629\n",
       "4          5  19.53     1.83  2.57    43.75  1.40  2.11  5261.094919"
      ]
     },
     "execution_count": 2,
     "metadata": {},
     "output_type": "execute_result"
    }
   ],
   "source": [
    "my_data = pd.read_csv(r\"https://raw.githubusercontent.com/GeostatsGuy/GeoDataSets/master/unconv_MV.csv\") # load the\n",
    "          # comma delimited data file from Dr. Pyrcz's GeoDataSets GitHub repository\n",
    "my_data.head()"
   ]
  },
  {
   "cell_type": "markdown",
   "metadata": {},
   "source": [
    "###  Part 1. Step by step low level code"
   ]
  },
  {
   "cell_type": "markdown",
   "metadata": {},
   "source": [
    "Using the K nearest neighbors approach, let's build a basic workflow to predict production from por, LogPerm, AI, brittle, TOC and VR. "
   ]
  },
  {
   "cell_type": "code",
   "execution_count": 3,
   "metadata": {},
   "outputs": [
    {
     "name": "stdout",
     "output_type": "stream",
     "text": [
      "Test score: 0.77\n"
     ]
    }
   ],
   "source": [
    "#Load and split the data\n",
    "\n",
    "X = my_data.loc[:,['Por','LogPerm','AI', 'Brittle', 'TOC', 'VR']]\n",
    "y = my_data.loc[:,'Production'] \n",
    "X_train, X_test, y_train, y_test = train_test_split(X, y, test_size=0.30,random_state=0)\n",
    "\n",
    "#Compute minimum and maximum on the training data\n",
    "scaler = MinMaxScaler().fit(X_train)\n",
    "\n",
    "#Rescale the training data\n",
    "X_train_scaled = scaler.transform(X_train)\n",
    "\n",
    "knn = KNeighborsRegressor()\n",
    "# learn an SVM on the scaled training data\n",
    "knn.fit(X_train_scaled, y_train)\n",
    "# scale the test data and score the scaled data\n",
    "X_test_scaled = scaler.transform(X_test)\n",
    "\n",
    "print(\"Test score: {:.2f}\".format(knn.score(X_test_scaled, y_test)))"
   ]
  },
  {
   "cell_type": "markdown",
   "metadata": {},
   "source": [
    "Now, let's select the best parameters for KNN using a naive approach:"
   ]
  },
  {
   "cell_type": "code",
   "execution_count": 4,
   "metadata": {},
   "outputs": [
    {
     "name": "stdout",
     "output_type": "stream",
     "text": [
      "Best cross-validation accuracy: 0.76\n",
      "Best set score: 0.72\n",
      "Best parameters:  {'n_neighbors': 20, 'p': 2, 'weights': 'distance'}\n"
     ]
    }
   ],
   "source": [
    "# for illustration purposes only, don't use this code! \n",
    "warnings.filterwarnings(\"ignore\")\n",
    "\n",
    "param_grid = {'n_neighbors': [*range(0, 200, 20)],\n",
    "              'weights': ['uniform','distance'],\n",
    "              'p':[1,2]}\n",
    "\n",
    "grid = GridSearchCV(KNeighborsRegressor(), param_grid=param_grid, cv=5)\n",
    "grid.fit(X_train_scaled, y_train)\n",
    "print(\"Best cross-validation accuracy: {:.2f}\".format(grid.best_score_)) \n",
    "print(\"Best set score: {:.2f}\".format(grid.score(X_test_scaled, y_test))) \n",
    "print(\"Best parameters: \", grid.best_params_)\n"
   ]
  },
  {
   "cell_type": "markdown",
   "metadata": {},
   "source": [
    "We just ran a grid search using GridSearchCV using the scaled data. However, in the code above, we are leaking data, as the data was scaled using all the train data. Thus, when performing the cross-validation and splitting the training data set into training folds and validation folds, the validation folds already have some information about the testing folds due to how the data was scaled. For this reason, the splits in the cross-validation no longer correctly predict how the model will do on new data.\n",
    "To solve the issue, the scaling or any other preprocessing step should be done after splitting the dataset for cross-validation. To achieve this scikit-learn with the cross_val_score function and the GridSearchCV function, we can use the Pipeline class!!"
   ]
  },
  {
   "cell_type": "markdown",
   "metadata": {},
   "source": [
    "###  Part 2. Building Pipelines"
   ]
  },
  {
   "cell_type": "markdown",
   "metadata": {},
   "source": [
    "The Pipeline class from scikit-learn is a class that allows joining multiple processing steps. This class behaves like other models in the scikit-learn library, as the Pipeline class has fit, predict, and score methods. We use pipelines when we want to \"glue\" multiple preprocessing steps with a supervised model. In the example below we use a pipeline to glue the steps of the workflow in part 1. "
   ]
  },
  {
   "cell_type": "markdown",
   "metadata": {},
   "source": [
    "### I. Building a basic Pipeline"
   ]
  },
  {
   "cell_type": "markdown",
   "metadata": {},
   "source": [
    "Let's look at how we can built a basic Pipeline class for training a KNN in our data set  after scaling the data with MinMaxScaler. \n",
    "For building the pipeline object we have to provide a list of steps. Each step is a tuple with the following syntax: [(\"any sting of your choosing\"), instance of an estimator)]"
   ]
  },
  {
   "cell_type": "code",
   "execution_count": 5,
   "metadata": {},
   "outputs": [],
   "source": [
    "###create steps as a list of tuples\n",
    "steps =[(\" standard_scaler\", MinMaxScaler()), ('knear', KNeighborsRegressor())]"
   ]
  },
  {
   "cell_type": "markdown",
   "metadata": {},
   "source": [
    "Then we will give the steps to the pipeline class:"
   ]
  },
  {
   "cell_type": "code",
   "execution_count": 6,
   "metadata": {},
   "outputs": [],
   "source": [
    "pipe = Pipeline(steps)"
   ]
  },
  {
   "cell_type": "markdown",
   "metadata": {},
   "source": [
    "Let's visualize our first pipeline!"
   ]
  },
  {
   "cell_type": "code",
   "execution_count": 7,
   "metadata": {},
   "outputs": [],
   "source": [
    "set_config(display='diagram')"
   ]
  },
  {
   "cell_type": "code",
   "execution_count": 8,
   "metadata": {},
   "outputs": [
    {
     "data": {
      "text/html": [
       "<style>#sk-1e736417-de1d-43d5-b27e-c37e5fcca258 {color: black;background-color: white;}#sk-1e736417-de1d-43d5-b27e-c37e5fcca258 pre{padding: 0;}#sk-1e736417-de1d-43d5-b27e-c37e5fcca258 div.sk-toggleable {background-color: white;}#sk-1e736417-de1d-43d5-b27e-c37e5fcca258 label.sk-toggleable__label {cursor: pointer;display: block;width: 100%;margin-bottom: 0;padding: 0.3em;box-sizing: border-box;text-align: center;}#sk-1e736417-de1d-43d5-b27e-c37e5fcca258 label.sk-toggleable__label-arrow:before {content: \"▸\";float: left;margin-right: 0.25em;color: #696969;}#sk-1e736417-de1d-43d5-b27e-c37e5fcca258 label.sk-toggleable__label-arrow:hover:before {color: black;}#sk-1e736417-de1d-43d5-b27e-c37e5fcca258 div.sk-estimator:hover label.sk-toggleable__label-arrow:before {color: black;}#sk-1e736417-de1d-43d5-b27e-c37e5fcca258 div.sk-toggleable__content {max-height: 0;max-width: 0;overflow: hidden;text-align: left;background-color: #f0f8ff;}#sk-1e736417-de1d-43d5-b27e-c37e5fcca258 div.sk-toggleable__content pre {margin: 0.2em;color: black;border-radius: 0.25em;background-color: #f0f8ff;}#sk-1e736417-de1d-43d5-b27e-c37e5fcca258 input.sk-toggleable__control:checked~div.sk-toggleable__content {max-height: 200px;max-width: 100%;overflow: auto;}#sk-1e736417-de1d-43d5-b27e-c37e5fcca258 input.sk-toggleable__control:checked~label.sk-toggleable__label-arrow:before {content: \"▾\";}#sk-1e736417-de1d-43d5-b27e-c37e5fcca258 div.sk-estimator input.sk-toggleable__control:checked~label.sk-toggleable__label {background-color: #d4ebff;}#sk-1e736417-de1d-43d5-b27e-c37e5fcca258 div.sk-label input.sk-toggleable__control:checked~label.sk-toggleable__label {background-color: #d4ebff;}#sk-1e736417-de1d-43d5-b27e-c37e5fcca258 input.sk-hidden--visually {border: 0;clip: rect(1px 1px 1px 1px);clip: rect(1px, 1px, 1px, 1px);height: 1px;margin: -1px;overflow: hidden;padding: 0;position: absolute;width: 1px;}#sk-1e736417-de1d-43d5-b27e-c37e5fcca258 div.sk-estimator {font-family: monospace;background-color: #f0f8ff;border: 1px dotted black;border-radius: 0.25em;box-sizing: border-box;margin-bottom: 0.5em;}#sk-1e736417-de1d-43d5-b27e-c37e5fcca258 div.sk-estimator:hover {background-color: #d4ebff;}#sk-1e736417-de1d-43d5-b27e-c37e5fcca258 div.sk-parallel-item::after {content: \"\";width: 100%;border-bottom: 1px solid gray;flex-grow: 1;}#sk-1e736417-de1d-43d5-b27e-c37e5fcca258 div.sk-label:hover label.sk-toggleable__label {background-color: #d4ebff;}#sk-1e736417-de1d-43d5-b27e-c37e5fcca258 div.sk-serial::before {content: \"\";position: absolute;border-left: 1px solid gray;box-sizing: border-box;top: 2em;bottom: 0;left: 50%;}#sk-1e736417-de1d-43d5-b27e-c37e5fcca258 div.sk-serial {display: flex;flex-direction: column;align-items: center;background-color: white;padding-right: 0.2em;padding-left: 0.2em;}#sk-1e736417-de1d-43d5-b27e-c37e5fcca258 div.sk-item {z-index: 1;}#sk-1e736417-de1d-43d5-b27e-c37e5fcca258 div.sk-parallel {display: flex;align-items: stretch;justify-content: center;background-color: white;}#sk-1e736417-de1d-43d5-b27e-c37e5fcca258 div.sk-parallel::before {content: \"\";position: absolute;border-left: 1px solid gray;box-sizing: border-box;top: 2em;bottom: 0;left: 50%;}#sk-1e736417-de1d-43d5-b27e-c37e5fcca258 div.sk-parallel-item {display: flex;flex-direction: column;position: relative;background-color: white;}#sk-1e736417-de1d-43d5-b27e-c37e5fcca258 div.sk-parallel-item:first-child::after {align-self: flex-end;width: 50%;}#sk-1e736417-de1d-43d5-b27e-c37e5fcca258 div.sk-parallel-item:last-child::after {align-self: flex-start;width: 50%;}#sk-1e736417-de1d-43d5-b27e-c37e5fcca258 div.sk-parallel-item:only-child::after {width: 0;}#sk-1e736417-de1d-43d5-b27e-c37e5fcca258 div.sk-dashed-wrapped {border: 1px dashed gray;margin: 0 0.4em 0.5em 0.4em;box-sizing: border-box;padding-bottom: 0.4em;background-color: white;position: relative;}#sk-1e736417-de1d-43d5-b27e-c37e5fcca258 div.sk-label label {font-family: monospace;font-weight: bold;background-color: white;display: inline-block;line-height: 1.2em;}#sk-1e736417-de1d-43d5-b27e-c37e5fcca258 div.sk-label-container {position: relative;z-index: 2;text-align: center;}#sk-1e736417-de1d-43d5-b27e-c37e5fcca258 div.sk-container {/* jupyter's `normalize.less` sets `[hidden] { display: none; }` but bootstrap.min.css set `[hidden] { display: none !important; }` so we also need the `!important` here to be able to override the default hidden behavior on the sphinx rendered scikit-learn.org. See: https://github.com/scikit-learn/scikit-learn/issues/21755 */display: inline-block !important;position: relative;}#sk-1e736417-de1d-43d5-b27e-c37e5fcca258 div.sk-text-repr-fallback {display: none;}</style><div id=\"sk-1e736417-de1d-43d5-b27e-c37e5fcca258\" class=\"sk-top-container\"><div class=\"sk-text-repr-fallback\"><pre>Pipeline(steps=[(&#x27; standard_scaler&#x27;, MinMaxScaler()),\n",
       "                (&#x27;knear&#x27;, KNeighborsRegressor())])</pre><b>Please rerun this cell to show the HTML repr or trust the notebook.</b></div><div class=\"sk-container\" hidden><div class=\"sk-item sk-dashed-wrapped\"><div class=\"sk-label-container\"><div class=\"sk-label sk-toggleable\"><input class=\"sk-toggleable__control sk-hidden--visually\" id=\"42430908-8ad8-4dd4-a5d4-fbe530f5e4bd\" type=\"checkbox\" ><label for=\"42430908-8ad8-4dd4-a5d4-fbe530f5e4bd\" class=\"sk-toggleable__label sk-toggleable__label-arrow\">Pipeline</label><div class=\"sk-toggleable__content\"><pre>Pipeline(steps=[(&#x27; standard_scaler&#x27;, MinMaxScaler()),\n",
       "                (&#x27;knear&#x27;, KNeighborsRegressor())])</pre></div></div></div><div class=\"sk-serial\"><div class=\"sk-item\"><div class=\"sk-estimator sk-toggleable\"><input class=\"sk-toggleable__control sk-hidden--visually\" id=\"4179a9df-c86f-42e7-8e87-e2bf90c12ccc\" type=\"checkbox\" ><label for=\"4179a9df-c86f-42e7-8e87-e2bf90c12ccc\" class=\"sk-toggleable__label sk-toggleable__label-arrow\">MinMaxScaler</label><div class=\"sk-toggleable__content\"><pre>MinMaxScaler()</pre></div></div></div><div class=\"sk-item\"><div class=\"sk-estimator sk-toggleable\"><input class=\"sk-toggleable__control sk-hidden--visually\" id=\"1658141d-79be-49e2-befe-1677a9f72e5b\" type=\"checkbox\" ><label for=\"1658141d-79be-49e2-befe-1677a9f72e5b\" class=\"sk-toggleable__label sk-toggleable__label-arrow\">KNeighborsRegressor</label><div class=\"sk-toggleable__content\"><pre>KNeighborsRegressor()</pre></div></div></div></div></div></div></div>"
      ],
      "text/plain": [
       "Pipeline(steps=[(' standard_scaler', MinMaxScaler()),\n",
       "                ('knear', KNeighborsRegressor())])"
      ]
     },
     "execution_count": 8,
     "metadata": {},
     "output_type": "execute_result"
    }
   ],
   "source": [
    "pipe"
   ]
  },
  {
   "cell_type": "markdown",
   "metadata": {},
   "source": [
    "Now we can fit our pipeline like any other scikit-learn estimator:"
   ]
  },
  {
   "cell_type": "code",
   "execution_count": 9,
   "metadata": {},
   "outputs": [
    {
     "data": {
      "text/html": [
       "<style>#sk-657c9ac9-4b24-457e-812d-45e698e07a11 {color: black;background-color: white;}#sk-657c9ac9-4b24-457e-812d-45e698e07a11 pre{padding: 0;}#sk-657c9ac9-4b24-457e-812d-45e698e07a11 div.sk-toggleable {background-color: white;}#sk-657c9ac9-4b24-457e-812d-45e698e07a11 label.sk-toggleable__label {cursor: pointer;display: block;width: 100%;margin-bottom: 0;padding: 0.3em;box-sizing: border-box;text-align: center;}#sk-657c9ac9-4b24-457e-812d-45e698e07a11 label.sk-toggleable__label-arrow:before {content: \"▸\";float: left;margin-right: 0.25em;color: #696969;}#sk-657c9ac9-4b24-457e-812d-45e698e07a11 label.sk-toggleable__label-arrow:hover:before {color: black;}#sk-657c9ac9-4b24-457e-812d-45e698e07a11 div.sk-estimator:hover label.sk-toggleable__label-arrow:before {color: black;}#sk-657c9ac9-4b24-457e-812d-45e698e07a11 div.sk-toggleable__content {max-height: 0;max-width: 0;overflow: hidden;text-align: left;background-color: #f0f8ff;}#sk-657c9ac9-4b24-457e-812d-45e698e07a11 div.sk-toggleable__content pre {margin: 0.2em;color: black;border-radius: 0.25em;background-color: #f0f8ff;}#sk-657c9ac9-4b24-457e-812d-45e698e07a11 input.sk-toggleable__control:checked~div.sk-toggleable__content {max-height: 200px;max-width: 100%;overflow: auto;}#sk-657c9ac9-4b24-457e-812d-45e698e07a11 input.sk-toggleable__control:checked~label.sk-toggleable__label-arrow:before {content: \"▾\";}#sk-657c9ac9-4b24-457e-812d-45e698e07a11 div.sk-estimator input.sk-toggleable__control:checked~label.sk-toggleable__label {background-color: #d4ebff;}#sk-657c9ac9-4b24-457e-812d-45e698e07a11 div.sk-label input.sk-toggleable__control:checked~label.sk-toggleable__label {background-color: #d4ebff;}#sk-657c9ac9-4b24-457e-812d-45e698e07a11 input.sk-hidden--visually {border: 0;clip: rect(1px 1px 1px 1px);clip: rect(1px, 1px, 1px, 1px);height: 1px;margin: -1px;overflow: hidden;padding: 0;position: absolute;width: 1px;}#sk-657c9ac9-4b24-457e-812d-45e698e07a11 div.sk-estimator {font-family: monospace;background-color: #f0f8ff;border: 1px dotted black;border-radius: 0.25em;box-sizing: border-box;margin-bottom: 0.5em;}#sk-657c9ac9-4b24-457e-812d-45e698e07a11 div.sk-estimator:hover {background-color: #d4ebff;}#sk-657c9ac9-4b24-457e-812d-45e698e07a11 div.sk-parallel-item::after {content: \"\";width: 100%;border-bottom: 1px solid gray;flex-grow: 1;}#sk-657c9ac9-4b24-457e-812d-45e698e07a11 div.sk-label:hover label.sk-toggleable__label {background-color: #d4ebff;}#sk-657c9ac9-4b24-457e-812d-45e698e07a11 div.sk-serial::before {content: \"\";position: absolute;border-left: 1px solid gray;box-sizing: border-box;top: 2em;bottom: 0;left: 50%;}#sk-657c9ac9-4b24-457e-812d-45e698e07a11 div.sk-serial {display: flex;flex-direction: column;align-items: center;background-color: white;padding-right: 0.2em;padding-left: 0.2em;}#sk-657c9ac9-4b24-457e-812d-45e698e07a11 div.sk-item {z-index: 1;}#sk-657c9ac9-4b24-457e-812d-45e698e07a11 div.sk-parallel {display: flex;align-items: stretch;justify-content: center;background-color: white;}#sk-657c9ac9-4b24-457e-812d-45e698e07a11 div.sk-parallel::before {content: \"\";position: absolute;border-left: 1px solid gray;box-sizing: border-box;top: 2em;bottom: 0;left: 50%;}#sk-657c9ac9-4b24-457e-812d-45e698e07a11 div.sk-parallel-item {display: flex;flex-direction: column;position: relative;background-color: white;}#sk-657c9ac9-4b24-457e-812d-45e698e07a11 div.sk-parallel-item:first-child::after {align-self: flex-end;width: 50%;}#sk-657c9ac9-4b24-457e-812d-45e698e07a11 div.sk-parallel-item:last-child::after {align-self: flex-start;width: 50%;}#sk-657c9ac9-4b24-457e-812d-45e698e07a11 div.sk-parallel-item:only-child::after {width: 0;}#sk-657c9ac9-4b24-457e-812d-45e698e07a11 div.sk-dashed-wrapped {border: 1px dashed gray;margin: 0 0.4em 0.5em 0.4em;box-sizing: border-box;padding-bottom: 0.4em;background-color: white;position: relative;}#sk-657c9ac9-4b24-457e-812d-45e698e07a11 div.sk-label label {font-family: monospace;font-weight: bold;background-color: white;display: inline-block;line-height: 1.2em;}#sk-657c9ac9-4b24-457e-812d-45e698e07a11 div.sk-label-container {position: relative;z-index: 2;text-align: center;}#sk-657c9ac9-4b24-457e-812d-45e698e07a11 div.sk-container {/* jupyter's `normalize.less` sets `[hidden] { display: none; }` but bootstrap.min.css set `[hidden] { display: none !important; }` so we also need the `!important` here to be able to override the default hidden behavior on the sphinx rendered scikit-learn.org. See: https://github.com/scikit-learn/scikit-learn/issues/21755 */display: inline-block !important;position: relative;}#sk-657c9ac9-4b24-457e-812d-45e698e07a11 div.sk-text-repr-fallback {display: none;}</style><div id=\"sk-657c9ac9-4b24-457e-812d-45e698e07a11\" class=\"sk-top-container\"><div class=\"sk-text-repr-fallback\"><pre>Pipeline(steps=[(&#x27; standard_scaler&#x27;, MinMaxScaler()),\n",
       "                (&#x27;knear&#x27;, KNeighborsRegressor())])</pre><b>Please rerun this cell to show the HTML repr or trust the notebook.</b></div><div class=\"sk-container\" hidden><div class=\"sk-item sk-dashed-wrapped\"><div class=\"sk-label-container\"><div class=\"sk-label sk-toggleable\"><input class=\"sk-toggleable__control sk-hidden--visually\" id=\"667300ac-cfd4-4ad9-a2a3-d8a5b0f936e0\" type=\"checkbox\" ><label for=\"667300ac-cfd4-4ad9-a2a3-d8a5b0f936e0\" class=\"sk-toggleable__label sk-toggleable__label-arrow\">Pipeline</label><div class=\"sk-toggleable__content\"><pre>Pipeline(steps=[(&#x27; standard_scaler&#x27;, MinMaxScaler()),\n",
       "                (&#x27;knear&#x27;, KNeighborsRegressor())])</pre></div></div></div><div class=\"sk-serial\"><div class=\"sk-item\"><div class=\"sk-estimator sk-toggleable\"><input class=\"sk-toggleable__control sk-hidden--visually\" id=\"9649976a-c969-4e41-ad47-61a94beb9e93\" type=\"checkbox\" ><label for=\"9649976a-c969-4e41-ad47-61a94beb9e93\" class=\"sk-toggleable__label sk-toggleable__label-arrow\">MinMaxScaler</label><div class=\"sk-toggleable__content\"><pre>MinMaxScaler()</pre></div></div></div><div class=\"sk-item\"><div class=\"sk-estimator sk-toggleable\"><input class=\"sk-toggleable__control sk-hidden--visually\" id=\"f2513eb5-b0e8-4ecd-a081-89f9a82c5dd4\" type=\"checkbox\" ><label for=\"f2513eb5-b0e8-4ecd-a081-89f9a82c5dd4\" class=\"sk-toggleable__label sk-toggleable__label-arrow\">KNeighborsRegressor</label><div class=\"sk-toggleable__content\"><pre>KNeighborsRegressor()</pre></div></div></div></div></div></div></div>"
      ],
      "text/plain": [
       "Pipeline(steps=[(' standard_scaler', MinMaxScaler()),\n",
       "                ('knear', KNeighborsRegressor())])"
      ]
     },
     "execution_count": 9,
     "metadata": {},
     "output_type": "execute_result"
    }
   ],
   "source": [
    "pipe.fit(X_train,y_train)"
   ]
  },
  {
   "cell_type": "markdown",
   "metadata": {},
   "source": [
    "Here, pipe.fit first calls the first step (MinMaxScaler), then transforms the taining data using the scaler, and finally fits the KNN with the scaled data. "
   ]
  },
  {
   "cell_type": "code",
   "execution_count": 10,
   "metadata": {},
   "outputs": [
    {
     "name": "stdout",
     "output_type": "stream",
     "text": [
      "Test score: 0.77\n"
     ]
    }
   ],
   "source": [
    "#evaluate on test data\n",
    "print(\"Test score: {:.2f}\".format(pipe.score(X_test, y_test)))"
   ]
  },
  {
   "cell_type": "markdown",
   "metadata": {},
   "source": [
    "Our results are the same as the ones achieved using workflow 1!"
   ]
  },
  {
   "cell_type": "markdown",
   "metadata": {},
   "source": [
    "### II. Displaying a pipeline with standard scaler, dimensionality reduction and then estimator"
   ]
  },
  {
   "cell_type": "markdown",
   "metadata": {},
   "source": [
    "Let's include a dimensionality reduction step using PCA in our pipeline:"
   ]
  },
  {
   "cell_type": "code",
   "execution_count": 11,
   "metadata": {},
   "outputs": [
    {
     "data": {
      "text/html": [
       "<style>#sk-fdae325a-93e3-4c04-9a77-3c089e18cb80 {color: black;background-color: white;}#sk-fdae325a-93e3-4c04-9a77-3c089e18cb80 pre{padding: 0;}#sk-fdae325a-93e3-4c04-9a77-3c089e18cb80 div.sk-toggleable {background-color: white;}#sk-fdae325a-93e3-4c04-9a77-3c089e18cb80 label.sk-toggleable__label {cursor: pointer;display: block;width: 100%;margin-bottom: 0;padding: 0.3em;box-sizing: border-box;text-align: center;}#sk-fdae325a-93e3-4c04-9a77-3c089e18cb80 label.sk-toggleable__label-arrow:before {content: \"▸\";float: left;margin-right: 0.25em;color: #696969;}#sk-fdae325a-93e3-4c04-9a77-3c089e18cb80 label.sk-toggleable__label-arrow:hover:before {color: black;}#sk-fdae325a-93e3-4c04-9a77-3c089e18cb80 div.sk-estimator:hover label.sk-toggleable__label-arrow:before {color: black;}#sk-fdae325a-93e3-4c04-9a77-3c089e18cb80 div.sk-toggleable__content {max-height: 0;max-width: 0;overflow: hidden;text-align: left;background-color: #f0f8ff;}#sk-fdae325a-93e3-4c04-9a77-3c089e18cb80 div.sk-toggleable__content pre {margin: 0.2em;color: black;border-radius: 0.25em;background-color: #f0f8ff;}#sk-fdae325a-93e3-4c04-9a77-3c089e18cb80 input.sk-toggleable__control:checked~div.sk-toggleable__content {max-height: 200px;max-width: 100%;overflow: auto;}#sk-fdae325a-93e3-4c04-9a77-3c089e18cb80 input.sk-toggleable__control:checked~label.sk-toggleable__label-arrow:before {content: \"▾\";}#sk-fdae325a-93e3-4c04-9a77-3c089e18cb80 div.sk-estimator input.sk-toggleable__control:checked~label.sk-toggleable__label {background-color: #d4ebff;}#sk-fdae325a-93e3-4c04-9a77-3c089e18cb80 div.sk-label input.sk-toggleable__control:checked~label.sk-toggleable__label {background-color: #d4ebff;}#sk-fdae325a-93e3-4c04-9a77-3c089e18cb80 input.sk-hidden--visually {border: 0;clip: rect(1px 1px 1px 1px);clip: rect(1px, 1px, 1px, 1px);height: 1px;margin: -1px;overflow: hidden;padding: 0;position: absolute;width: 1px;}#sk-fdae325a-93e3-4c04-9a77-3c089e18cb80 div.sk-estimator {font-family: monospace;background-color: #f0f8ff;border: 1px dotted black;border-radius: 0.25em;box-sizing: border-box;margin-bottom: 0.5em;}#sk-fdae325a-93e3-4c04-9a77-3c089e18cb80 div.sk-estimator:hover {background-color: #d4ebff;}#sk-fdae325a-93e3-4c04-9a77-3c089e18cb80 div.sk-parallel-item::after {content: \"\";width: 100%;border-bottom: 1px solid gray;flex-grow: 1;}#sk-fdae325a-93e3-4c04-9a77-3c089e18cb80 div.sk-label:hover label.sk-toggleable__label {background-color: #d4ebff;}#sk-fdae325a-93e3-4c04-9a77-3c089e18cb80 div.sk-serial::before {content: \"\";position: absolute;border-left: 1px solid gray;box-sizing: border-box;top: 2em;bottom: 0;left: 50%;}#sk-fdae325a-93e3-4c04-9a77-3c089e18cb80 div.sk-serial {display: flex;flex-direction: column;align-items: center;background-color: white;padding-right: 0.2em;padding-left: 0.2em;}#sk-fdae325a-93e3-4c04-9a77-3c089e18cb80 div.sk-item {z-index: 1;}#sk-fdae325a-93e3-4c04-9a77-3c089e18cb80 div.sk-parallel {display: flex;align-items: stretch;justify-content: center;background-color: white;}#sk-fdae325a-93e3-4c04-9a77-3c089e18cb80 div.sk-parallel::before {content: \"\";position: absolute;border-left: 1px solid gray;box-sizing: border-box;top: 2em;bottom: 0;left: 50%;}#sk-fdae325a-93e3-4c04-9a77-3c089e18cb80 div.sk-parallel-item {display: flex;flex-direction: column;position: relative;background-color: white;}#sk-fdae325a-93e3-4c04-9a77-3c089e18cb80 div.sk-parallel-item:first-child::after {align-self: flex-end;width: 50%;}#sk-fdae325a-93e3-4c04-9a77-3c089e18cb80 div.sk-parallel-item:last-child::after {align-self: flex-start;width: 50%;}#sk-fdae325a-93e3-4c04-9a77-3c089e18cb80 div.sk-parallel-item:only-child::after {width: 0;}#sk-fdae325a-93e3-4c04-9a77-3c089e18cb80 div.sk-dashed-wrapped {border: 1px dashed gray;margin: 0 0.4em 0.5em 0.4em;box-sizing: border-box;padding-bottom: 0.4em;background-color: white;position: relative;}#sk-fdae325a-93e3-4c04-9a77-3c089e18cb80 div.sk-label label {font-family: monospace;font-weight: bold;background-color: white;display: inline-block;line-height: 1.2em;}#sk-fdae325a-93e3-4c04-9a77-3c089e18cb80 div.sk-label-container {position: relative;z-index: 2;text-align: center;}#sk-fdae325a-93e3-4c04-9a77-3c089e18cb80 div.sk-container {/* jupyter's `normalize.less` sets `[hidden] { display: none; }` but bootstrap.min.css set `[hidden] { display: none !important; }` so we also need the `!important` here to be able to override the default hidden behavior on the sphinx rendered scikit-learn.org. See: https://github.com/scikit-learn/scikit-learn/issues/21755 */display: inline-block !important;position: relative;}#sk-fdae325a-93e3-4c04-9a77-3c089e18cb80 div.sk-text-repr-fallback {display: none;}</style><div id=\"sk-fdae325a-93e3-4c04-9a77-3c089e18cb80\" class=\"sk-top-container\"><div class=\"sk-text-repr-fallback\"><pre>Pipeline(steps=[(&#x27;scaling&#x27;, StandardScaler()), (&#x27;PCA&#x27;, PCA(n_components=3)),\n",
       "                (&#x27;knear&#x27;, KNeighborsRegressor())])</pre><b>Please rerun this cell to show the HTML repr or trust the notebook.</b></div><div class=\"sk-container\" hidden><div class=\"sk-item sk-dashed-wrapped\"><div class=\"sk-label-container\"><div class=\"sk-label sk-toggleable\"><input class=\"sk-toggleable__control sk-hidden--visually\" id=\"1d467d58-ccb3-4889-923a-6bb1a2bc59c0\" type=\"checkbox\" ><label for=\"1d467d58-ccb3-4889-923a-6bb1a2bc59c0\" class=\"sk-toggleable__label sk-toggleable__label-arrow\">Pipeline</label><div class=\"sk-toggleable__content\"><pre>Pipeline(steps=[(&#x27;scaling&#x27;, StandardScaler()), (&#x27;PCA&#x27;, PCA(n_components=3)),\n",
       "                (&#x27;knear&#x27;, KNeighborsRegressor())])</pre></div></div></div><div class=\"sk-serial\"><div class=\"sk-item\"><div class=\"sk-estimator sk-toggleable\"><input class=\"sk-toggleable__control sk-hidden--visually\" id=\"34082cbb-5799-4708-b8cf-8c7d955ee382\" type=\"checkbox\" ><label for=\"34082cbb-5799-4708-b8cf-8c7d955ee382\" class=\"sk-toggleable__label sk-toggleable__label-arrow\">StandardScaler</label><div class=\"sk-toggleable__content\"><pre>StandardScaler()</pre></div></div></div><div class=\"sk-item\"><div class=\"sk-estimator sk-toggleable\"><input class=\"sk-toggleable__control sk-hidden--visually\" id=\"26855c9f-9704-4635-9f73-8d9e8e89ae84\" type=\"checkbox\" ><label for=\"26855c9f-9704-4635-9f73-8d9e8e89ae84\" class=\"sk-toggleable__label sk-toggleable__label-arrow\">PCA</label><div class=\"sk-toggleable__content\"><pre>PCA(n_components=3)</pre></div></div></div><div class=\"sk-item\"><div class=\"sk-estimator sk-toggleable\"><input class=\"sk-toggleable__control sk-hidden--visually\" id=\"4a9a7f16-cb2e-4122-a5b9-b9eeb767d79f\" type=\"checkbox\" ><label for=\"4a9a7f16-cb2e-4122-a5b9-b9eeb767d79f\" class=\"sk-toggleable__label sk-toggleable__label-arrow\">KNeighborsRegressor</label><div class=\"sk-toggleable__content\"><pre>KNeighborsRegressor()</pre></div></div></div></div></div></div></div>"
      ],
      "text/plain": [
       "Pipeline(steps=[('scaling', StandardScaler()), ('PCA', PCA(n_components=3)),\n",
       "                ('knear', KNeighborsRegressor())])"
      ]
     },
     "execution_count": 11,
     "metadata": {},
     "output_type": "execute_result"
    }
   ],
   "source": [
    "steps=[(\"scaling\",StandardScaler()), (\"PCA\",PCA(n_components=3)), ('knear', KNeighborsRegressor())]\n",
    "pipe2 =Pipeline(steps)\n",
    "pipe2"
   ]
  },
  {
   "cell_type": "markdown",
   "metadata": {},
   "source": [
    "The class pipeline, let you apply only one of the steps in the data set. For instance, let's apply only the standard scaling:"
   ]
  },
  {
   "cell_type": "code",
   "execution_count": 12,
   "metadata": {},
   "outputs": [
    {
     "data": {
      "text/plain": [
       "array([[ 1.14126637,  1.96045125,  0.27801418, -0.4657294 , -0.2645799 ,\n",
       "        -0.57674243],\n",
       "       [-0.39512967, -1.82501191,  0.34738147,  0.75907862, -0.78224858,\n",
       "         0.40435041],\n",
       "       [ 0.23324644,  0.76375644, -0.51970963, -0.61466606,  0.33273012,\n",
       "        -0.51133624],\n",
       "       ...,\n",
       "       [-0.28327214,  0.76375644, -0.79717878,  1.40904341,  0.01416478,\n",
       "        -0.05349292],\n",
       "       [ 0.3845831 ,  0.64164473, -0.74515332, -0.2926232 , -0.10529722,\n",
       "        -1.26350742],\n",
       "       [-1.51041502, -1.3609874 ,  1.43991625,  2.10081498, -0.48359357,\n",
       "         2.03950514]])"
      ]
     },
     "execution_count": 12,
     "metadata": {},
     "output_type": "execute_result"
    }
   ],
   "source": [
    "pipe2[\"scaling\"].fit_transform(X_train)"
   ]
  },
  {
   "cell_type": "markdown",
   "metadata": {},
   "source": [
    "Here, pipe.fit first calls fit on the first step (the scaler), then transforms the training data using the scaler, finds the PCA of the training data and finally fits the KNN with the scaled data. "
   ]
  },
  {
   "cell_type": "code",
   "execution_count": 13,
   "metadata": {},
   "outputs": [
    {
     "data": {
      "text/html": [
       "<style>#sk-0dcd98a5-3269-496f-aab2-6344c8a4b15a {color: black;background-color: white;}#sk-0dcd98a5-3269-496f-aab2-6344c8a4b15a pre{padding: 0;}#sk-0dcd98a5-3269-496f-aab2-6344c8a4b15a div.sk-toggleable {background-color: white;}#sk-0dcd98a5-3269-496f-aab2-6344c8a4b15a label.sk-toggleable__label {cursor: pointer;display: block;width: 100%;margin-bottom: 0;padding: 0.3em;box-sizing: border-box;text-align: center;}#sk-0dcd98a5-3269-496f-aab2-6344c8a4b15a label.sk-toggleable__label-arrow:before {content: \"▸\";float: left;margin-right: 0.25em;color: #696969;}#sk-0dcd98a5-3269-496f-aab2-6344c8a4b15a label.sk-toggleable__label-arrow:hover:before {color: black;}#sk-0dcd98a5-3269-496f-aab2-6344c8a4b15a div.sk-estimator:hover label.sk-toggleable__label-arrow:before {color: black;}#sk-0dcd98a5-3269-496f-aab2-6344c8a4b15a div.sk-toggleable__content {max-height: 0;max-width: 0;overflow: hidden;text-align: left;background-color: #f0f8ff;}#sk-0dcd98a5-3269-496f-aab2-6344c8a4b15a div.sk-toggleable__content pre {margin: 0.2em;color: black;border-radius: 0.25em;background-color: #f0f8ff;}#sk-0dcd98a5-3269-496f-aab2-6344c8a4b15a input.sk-toggleable__control:checked~div.sk-toggleable__content {max-height: 200px;max-width: 100%;overflow: auto;}#sk-0dcd98a5-3269-496f-aab2-6344c8a4b15a input.sk-toggleable__control:checked~label.sk-toggleable__label-arrow:before {content: \"▾\";}#sk-0dcd98a5-3269-496f-aab2-6344c8a4b15a div.sk-estimator input.sk-toggleable__control:checked~label.sk-toggleable__label {background-color: #d4ebff;}#sk-0dcd98a5-3269-496f-aab2-6344c8a4b15a div.sk-label input.sk-toggleable__control:checked~label.sk-toggleable__label {background-color: #d4ebff;}#sk-0dcd98a5-3269-496f-aab2-6344c8a4b15a input.sk-hidden--visually {border: 0;clip: rect(1px 1px 1px 1px);clip: rect(1px, 1px, 1px, 1px);height: 1px;margin: -1px;overflow: hidden;padding: 0;position: absolute;width: 1px;}#sk-0dcd98a5-3269-496f-aab2-6344c8a4b15a div.sk-estimator {font-family: monospace;background-color: #f0f8ff;border: 1px dotted black;border-radius: 0.25em;box-sizing: border-box;margin-bottom: 0.5em;}#sk-0dcd98a5-3269-496f-aab2-6344c8a4b15a div.sk-estimator:hover {background-color: #d4ebff;}#sk-0dcd98a5-3269-496f-aab2-6344c8a4b15a div.sk-parallel-item::after {content: \"\";width: 100%;border-bottom: 1px solid gray;flex-grow: 1;}#sk-0dcd98a5-3269-496f-aab2-6344c8a4b15a div.sk-label:hover label.sk-toggleable__label {background-color: #d4ebff;}#sk-0dcd98a5-3269-496f-aab2-6344c8a4b15a div.sk-serial::before {content: \"\";position: absolute;border-left: 1px solid gray;box-sizing: border-box;top: 2em;bottom: 0;left: 50%;}#sk-0dcd98a5-3269-496f-aab2-6344c8a4b15a div.sk-serial {display: flex;flex-direction: column;align-items: center;background-color: white;padding-right: 0.2em;padding-left: 0.2em;}#sk-0dcd98a5-3269-496f-aab2-6344c8a4b15a div.sk-item {z-index: 1;}#sk-0dcd98a5-3269-496f-aab2-6344c8a4b15a div.sk-parallel {display: flex;align-items: stretch;justify-content: center;background-color: white;}#sk-0dcd98a5-3269-496f-aab2-6344c8a4b15a div.sk-parallel::before {content: \"\";position: absolute;border-left: 1px solid gray;box-sizing: border-box;top: 2em;bottom: 0;left: 50%;}#sk-0dcd98a5-3269-496f-aab2-6344c8a4b15a div.sk-parallel-item {display: flex;flex-direction: column;position: relative;background-color: white;}#sk-0dcd98a5-3269-496f-aab2-6344c8a4b15a div.sk-parallel-item:first-child::after {align-self: flex-end;width: 50%;}#sk-0dcd98a5-3269-496f-aab2-6344c8a4b15a div.sk-parallel-item:last-child::after {align-self: flex-start;width: 50%;}#sk-0dcd98a5-3269-496f-aab2-6344c8a4b15a div.sk-parallel-item:only-child::after {width: 0;}#sk-0dcd98a5-3269-496f-aab2-6344c8a4b15a div.sk-dashed-wrapped {border: 1px dashed gray;margin: 0 0.4em 0.5em 0.4em;box-sizing: border-box;padding-bottom: 0.4em;background-color: white;position: relative;}#sk-0dcd98a5-3269-496f-aab2-6344c8a4b15a div.sk-label label {font-family: monospace;font-weight: bold;background-color: white;display: inline-block;line-height: 1.2em;}#sk-0dcd98a5-3269-496f-aab2-6344c8a4b15a div.sk-label-container {position: relative;z-index: 2;text-align: center;}#sk-0dcd98a5-3269-496f-aab2-6344c8a4b15a div.sk-container {/* jupyter's `normalize.less` sets `[hidden] { display: none; }` but bootstrap.min.css set `[hidden] { display: none !important; }` so we also need the `!important` here to be able to override the default hidden behavior on the sphinx rendered scikit-learn.org. See: https://github.com/scikit-learn/scikit-learn/issues/21755 */display: inline-block !important;position: relative;}#sk-0dcd98a5-3269-496f-aab2-6344c8a4b15a div.sk-text-repr-fallback {display: none;}</style><div id=\"sk-0dcd98a5-3269-496f-aab2-6344c8a4b15a\" class=\"sk-top-container\"><div class=\"sk-text-repr-fallback\"><pre>Pipeline(steps=[(&#x27;scaling&#x27;, StandardScaler()), (&#x27;PCA&#x27;, PCA(n_components=3)),\n",
       "                (&#x27;knear&#x27;, KNeighborsRegressor())])</pre><b>Please rerun this cell to show the HTML repr or trust the notebook.</b></div><div class=\"sk-container\" hidden><div class=\"sk-item sk-dashed-wrapped\"><div class=\"sk-label-container\"><div class=\"sk-label sk-toggleable\"><input class=\"sk-toggleable__control sk-hidden--visually\" id=\"24e18c70-80d1-4f11-b60d-9810f060bbc9\" type=\"checkbox\" ><label for=\"24e18c70-80d1-4f11-b60d-9810f060bbc9\" class=\"sk-toggleable__label sk-toggleable__label-arrow\">Pipeline</label><div class=\"sk-toggleable__content\"><pre>Pipeline(steps=[(&#x27;scaling&#x27;, StandardScaler()), (&#x27;PCA&#x27;, PCA(n_components=3)),\n",
       "                (&#x27;knear&#x27;, KNeighborsRegressor())])</pre></div></div></div><div class=\"sk-serial\"><div class=\"sk-item\"><div class=\"sk-estimator sk-toggleable\"><input class=\"sk-toggleable__control sk-hidden--visually\" id=\"0b501a61-20ab-4903-8006-1a9cd42a2ee8\" type=\"checkbox\" ><label for=\"0b501a61-20ab-4903-8006-1a9cd42a2ee8\" class=\"sk-toggleable__label sk-toggleable__label-arrow\">StandardScaler</label><div class=\"sk-toggleable__content\"><pre>StandardScaler()</pre></div></div></div><div class=\"sk-item\"><div class=\"sk-estimator sk-toggleable\"><input class=\"sk-toggleable__control sk-hidden--visually\" id=\"51cdee30-4fc3-4501-ad80-de23268e5db4\" type=\"checkbox\" ><label for=\"51cdee30-4fc3-4501-ad80-de23268e5db4\" class=\"sk-toggleable__label sk-toggleable__label-arrow\">PCA</label><div class=\"sk-toggleable__content\"><pre>PCA(n_components=3)</pre></div></div></div><div class=\"sk-item\"><div class=\"sk-estimator sk-toggleable\"><input class=\"sk-toggleable__control sk-hidden--visually\" id=\"ee3b1e5e-c3d9-41de-bcf6-267d3138898d\" type=\"checkbox\" ><label for=\"ee3b1e5e-c3d9-41de-bcf6-267d3138898d\" class=\"sk-toggleable__label sk-toggleable__label-arrow\">KNeighborsRegressor</label><div class=\"sk-toggleable__content\"><pre>KNeighborsRegressor()</pre></div></div></div></div></div></div></div>"
      ],
      "text/plain": [
       "Pipeline(steps=[('scaling', StandardScaler()), ('PCA', PCA(n_components=3)),\n",
       "                ('knear', KNeighborsRegressor())])"
      ]
     },
     "execution_count": 13,
     "metadata": {},
     "output_type": "execute_result"
    }
   ],
   "source": [
    "pipe2.fit(X_train,y_train)"
   ]
  },
  {
   "cell_type": "markdown",
   "metadata": {},
   "source": [
    "To evaluate on the test data, we simply call pipe.score:"
   ]
  },
  {
   "cell_type": "code",
   "execution_count": 14,
   "metadata": {},
   "outputs": [
    {
     "name": "stdout",
     "output_type": "stream",
     "text": [
      "Test score: 0.80\n"
     ]
    }
   ],
   "source": [
    "#evaluate on test data\n",
    "print(\"Test score: {:.2f}\".format(pipe2.score(X_test, y_test)))"
   ]
  },
  {
   "cell_type": "markdown",
   "metadata": {},
   "source": [
    "### Part 3:  Using Pipelines in Grid Search"
   ]
  },
  {
   "cell_type": "markdown",
   "metadata": {},
   "source": [
    "For using GridSearchCV in a pipeline, we also need to build a parameter grid (see part 1). However, when specifying the parameter grid, we need to set for each parameter which step of the pipeline it belongs to. In our example, parameters n_neigbors, weights, and p are parameters of the KNN step. The step's name is \"knear.\" To correctly define a parameter grid for a pipeline, we need the following syntax: \"step name_parameter name.\" Let's check the parameter grid dictionary for our example :"
   ]
  },
  {
   "cell_type": "code",
   "execution_count": 15,
   "metadata": {},
   "outputs": [],
   "source": [
    "param_grid = {\"knear__n_neighbors\":[*range(0, 200, 20)],\n",
    "              \"knear__weights\": ['uniform','distance'],\n",
    "              \"knear__p\":[1,2]}"
   ]
  },
  {
   "cell_type": "markdown",
   "metadata": {},
   "source": [
    "Use GridSearchCV as usual:"
   ]
  },
  {
   "cell_type": "code",
   "execution_count": 16,
   "metadata": {},
   "outputs": [
    {
     "name": "stdout",
     "output_type": "stream",
     "text": [
      "Best cross-validation accuracy: 0.77\n",
      "Test set score: 0.72\n",
      "Best parameters: {'knear__n_neighbors': 20, 'knear__p': 2, 'knear__weights': 'distance'}\n"
     ]
    }
   ],
   "source": [
    "grid = GridSearchCV(pipe, param_grid=param_grid, cv=5) \n",
    "grid.fit(X_train, y_train)\n",
    "print(\"Best cross-validation accuracy: {:.2f}\".format(grid.best_score_)) \n",
    "print(\"Test set score: {:.2f}\".format(grid.score(X_test, y_test))) \n",
    "print(\"Best parameters: {}\".format(grid.best_params_))"
   ]
  },
  {
   "cell_type": "markdown",
   "metadata": {},
   "source": [
    "In contrast to what we did in part 1, now for each split in the cross-validation the MinMaxScaler is used with only the training splits and no information is leaked!"
   ]
  },
  {
   "cell_type": "markdown",
   "metadata": {},
   "source": [
    "### Part 4: Pipeline Creation using make_pipeline"
   ]
  },
  {
   "cell_type": "markdown",
   "metadata": {},
   "source": [
    "The function, make_pipeline makes easier the process of building a pipeline. This function, will create a pipeline for us and automatically name each step based on its class."
   ]
  },
  {
   "cell_type": "markdown",
   "metadata": {},
   "source": [
    "### I. Building a basic Pipeline using make_pipeline"
   ]
  },
  {
   "cell_type": "code",
   "execution_count": 17,
   "metadata": {},
   "outputs": [],
   "source": [
    "# standard syntax\n",
    "pipe_long = Pipeline([(\" standard_scaler\", MinMaxScaler()), ('knear', KNeighborsRegressor())]) \n",
    "# abbreviated syntax\n",
    "pipe_short = make_pipeline(MinMaxScaler(), KNeighborsRegressor())"
   ]
  },
  {
   "cell_type": "markdown",
   "metadata": {},
   "source": [
    "Both pipe_long and pipe_short do the same, the only difference is that in pipe_short the steps were automatically named. Let's look at the names of the steps:"
   ]
  },
  {
   "cell_type": "code",
   "execution_count": 18,
   "metadata": {},
   "outputs": [
    {
     "name": "stdout",
     "output_type": "stream",
     "text": [
      "Pipeline steps:\n",
      "[('minmaxscaler', MinMaxScaler()), ('kneighborsregressor', KNeighborsRegressor())]\n"
     ]
    }
   ],
   "source": [
    "print(\"Pipeline steps:\\n{}\".format(pipe_short.steps))"
   ]
  },
  {
   "cell_type": "markdown",
   "metadata": {},
   "source": [
    "The names of the steps are just lowercase versions of the class names. "
   ]
  },
  {
   "cell_type": "markdown",
   "metadata": {},
   "source": [
    "### II. Displaying a pipeline with standard scaler, dimensionality reduction and then standard scaler Pipeline using make_pipeline"
   ]
  },
  {
   "cell_type": "markdown",
   "metadata": {},
   "source": [
    "In this example we are going to see how the steps get named if multiple steps have the same class:"
   ]
  },
  {
   "cell_type": "code",
   "execution_count": 19,
   "metadata": {},
   "outputs": [
    {
     "name": "stdout",
     "output_type": "stream",
     "text": [
      "Pipeline steps:\n",
      "[('standardscaler-1', StandardScaler()), ('pca', PCA(n_components=3)), ('standardscaler-2', StandardScaler())]\n"
     ]
    }
   ],
   "source": [
    "pipe = make_pipeline(StandardScaler(), PCA(n_components=3),StandardScaler())\n",
    "print(\"Pipeline steps:\\n{}\".format(pipe.steps))"
   ]
  },
  {
   "cell_type": "markdown",
   "metadata": {},
   "source": [
    "As you can see, if multiple steps have the same class a number is appended. StandardScaler step was named standardscaler-1 and the second standardscaler-2. "
   ]
  },
  {
   "cell_type": "markdown",
   "metadata": {},
   "source": [
    "### Part 5: Using Pipelines with different types of data columns"
   ]
  },
  {
   "cell_type": "markdown",
   "metadata": {},
   "source": [
    "For this example I am going to add a categorical column to our data set. Instead of using the porosity values I will assign high to porosities greater than 16%, medium to porosities greater than 13% and lower than 16%, and low to the other values."
   ]
  },
  {
   "cell_type": "code",
   "execution_count": 20,
   "metadata": {},
   "outputs": [
    {
     "data": {
      "text/html": [
       "<div>\n",
       "<style scoped>\n",
       "    .dataframe tbody tr th:only-of-type {\n",
       "        vertical-align: middle;\n",
       "    }\n",
       "\n",
       "    .dataframe tbody tr th {\n",
       "        vertical-align: top;\n",
       "    }\n",
       "\n",
       "    .dataframe thead th {\n",
       "        text-align: right;\n",
       "    }\n",
       "</style>\n",
       "<table border=\"1\" class=\"dataframe\">\n",
       "  <thead>\n",
       "    <tr style=\"text-align: right;\">\n",
       "      <th></th>\n",
       "      <th>WellIndex</th>\n",
       "      <th>Por</th>\n",
       "      <th>LogPerm</th>\n",
       "      <th>AI</th>\n",
       "      <th>Brittle</th>\n",
       "      <th>TOC</th>\n",
       "      <th>VR</th>\n",
       "      <th>Production</th>\n",
       "      <th>porosity</th>\n",
       "    </tr>\n",
       "  </thead>\n",
       "  <tbody>\n",
       "    <tr>\n",
       "      <th>0</th>\n",
       "      <td>1</td>\n",
       "      <td>15.91</td>\n",
       "      <td>1.67</td>\n",
       "      <td>3.06</td>\n",
       "      <td>14.05</td>\n",
       "      <td>1.36</td>\n",
       "      <td>1.85</td>\n",
       "      <td>177.381958</td>\n",
       "      <td>medium</td>\n",
       "    </tr>\n",
       "    <tr>\n",
       "      <th>1</th>\n",
       "      <td>2</td>\n",
       "      <td>15.34</td>\n",
       "      <td>1.65</td>\n",
       "      <td>2.60</td>\n",
       "      <td>31.88</td>\n",
       "      <td>1.37</td>\n",
       "      <td>1.79</td>\n",
       "      <td>1479.767778</td>\n",
       "      <td>medium</td>\n",
       "    </tr>\n",
       "    <tr>\n",
       "      <th>2</th>\n",
       "      <td>3</td>\n",
       "      <td>20.45</td>\n",
       "      <td>2.02</td>\n",
       "      <td>3.13</td>\n",
       "      <td>63.67</td>\n",
       "      <td>1.79</td>\n",
       "      <td>2.53</td>\n",
       "      <td>4421.221583</td>\n",
       "      <td>high</td>\n",
       "    </tr>\n",
       "    <tr>\n",
       "      <th>3</th>\n",
       "      <td>4</td>\n",
       "      <td>11.95</td>\n",
       "      <td>1.14</td>\n",
       "      <td>3.90</td>\n",
       "      <td>58.81</td>\n",
       "      <td>0.40</td>\n",
       "      <td>2.03</td>\n",
       "      <td>1488.317629</td>\n",
       "      <td>low</td>\n",
       "    </tr>\n",
       "    <tr>\n",
       "      <th>4</th>\n",
       "      <td>5</td>\n",
       "      <td>19.53</td>\n",
       "      <td>1.83</td>\n",
       "      <td>2.57</td>\n",
       "      <td>43.75</td>\n",
       "      <td>1.40</td>\n",
       "      <td>2.11</td>\n",
       "      <td>5261.094919</td>\n",
       "      <td>high</td>\n",
       "    </tr>\n",
       "  </tbody>\n",
       "</table>\n",
       "</div>"
      ],
      "text/plain": [
       "   WellIndex    Por  LogPerm    AI  Brittle   TOC    VR   Production porosity\n",
       "0          1  15.91     1.67  3.06    14.05  1.36  1.85   177.381958   medium\n",
       "1          2  15.34     1.65  2.60    31.88  1.37  1.79  1479.767778   medium\n",
       "2          3  20.45     2.02  3.13    63.67  1.79  2.53  4421.221583     high\n",
       "3          4  11.95     1.14  3.90    58.81  0.40  2.03  1488.317629      low\n",
       "4          5  19.53     1.83  2.57    43.75  1.40  2.11  5261.094919     high"
      ]
     },
     "execution_count": 20,
     "metadata": {},
     "output_type": "execute_result"
    }
   ],
   "source": [
    "# create a list of our conditions\n",
    "conditions = [\n",
    "    (my_data['Por'] <= 13),\n",
    "    (my_data['Por'] > 13) & (my_data['Por'] <= 16),\n",
    "    (my_data['Por'] > 16)\n",
    "    \n",
    "]\n",
    "\n",
    "# create a list of the values we want to assign for each condition\n",
    "values = ['low', 'medium', 'high']\n",
    "\n",
    "# create a new column and use np.select to assign values to it using our lists as arguments\n",
    "my_data['porosity'] = np.select(conditions, values) \n",
    "\n",
    "# display updated DataFrame\n",
    "my_data.head()"
   ]
  },
  {
   "cell_type": "markdown",
   "metadata": {},
   "source": [
    "I will add a target column, where high production (> 2500) equals to 0, medium production (2500< production < 2000) equals to 1 and low production equals to 2. "
   ]
  },
  {
   "cell_type": "code",
   "execution_count": 21,
   "metadata": {},
   "outputs": [
    {
     "data": {
      "text/html": [
       "<div>\n",
       "<style scoped>\n",
       "    .dataframe tbody tr th:only-of-type {\n",
       "        vertical-align: middle;\n",
       "    }\n",
       "\n",
       "    .dataframe tbody tr th {\n",
       "        vertical-align: top;\n",
       "    }\n",
       "\n",
       "    .dataframe thead th {\n",
       "        text-align: right;\n",
       "    }\n",
       "</style>\n",
       "<table border=\"1\" class=\"dataframe\">\n",
       "  <thead>\n",
       "    <tr style=\"text-align: right;\">\n",
       "      <th></th>\n",
       "      <th>WellIndex</th>\n",
       "      <th>Por</th>\n",
       "      <th>LogPerm</th>\n",
       "      <th>AI</th>\n",
       "      <th>Brittle</th>\n",
       "      <th>TOC</th>\n",
       "      <th>VR</th>\n",
       "      <th>Production</th>\n",
       "      <th>porosity</th>\n",
       "      <th>prod_target</th>\n",
       "    </tr>\n",
       "  </thead>\n",
       "  <tbody>\n",
       "    <tr>\n",
       "      <th>0</th>\n",
       "      <td>1</td>\n",
       "      <td>15.91</td>\n",
       "      <td>1.67</td>\n",
       "      <td>3.06</td>\n",
       "      <td>14.05</td>\n",
       "      <td>1.36</td>\n",
       "      <td>1.85</td>\n",
       "      <td>177.381958</td>\n",
       "      <td>medium</td>\n",
       "      <td>2</td>\n",
       "    </tr>\n",
       "    <tr>\n",
       "      <th>1</th>\n",
       "      <td>2</td>\n",
       "      <td>15.34</td>\n",
       "      <td>1.65</td>\n",
       "      <td>2.60</td>\n",
       "      <td>31.88</td>\n",
       "      <td>1.37</td>\n",
       "      <td>1.79</td>\n",
       "      <td>1479.767778</td>\n",
       "      <td>medium</td>\n",
       "      <td>2</td>\n",
       "    </tr>\n",
       "    <tr>\n",
       "      <th>2</th>\n",
       "      <td>3</td>\n",
       "      <td>20.45</td>\n",
       "      <td>2.02</td>\n",
       "      <td>3.13</td>\n",
       "      <td>63.67</td>\n",
       "      <td>1.79</td>\n",
       "      <td>2.53</td>\n",
       "      <td>4421.221583</td>\n",
       "      <td>high</td>\n",
       "      <td>0</td>\n",
       "    </tr>\n",
       "    <tr>\n",
       "      <th>3</th>\n",
       "      <td>4</td>\n",
       "      <td>11.95</td>\n",
       "      <td>1.14</td>\n",
       "      <td>3.90</td>\n",
       "      <td>58.81</td>\n",
       "      <td>0.40</td>\n",
       "      <td>2.03</td>\n",
       "      <td>1488.317629</td>\n",
       "      <td>low</td>\n",
       "      <td>2</td>\n",
       "    </tr>\n",
       "    <tr>\n",
       "      <th>4</th>\n",
       "      <td>5</td>\n",
       "      <td>19.53</td>\n",
       "      <td>1.83</td>\n",
       "      <td>2.57</td>\n",
       "      <td>43.75</td>\n",
       "      <td>1.40</td>\n",
       "      <td>2.11</td>\n",
       "      <td>5261.094919</td>\n",
       "      <td>high</td>\n",
       "      <td>0</td>\n",
       "    </tr>\n",
       "  </tbody>\n",
       "</table>\n",
       "</div>"
      ],
      "text/plain": [
       "   WellIndex    Por  LogPerm    AI  Brittle   TOC    VR   Production porosity  \\\n",
       "0          1  15.91     1.67  3.06    14.05  1.36  1.85   177.381958   medium   \n",
       "1          2  15.34     1.65  2.60    31.88  1.37  1.79  1479.767778   medium   \n",
       "2          3  20.45     2.02  3.13    63.67  1.79  2.53  4421.221583     high   \n",
       "3          4  11.95     1.14  3.90    58.81  0.40  2.03  1488.317629      low   \n",
       "4          5  19.53     1.83  2.57    43.75  1.40  2.11  5261.094919     high   \n",
       "\n",
       "   prod_target  \n",
       "0            2  \n",
       "1            2  \n",
       "2            0  \n",
       "3            2  \n",
       "4            0  "
      ]
     },
     "execution_count": 21,
     "metadata": {},
     "output_type": "execute_result"
    }
   ],
   "source": [
    "# create a list of our conditions\n",
    "conditions = [\n",
    "    (my_data['Production'] <= 2000),\n",
    "    (my_data['Production'] > 2000) & (my_data['Production'] <= 2500),\n",
    "    (my_data['Production'] > 2500)\n",
    "    \n",
    "]\n",
    "\n",
    "# create a list of the values we want to assign for each condition\n",
    "values = [2, 1, 0]\n",
    "\n",
    "# create a new column and use np.select to assign values to it using our lists as arguments\n",
    "my_data['prod_target'] = np.select(conditions, values) \n",
    "\n",
    "# display updated DataFrame\n",
    "my_data.head()"
   ]
  },
  {
   "cell_type": "markdown",
   "metadata": {},
   "source": [
    "Let's split our data set in training and testing."
   ]
  },
  {
   "cell_type": "code",
   "execution_count": 22,
   "metadata": {},
   "outputs": [],
   "source": [
    "X2 = my_data.copy()\n",
    "X2 = X2.loc[:,['porosity','LogPerm','AI', 'Brittle', 'TOC', 'VR']]\n",
    "\n",
    "y2 = my_data.copy()\n",
    "y2 = y2.loc[:,'prod_target']\n",
    "\n",
    "X2_train, X2_test, y2_train, y2_test = train_test_split(X2, y2, test_size=0.30,random_state=0)"
   ]
  },
  {
   "cell_type": "markdown",
   "metadata": {},
   "source": [
    "To build a pipeline for numerical and categorical features we have to first create a numerical and categorical pipeline."
   ]
  },
  {
   "cell_type": "code",
   "execution_count": 23,
   "metadata": {},
   "outputs": [
    {
     "data": {
      "text/html": [
       "<style>#sk-388b4f94-bc84-42cc-b572-815a33424863 {color: black;background-color: white;}#sk-388b4f94-bc84-42cc-b572-815a33424863 pre{padding: 0;}#sk-388b4f94-bc84-42cc-b572-815a33424863 div.sk-toggleable {background-color: white;}#sk-388b4f94-bc84-42cc-b572-815a33424863 label.sk-toggleable__label {cursor: pointer;display: block;width: 100%;margin-bottom: 0;padding: 0.3em;box-sizing: border-box;text-align: center;}#sk-388b4f94-bc84-42cc-b572-815a33424863 label.sk-toggleable__label-arrow:before {content: \"▸\";float: left;margin-right: 0.25em;color: #696969;}#sk-388b4f94-bc84-42cc-b572-815a33424863 label.sk-toggleable__label-arrow:hover:before {color: black;}#sk-388b4f94-bc84-42cc-b572-815a33424863 div.sk-estimator:hover label.sk-toggleable__label-arrow:before {color: black;}#sk-388b4f94-bc84-42cc-b572-815a33424863 div.sk-toggleable__content {max-height: 0;max-width: 0;overflow: hidden;text-align: left;background-color: #f0f8ff;}#sk-388b4f94-bc84-42cc-b572-815a33424863 div.sk-toggleable__content pre {margin: 0.2em;color: black;border-radius: 0.25em;background-color: #f0f8ff;}#sk-388b4f94-bc84-42cc-b572-815a33424863 input.sk-toggleable__control:checked~div.sk-toggleable__content {max-height: 200px;max-width: 100%;overflow: auto;}#sk-388b4f94-bc84-42cc-b572-815a33424863 input.sk-toggleable__control:checked~label.sk-toggleable__label-arrow:before {content: \"▾\";}#sk-388b4f94-bc84-42cc-b572-815a33424863 div.sk-estimator input.sk-toggleable__control:checked~label.sk-toggleable__label {background-color: #d4ebff;}#sk-388b4f94-bc84-42cc-b572-815a33424863 div.sk-label input.sk-toggleable__control:checked~label.sk-toggleable__label {background-color: #d4ebff;}#sk-388b4f94-bc84-42cc-b572-815a33424863 input.sk-hidden--visually {border: 0;clip: rect(1px 1px 1px 1px);clip: rect(1px, 1px, 1px, 1px);height: 1px;margin: -1px;overflow: hidden;padding: 0;position: absolute;width: 1px;}#sk-388b4f94-bc84-42cc-b572-815a33424863 div.sk-estimator {font-family: monospace;background-color: #f0f8ff;border: 1px dotted black;border-radius: 0.25em;box-sizing: border-box;margin-bottom: 0.5em;}#sk-388b4f94-bc84-42cc-b572-815a33424863 div.sk-estimator:hover {background-color: #d4ebff;}#sk-388b4f94-bc84-42cc-b572-815a33424863 div.sk-parallel-item::after {content: \"\";width: 100%;border-bottom: 1px solid gray;flex-grow: 1;}#sk-388b4f94-bc84-42cc-b572-815a33424863 div.sk-label:hover label.sk-toggleable__label {background-color: #d4ebff;}#sk-388b4f94-bc84-42cc-b572-815a33424863 div.sk-serial::before {content: \"\";position: absolute;border-left: 1px solid gray;box-sizing: border-box;top: 2em;bottom: 0;left: 50%;}#sk-388b4f94-bc84-42cc-b572-815a33424863 div.sk-serial {display: flex;flex-direction: column;align-items: center;background-color: white;padding-right: 0.2em;padding-left: 0.2em;}#sk-388b4f94-bc84-42cc-b572-815a33424863 div.sk-item {z-index: 1;}#sk-388b4f94-bc84-42cc-b572-815a33424863 div.sk-parallel {display: flex;align-items: stretch;justify-content: center;background-color: white;}#sk-388b4f94-bc84-42cc-b572-815a33424863 div.sk-parallel::before {content: \"\";position: absolute;border-left: 1px solid gray;box-sizing: border-box;top: 2em;bottom: 0;left: 50%;}#sk-388b4f94-bc84-42cc-b572-815a33424863 div.sk-parallel-item {display: flex;flex-direction: column;position: relative;background-color: white;}#sk-388b4f94-bc84-42cc-b572-815a33424863 div.sk-parallel-item:first-child::after {align-self: flex-end;width: 50%;}#sk-388b4f94-bc84-42cc-b572-815a33424863 div.sk-parallel-item:last-child::after {align-self: flex-start;width: 50%;}#sk-388b4f94-bc84-42cc-b572-815a33424863 div.sk-parallel-item:only-child::after {width: 0;}#sk-388b4f94-bc84-42cc-b572-815a33424863 div.sk-dashed-wrapped {border: 1px dashed gray;margin: 0 0.4em 0.5em 0.4em;box-sizing: border-box;padding-bottom: 0.4em;background-color: white;position: relative;}#sk-388b4f94-bc84-42cc-b572-815a33424863 div.sk-label label {font-family: monospace;font-weight: bold;background-color: white;display: inline-block;line-height: 1.2em;}#sk-388b4f94-bc84-42cc-b572-815a33424863 div.sk-label-container {position: relative;z-index: 2;text-align: center;}#sk-388b4f94-bc84-42cc-b572-815a33424863 div.sk-container {/* jupyter's `normalize.less` sets `[hidden] { display: none; }` but bootstrap.min.css set `[hidden] { display: none !important; }` so we also need the `!important` here to be able to override the default hidden behavior on the sphinx rendered scikit-learn.org. See: https://github.com/scikit-learn/scikit-learn/issues/21755 */display: inline-block !important;position: relative;}#sk-388b4f94-bc84-42cc-b572-815a33424863 div.sk-text-repr-fallback {display: none;}</style><div id=\"sk-388b4f94-bc84-42cc-b572-815a33424863\" class=\"sk-top-container\"><div class=\"sk-text-repr-fallback\"><pre>Pipeline(steps=[(&#x27;imputation_mean&#x27;, SimpleImputer()),\n",
       "                (&#x27;scaler&#x27;, StandardScaler())])</pre><b>Please rerun this cell to show the HTML repr or trust the notebook.</b></div><div class=\"sk-container\" hidden><div class=\"sk-item sk-dashed-wrapped\"><div class=\"sk-label-container\"><div class=\"sk-label sk-toggleable\"><input class=\"sk-toggleable__control sk-hidden--visually\" id=\"aebaa385-610b-42d1-9047-ca8aa92597f2\" type=\"checkbox\" ><label for=\"aebaa385-610b-42d1-9047-ca8aa92597f2\" class=\"sk-toggleable__label sk-toggleable__label-arrow\">Pipeline</label><div class=\"sk-toggleable__content\"><pre>Pipeline(steps=[(&#x27;imputation_mean&#x27;, SimpleImputer()),\n",
       "                (&#x27;scaler&#x27;, StandardScaler())])</pre></div></div></div><div class=\"sk-serial\"><div class=\"sk-item\"><div class=\"sk-estimator sk-toggleable\"><input class=\"sk-toggleable__control sk-hidden--visually\" id=\"f94f1e11-a78e-4e81-bb59-d8b861ced9fb\" type=\"checkbox\" ><label for=\"f94f1e11-a78e-4e81-bb59-d8b861ced9fb\" class=\"sk-toggleable__label sk-toggleable__label-arrow\">SimpleImputer</label><div class=\"sk-toggleable__content\"><pre>SimpleImputer()</pre></div></div></div><div class=\"sk-item\"><div class=\"sk-estimator sk-toggleable\"><input class=\"sk-toggleable__control sk-hidden--visually\" id=\"0e953b8d-9d49-4325-b3d1-e9ede855d97b\" type=\"checkbox\" ><label for=\"0e953b8d-9d49-4325-b3d1-e9ede855d97b\" class=\"sk-toggleable__label sk-toggleable__label-arrow\">StandardScaler</label><div class=\"sk-toggleable__content\"><pre>StandardScaler()</pre></div></div></div></div></div></div></div>"
      ],
      "text/plain": [
       "Pipeline(steps=[('imputation_mean', SimpleImputer()),\n",
       "                ('scaler', StandardScaler())])"
      ]
     },
     "execution_count": 23,
     "metadata": {},
     "output_type": "execute_result"
    }
   ],
   "source": [
    "#pipeline for numerical features\n",
    "numeric_processor=Pipeline(\n",
    "    steps=[(\"imputation_mean\",SimpleImputer(missing_values=np.nan,strategy=\"mean\")),\n",
    "          (\"scaler\",StandardScaler())]\n",
    ")\n",
    "numeric_processor"
   ]
  },
  {
   "cell_type": "code",
   "execution_count": 24,
   "metadata": {},
   "outputs": [
    {
     "data": {
      "text/html": [
       "<style>#sk-9dd09281-d54a-4d26-9122-49bb68829da3 {color: black;background-color: white;}#sk-9dd09281-d54a-4d26-9122-49bb68829da3 pre{padding: 0;}#sk-9dd09281-d54a-4d26-9122-49bb68829da3 div.sk-toggleable {background-color: white;}#sk-9dd09281-d54a-4d26-9122-49bb68829da3 label.sk-toggleable__label {cursor: pointer;display: block;width: 100%;margin-bottom: 0;padding: 0.3em;box-sizing: border-box;text-align: center;}#sk-9dd09281-d54a-4d26-9122-49bb68829da3 label.sk-toggleable__label-arrow:before {content: \"▸\";float: left;margin-right: 0.25em;color: #696969;}#sk-9dd09281-d54a-4d26-9122-49bb68829da3 label.sk-toggleable__label-arrow:hover:before {color: black;}#sk-9dd09281-d54a-4d26-9122-49bb68829da3 div.sk-estimator:hover label.sk-toggleable__label-arrow:before {color: black;}#sk-9dd09281-d54a-4d26-9122-49bb68829da3 div.sk-toggleable__content {max-height: 0;max-width: 0;overflow: hidden;text-align: left;background-color: #f0f8ff;}#sk-9dd09281-d54a-4d26-9122-49bb68829da3 div.sk-toggleable__content pre {margin: 0.2em;color: black;border-radius: 0.25em;background-color: #f0f8ff;}#sk-9dd09281-d54a-4d26-9122-49bb68829da3 input.sk-toggleable__control:checked~div.sk-toggleable__content {max-height: 200px;max-width: 100%;overflow: auto;}#sk-9dd09281-d54a-4d26-9122-49bb68829da3 input.sk-toggleable__control:checked~label.sk-toggleable__label-arrow:before {content: \"▾\";}#sk-9dd09281-d54a-4d26-9122-49bb68829da3 div.sk-estimator input.sk-toggleable__control:checked~label.sk-toggleable__label {background-color: #d4ebff;}#sk-9dd09281-d54a-4d26-9122-49bb68829da3 div.sk-label input.sk-toggleable__control:checked~label.sk-toggleable__label {background-color: #d4ebff;}#sk-9dd09281-d54a-4d26-9122-49bb68829da3 input.sk-hidden--visually {border: 0;clip: rect(1px 1px 1px 1px);clip: rect(1px, 1px, 1px, 1px);height: 1px;margin: -1px;overflow: hidden;padding: 0;position: absolute;width: 1px;}#sk-9dd09281-d54a-4d26-9122-49bb68829da3 div.sk-estimator {font-family: monospace;background-color: #f0f8ff;border: 1px dotted black;border-radius: 0.25em;box-sizing: border-box;margin-bottom: 0.5em;}#sk-9dd09281-d54a-4d26-9122-49bb68829da3 div.sk-estimator:hover {background-color: #d4ebff;}#sk-9dd09281-d54a-4d26-9122-49bb68829da3 div.sk-parallel-item::after {content: \"\";width: 100%;border-bottom: 1px solid gray;flex-grow: 1;}#sk-9dd09281-d54a-4d26-9122-49bb68829da3 div.sk-label:hover label.sk-toggleable__label {background-color: #d4ebff;}#sk-9dd09281-d54a-4d26-9122-49bb68829da3 div.sk-serial::before {content: \"\";position: absolute;border-left: 1px solid gray;box-sizing: border-box;top: 2em;bottom: 0;left: 50%;}#sk-9dd09281-d54a-4d26-9122-49bb68829da3 div.sk-serial {display: flex;flex-direction: column;align-items: center;background-color: white;padding-right: 0.2em;padding-left: 0.2em;}#sk-9dd09281-d54a-4d26-9122-49bb68829da3 div.sk-item {z-index: 1;}#sk-9dd09281-d54a-4d26-9122-49bb68829da3 div.sk-parallel {display: flex;align-items: stretch;justify-content: center;background-color: white;}#sk-9dd09281-d54a-4d26-9122-49bb68829da3 div.sk-parallel::before {content: \"\";position: absolute;border-left: 1px solid gray;box-sizing: border-box;top: 2em;bottom: 0;left: 50%;}#sk-9dd09281-d54a-4d26-9122-49bb68829da3 div.sk-parallel-item {display: flex;flex-direction: column;position: relative;background-color: white;}#sk-9dd09281-d54a-4d26-9122-49bb68829da3 div.sk-parallel-item:first-child::after {align-self: flex-end;width: 50%;}#sk-9dd09281-d54a-4d26-9122-49bb68829da3 div.sk-parallel-item:last-child::after {align-self: flex-start;width: 50%;}#sk-9dd09281-d54a-4d26-9122-49bb68829da3 div.sk-parallel-item:only-child::after {width: 0;}#sk-9dd09281-d54a-4d26-9122-49bb68829da3 div.sk-dashed-wrapped {border: 1px dashed gray;margin: 0 0.4em 0.5em 0.4em;box-sizing: border-box;padding-bottom: 0.4em;background-color: white;position: relative;}#sk-9dd09281-d54a-4d26-9122-49bb68829da3 div.sk-label label {font-family: monospace;font-weight: bold;background-color: white;display: inline-block;line-height: 1.2em;}#sk-9dd09281-d54a-4d26-9122-49bb68829da3 div.sk-label-container {position: relative;z-index: 2;text-align: center;}#sk-9dd09281-d54a-4d26-9122-49bb68829da3 div.sk-container {/* jupyter's `normalize.less` sets `[hidden] { display: none; }` but bootstrap.min.css set `[hidden] { display: none !important; }` so we also need the `!important` here to be able to override the default hidden behavior on the sphinx rendered scikit-learn.org. See: https://github.com/scikit-learn/scikit-learn/issues/21755 */display: inline-block !important;position: relative;}#sk-9dd09281-d54a-4d26-9122-49bb68829da3 div.sk-text-repr-fallback {display: none;}</style><div id=\"sk-9dd09281-d54a-4d26-9122-49bb68829da3\" class=\"sk-top-container\"><div class=\"sk-text-repr-fallback\"><pre>Pipeline(steps=[(&#x27;imputation_constant&#x27;,\n",
       "                 SimpleImputer(fill_value=&#x27;missing&#x27;, strategy=&#x27;constant&#x27;)),\n",
       "                (&#x27;onehot&#x27;, OneHotEncoder(handle_unknown=&#x27;ignore&#x27;))])</pre><b>Please rerun this cell to show the HTML repr or trust the notebook.</b></div><div class=\"sk-container\" hidden><div class=\"sk-item sk-dashed-wrapped\"><div class=\"sk-label-container\"><div class=\"sk-label sk-toggleable\"><input class=\"sk-toggleable__control sk-hidden--visually\" id=\"2107814e-0701-4d69-a785-d77fabc861b0\" type=\"checkbox\" ><label for=\"2107814e-0701-4d69-a785-d77fabc861b0\" class=\"sk-toggleable__label sk-toggleable__label-arrow\">Pipeline</label><div class=\"sk-toggleable__content\"><pre>Pipeline(steps=[(&#x27;imputation_constant&#x27;,\n",
       "                 SimpleImputer(fill_value=&#x27;missing&#x27;, strategy=&#x27;constant&#x27;)),\n",
       "                (&#x27;onehot&#x27;, OneHotEncoder(handle_unknown=&#x27;ignore&#x27;))])</pre></div></div></div><div class=\"sk-serial\"><div class=\"sk-item\"><div class=\"sk-estimator sk-toggleable\"><input class=\"sk-toggleable__control sk-hidden--visually\" id=\"600b3d18-e26d-4c8c-909d-8a69ff7ca85b\" type=\"checkbox\" ><label for=\"600b3d18-e26d-4c8c-909d-8a69ff7ca85b\" class=\"sk-toggleable__label sk-toggleable__label-arrow\">SimpleImputer</label><div class=\"sk-toggleable__content\"><pre>SimpleImputer(fill_value=&#x27;missing&#x27;, strategy=&#x27;constant&#x27;)</pre></div></div></div><div class=\"sk-item\"><div class=\"sk-estimator sk-toggleable\"><input class=\"sk-toggleable__control sk-hidden--visually\" id=\"b24cf24f-9716-47fa-909a-2f4dd6323133\" type=\"checkbox\" ><label for=\"b24cf24f-9716-47fa-909a-2f4dd6323133\" class=\"sk-toggleable__label sk-toggleable__label-arrow\">OneHotEncoder</label><div class=\"sk-toggleable__content\"><pre>OneHotEncoder(handle_unknown=&#x27;ignore&#x27;)</pre></div></div></div></div></div></div></div>"
      ],
      "text/plain": [
       "Pipeline(steps=[('imputation_constant',\n",
       "                 SimpleImputer(fill_value='missing', strategy='constant')),\n",
       "                ('onehot', OneHotEncoder(handle_unknown='ignore'))])"
      ]
     },
     "execution_count": 24,
     "metadata": {},
     "output_type": "execute_result"
    }
   ],
   "source": [
    "#pipeline for categorical features\n",
    "categorical_processor=Pipeline(\n",
    "    steps=[(\"imputation_constant\",SimpleImputer(fill_value =\"missing\",strategy = \"constant\")),\n",
    "          (\"onehot\",OneHotEncoder(handle_unknown = \"ignore\"))]\n",
    ")\n",
    "categorical_processor"
   ]
  },
  {
   "cell_type": "markdown",
   "metadata": {},
   "source": [
    "Then we combine both numerical and categorical processors using the estimator ColumnTransformer. The difference between a Pipeline and a ColumnTransformer is that Pipeline steps are executed serially (the output from the first step is passed to the second step, and so on). Whereas the ColumnTransformers are executed separately, and the transformed features are concatenated at the end.\n",
    "ColumnTransformers include in the tuple for each step the names of the columns to be transformed in that step. By default, any columns you pass into the ColumnTransformer that aren't named in any of the steps will be dropped (remainder = \"drop\"). If you have columns that you want to include but do not need to be transformed, use: remainder='passthrough'."
   ]
  },
  {
   "cell_type": "code",
   "execution_count": 25,
   "metadata": {},
   "outputs": [
    {
     "data": {
      "text/html": [
       "<style>#sk-0c4a40c0-9863-45a2-99ed-c46ab665d6d3 {color: black;background-color: white;}#sk-0c4a40c0-9863-45a2-99ed-c46ab665d6d3 pre{padding: 0;}#sk-0c4a40c0-9863-45a2-99ed-c46ab665d6d3 div.sk-toggleable {background-color: white;}#sk-0c4a40c0-9863-45a2-99ed-c46ab665d6d3 label.sk-toggleable__label {cursor: pointer;display: block;width: 100%;margin-bottom: 0;padding: 0.3em;box-sizing: border-box;text-align: center;}#sk-0c4a40c0-9863-45a2-99ed-c46ab665d6d3 label.sk-toggleable__label-arrow:before {content: \"▸\";float: left;margin-right: 0.25em;color: #696969;}#sk-0c4a40c0-9863-45a2-99ed-c46ab665d6d3 label.sk-toggleable__label-arrow:hover:before {color: black;}#sk-0c4a40c0-9863-45a2-99ed-c46ab665d6d3 div.sk-estimator:hover label.sk-toggleable__label-arrow:before {color: black;}#sk-0c4a40c0-9863-45a2-99ed-c46ab665d6d3 div.sk-toggleable__content {max-height: 0;max-width: 0;overflow: hidden;text-align: left;background-color: #f0f8ff;}#sk-0c4a40c0-9863-45a2-99ed-c46ab665d6d3 div.sk-toggleable__content pre {margin: 0.2em;color: black;border-radius: 0.25em;background-color: #f0f8ff;}#sk-0c4a40c0-9863-45a2-99ed-c46ab665d6d3 input.sk-toggleable__control:checked~div.sk-toggleable__content {max-height: 200px;max-width: 100%;overflow: auto;}#sk-0c4a40c0-9863-45a2-99ed-c46ab665d6d3 input.sk-toggleable__control:checked~label.sk-toggleable__label-arrow:before {content: \"▾\";}#sk-0c4a40c0-9863-45a2-99ed-c46ab665d6d3 div.sk-estimator input.sk-toggleable__control:checked~label.sk-toggleable__label {background-color: #d4ebff;}#sk-0c4a40c0-9863-45a2-99ed-c46ab665d6d3 div.sk-label input.sk-toggleable__control:checked~label.sk-toggleable__label {background-color: #d4ebff;}#sk-0c4a40c0-9863-45a2-99ed-c46ab665d6d3 input.sk-hidden--visually {border: 0;clip: rect(1px 1px 1px 1px);clip: rect(1px, 1px, 1px, 1px);height: 1px;margin: -1px;overflow: hidden;padding: 0;position: absolute;width: 1px;}#sk-0c4a40c0-9863-45a2-99ed-c46ab665d6d3 div.sk-estimator {font-family: monospace;background-color: #f0f8ff;border: 1px dotted black;border-radius: 0.25em;box-sizing: border-box;margin-bottom: 0.5em;}#sk-0c4a40c0-9863-45a2-99ed-c46ab665d6d3 div.sk-estimator:hover {background-color: #d4ebff;}#sk-0c4a40c0-9863-45a2-99ed-c46ab665d6d3 div.sk-parallel-item::after {content: \"\";width: 100%;border-bottom: 1px solid gray;flex-grow: 1;}#sk-0c4a40c0-9863-45a2-99ed-c46ab665d6d3 div.sk-label:hover label.sk-toggleable__label {background-color: #d4ebff;}#sk-0c4a40c0-9863-45a2-99ed-c46ab665d6d3 div.sk-serial::before {content: \"\";position: absolute;border-left: 1px solid gray;box-sizing: border-box;top: 2em;bottom: 0;left: 50%;}#sk-0c4a40c0-9863-45a2-99ed-c46ab665d6d3 div.sk-serial {display: flex;flex-direction: column;align-items: center;background-color: white;padding-right: 0.2em;padding-left: 0.2em;}#sk-0c4a40c0-9863-45a2-99ed-c46ab665d6d3 div.sk-item {z-index: 1;}#sk-0c4a40c0-9863-45a2-99ed-c46ab665d6d3 div.sk-parallel {display: flex;align-items: stretch;justify-content: center;background-color: white;}#sk-0c4a40c0-9863-45a2-99ed-c46ab665d6d3 div.sk-parallel::before {content: \"\";position: absolute;border-left: 1px solid gray;box-sizing: border-box;top: 2em;bottom: 0;left: 50%;}#sk-0c4a40c0-9863-45a2-99ed-c46ab665d6d3 div.sk-parallel-item {display: flex;flex-direction: column;position: relative;background-color: white;}#sk-0c4a40c0-9863-45a2-99ed-c46ab665d6d3 div.sk-parallel-item:first-child::after {align-self: flex-end;width: 50%;}#sk-0c4a40c0-9863-45a2-99ed-c46ab665d6d3 div.sk-parallel-item:last-child::after {align-self: flex-start;width: 50%;}#sk-0c4a40c0-9863-45a2-99ed-c46ab665d6d3 div.sk-parallel-item:only-child::after {width: 0;}#sk-0c4a40c0-9863-45a2-99ed-c46ab665d6d3 div.sk-dashed-wrapped {border: 1px dashed gray;margin: 0 0.4em 0.5em 0.4em;box-sizing: border-box;padding-bottom: 0.4em;background-color: white;position: relative;}#sk-0c4a40c0-9863-45a2-99ed-c46ab665d6d3 div.sk-label label {font-family: monospace;font-weight: bold;background-color: white;display: inline-block;line-height: 1.2em;}#sk-0c4a40c0-9863-45a2-99ed-c46ab665d6d3 div.sk-label-container {position: relative;z-index: 2;text-align: center;}#sk-0c4a40c0-9863-45a2-99ed-c46ab665d6d3 div.sk-container {/* jupyter's `normalize.less` sets `[hidden] { display: none; }` but bootstrap.min.css set `[hidden] { display: none !important; }` so we also need the `!important` here to be able to override the default hidden behavior on the sphinx rendered scikit-learn.org. See: https://github.com/scikit-learn/scikit-learn/issues/21755 */display: inline-block !important;position: relative;}#sk-0c4a40c0-9863-45a2-99ed-c46ab665d6d3 div.sk-text-repr-fallback {display: none;}</style><div id=\"sk-0c4a40c0-9863-45a2-99ed-c46ab665d6d3\" class=\"sk-top-container\"><div class=\"sk-text-repr-fallback\"><pre>ColumnTransformer(transformers=[(&#x27;categorical&#x27;,\n",
       "                                 Pipeline(steps=[(&#x27;imputation_constant&#x27;,\n",
       "                                                  SimpleImputer(fill_value=&#x27;missing&#x27;,\n",
       "                                                                strategy=&#x27;constant&#x27;)),\n",
       "                                                 (&#x27;onehot&#x27;,\n",
       "                                                  OneHotEncoder(handle_unknown=&#x27;ignore&#x27;))]),\n",
       "                                 [&#x27;porosity&#x27;]),\n",
       "                                (&#x27;numerical&#x27;,\n",
       "                                 Pipeline(steps=[(&#x27;imputation_mean&#x27;,\n",
       "                                                  SimpleImputer()),\n",
       "                                                 (&#x27;scaler&#x27;, StandardScaler())]),\n",
       "                                 [&#x27;LogPerm&#x27;, &#x27;AI&#x27;, &#x27;Brittle&#x27;, &#x27;TOC&#x27;, &#x27;VR&#x27;])])</pre><b>Please rerun this cell to show the HTML repr or trust the notebook.</b></div><div class=\"sk-container\" hidden><div class=\"sk-item sk-dashed-wrapped\"><div class=\"sk-label-container\"><div class=\"sk-label sk-toggleable\"><input class=\"sk-toggleable__control sk-hidden--visually\" id=\"1b83447c-d556-4d7c-9658-69104e5ac965\" type=\"checkbox\" ><label for=\"1b83447c-d556-4d7c-9658-69104e5ac965\" class=\"sk-toggleable__label sk-toggleable__label-arrow\">ColumnTransformer</label><div class=\"sk-toggleable__content\"><pre>ColumnTransformer(transformers=[(&#x27;categorical&#x27;,\n",
       "                                 Pipeline(steps=[(&#x27;imputation_constant&#x27;,\n",
       "                                                  SimpleImputer(fill_value=&#x27;missing&#x27;,\n",
       "                                                                strategy=&#x27;constant&#x27;)),\n",
       "                                                 (&#x27;onehot&#x27;,\n",
       "                                                  OneHotEncoder(handle_unknown=&#x27;ignore&#x27;))]),\n",
       "                                 [&#x27;porosity&#x27;]),\n",
       "                                (&#x27;numerical&#x27;,\n",
       "                                 Pipeline(steps=[(&#x27;imputation_mean&#x27;,\n",
       "                                                  SimpleImputer()),\n",
       "                                                 (&#x27;scaler&#x27;, StandardScaler())]),\n",
       "                                 [&#x27;LogPerm&#x27;, &#x27;AI&#x27;, &#x27;Brittle&#x27;, &#x27;TOC&#x27;, &#x27;VR&#x27;])])</pre></div></div></div><div class=\"sk-parallel\"><div class=\"sk-parallel-item\"><div class=\"sk-item\"><div class=\"sk-label-container\"><div class=\"sk-label sk-toggleable\"><input class=\"sk-toggleable__control sk-hidden--visually\" id=\"50a01ba3-70c3-47e8-a7a5-31f79b32f074\" type=\"checkbox\" ><label for=\"50a01ba3-70c3-47e8-a7a5-31f79b32f074\" class=\"sk-toggleable__label sk-toggleable__label-arrow\">categorical</label><div class=\"sk-toggleable__content\"><pre>[&#x27;porosity&#x27;]</pre></div></div></div><div class=\"sk-serial\"><div class=\"sk-item\"><div class=\"sk-serial\"><div class=\"sk-item\"><div class=\"sk-estimator sk-toggleable\"><input class=\"sk-toggleable__control sk-hidden--visually\" id=\"38e6faf3-462c-4295-84a6-184c1caea874\" type=\"checkbox\" ><label for=\"38e6faf3-462c-4295-84a6-184c1caea874\" class=\"sk-toggleable__label sk-toggleable__label-arrow\">SimpleImputer</label><div class=\"sk-toggleable__content\"><pre>SimpleImputer(fill_value=&#x27;missing&#x27;, strategy=&#x27;constant&#x27;)</pre></div></div></div><div class=\"sk-item\"><div class=\"sk-estimator sk-toggleable\"><input class=\"sk-toggleable__control sk-hidden--visually\" id=\"dabd32d5-277b-4c90-a99b-302ef36e3f36\" type=\"checkbox\" ><label for=\"dabd32d5-277b-4c90-a99b-302ef36e3f36\" class=\"sk-toggleable__label sk-toggleable__label-arrow\">OneHotEncoder</label><div class=\"sk-toggleable__content\"><pre>OneHotEncoder(handle_unknown=&#x27;ignore&#x27;)</pre></div></div></div></div></div></div></div></div><div class=\"sk-parallel-item\"><div class=\"sk-item\"><div class=\"sk-label-container\"><div class=\"sk-label sk-toggleable\"><input class=\"sk-toggleable__control sk-hidden--visually\" id=\"ae6efcff-0e18-40c3-919a-44358632b80a\" type=\"checkbox\" ><label for=\"ae6efcff-0e18-40c3-919a-44358632b80a\" class=\"sk-toggleable__label sk-toggleable__label-arrow\">numerical</label><div class=\"sk-toggleable__content\"><pre>[&#x27;LogPerm&#x27;, &#x27;AI&#x27;, &#x27;Brittle&#x27;, &#x27;TOC&#x27;, &#x27;VR&#x27;]</pre></div></div></div><div class=\"sk-serial\"><div class=\"sk-item\"><div class=\"sk-serial\"><div class=\"sk-item\"><div class=\"sk-estimator sk-toggleable\"><input class=\"sk-toggleable__control sk-hidden--visually\" id=\"ea095d9f-8380-4593-b2c8-3731fe9cba68\" type=\"checkbox\" ><label for=\"ea095d9f-8380-4593-b2c8-3731fe9cba68\" class=\"sk-toggleable__label sk-toggleable__label-arrow\">SimpleImputer</label><div class=\"sk-toggleable__content\"><pre>SimpleImputer()</pre></div></div></div><div class=\"sk-item\"><div class=\"sk-estimator sk-toggleable\"><input class=\"sk-toggleable__control sk-hidden--visually\" id=\"99998ae3-511b-4730-837a-d2b80b16c339\" type=\"checkbox\" ><label for=\"99998ae3-511b-4730-837a-d2b80b16c339\" class=\"sk-toggleable__label sk-toggleable__label-arrow\">StandardScaler</label><div class=\"sk-toggleable__content\"><pre>StandardScaler()</pre></div></div></div></div></div></div></div></div></div></div></div></div>"
      ],
      "text/plain": [
       "ColumnTransformer(transformers=[('categorical',\n",
       "                                 Pipeline(steps=[('imputation_constant',\n",
       "                                                  SimpleImputer(fill_value='missing',\n",
       "                                                                strategy='constant')),\n",
       "                                                 ('onehot',\n",
       "                                                  OneHotEncoder(handle_unknown='ignore'))]),\n",
       "                                 ['porosity']),\n",
       "                                ('numerical',\n",
       "                                 Pipeline(steps=[('imputation_mean',\n",
       "                                                  SimpleImputer()),\n",
       "                                                 ('scaler', StandardScaler())]),\n",
       "                                 ['LogPerm', 'AI', 'Brittle', 'TOC', 'VR'])])"
      ]
     },
     "execution_count": 25,
     "metadata": {},
     "output_type": "execute_result"
    }
   ],
   "source": [
    "preprocessor = ColumnTransformer(\n",
    "    [(\"categorical\",categorical_processor,['porosity']),\n",
    "    (\"numerical\",numeric_processor,['LogPerm','AI', 'Brittle', 'TOC', 'VR'])\n",
    "    ])\n",
    "preprocessor"
   ]
  },
  {
   "cell_type": "markdown",
   "metadata": {},
   "source": [
    "Next, we’ll create a Pipeline using make_pipeline where preprocessor is the first step, and a Logistic Regression classifier is the second step."
   ]
  },
  {
   "cell_type": "code",
   "execution_count": 26,
   "metadata": {},
   "outputs": [
    {
     "data": {
      "text/html": [
       "<style>#sk-617c422e-22f4-41d0-8f1c-7ca4bcee9c19 {color: black;background-color: white;}#sk-617c422e-22f4-41d0-8f1c-7ca4bcee9c19 pre{padding: 0;}#sk-617c422e-22f4-41d0-8f1c-7ca4bcee9c19 div.sk-toggleable {background-color: white;}#sk-617c422e-22f4-41d0-8f1c-7ca4bcee9c19 label.sk-toggleable__label {cursor: pointer;display: block;width: 100%;margin-bottom: 0;padding: 0.3em;box-sizing: border-box;text-align: center;}#sk-617c422e-22f4-41d0-8f1c-7ca4bcee9c19 label.sk-toggleable__label-arrow:before {content: \"▸\";float: left;margin-right: 0.25em;color: #696969;}#sk-617c422e-22f4-41d0-8f1c-7ca4bcee9c19 label.sk-toggleable__label-arrow:hover:before {color: black;}#sk-617c422e-22f4-41d0-8f1c-7ca4bcee9c19 div.sk-estimator:hover label.sk-toggleable__label-arrow:before {color: black;}#sk-617c422e-22f4-41d0-8f1c-7ca4bcee9c19 div.sk-toggleable__content {max-height: 0;max-width: 0;overflow: hidden;text-align: left;background-color: #f0f8ff;}#sk-617c422e-22f4-41d0-8f1c-7ca4bcee9c19 div.sk-toggleable__content pre {margin: 0.2em;color: black;border-radius: 0.25em;background-color: #f0f8ff;}#sk-617c422e-22f4-41d0-8f1c-7ca4bcee9c19 input.sk-toggleable__control:checked~div.sk-toggleable__content {max-height: 200px;max-width: 100%;overflow: auto;}#sk-617c422e-22f4-41d0-8f1c-7ca4bcee9c19 input.sk-toggleable__control:checked~label.sk-toggleable__label-arrow:before {content: \"▾\";}#sk-617c422e-22f4-41d0-8f1c-7ca4bcee9c19 div.sk-estimator input.sk-toggleable__control:checked~label.sk-toggleable__label {background-color: #d4ebff;}#sk-617c422e-22f4-41d0-8f1c-7ca4bcee9c19 div.sk-label input.sk-toggleable__control:checked~label.sk-toggleable__label {background-color: #d4ebff;}#sk-617c422e-22f4-41d0-8f1c-7ca4bcee9c19 input.sk-hidden--visually {border: 0;clip: rect(1px 1px 1px 1px);clip: rect(1px, 1px, 1px, 1px);height: 1px;margin: -1px;overflow: hidden;padding: 0;position: absolute;width: 1px;}#sk-617c422e-22f4-41d0-8f1c-7ca4bcee9c19 div.sk-estimator {font-family: monospace;background-color: #f0f8ff;border: 1px dotted black;border-radius: 0.25em;box-sizing: border-box;margin-bottom: 0.5em;}#sk-617c422e-22f4-41d0-8f1c-7ca4bcee9c19 div.sk-estimator:hover {background-color: #d4ebff;}#sk-617c422e-22f4-41d0-8f1c-7ca4bcee9c19 div.sk-parallel-item::after {content: \"\";width: 100%;border-bottom: 1px solid gray;flex-grow: 1;}#sk-617c422e-22f4-41d0-8f1c-7ca4bcee9c19 div.sk-label:hover label.sk-toggleable__label {background-color: #d4ebff;}#sk-617c422e-22f4-41d0-8f1c-7ca4bcee9c19 div.sk-serial::before {content: \"\";position: absolute;border-left: 1px solid gray;box-sizing: border-box;top: 2em;bottom: 0;left: 50%;}#sk-617c422e-22f4-41d0-8f1c-7ca4bcee9c19 div.sk-serial {display: flex;flex-direction: column;align-items: center;background-color: white;padding-right: 0.2em;padding-left: 0.2em;}#sk-617c422e-22f4-41d0-8f1c-7ca4bcee9c19 div.sk-item {z-index: 1;}#sk-617c422e-22f4-41d0-8f1c-7ca4bcee9c19 div.sk-parallel {display: flex;align-items: stretch;justify-content: center;background-color: white;}#sk-617c422e-22f4-41d0-8f1c-7ca4bcee9c19 div.sk-parallel::before {content: \"\";position: absolute;border-left: 1px solid gray;box-sizing: border-box;top: 2em;bottom: 0;left: 50%;}#sk-617c422e-22f4-41d0-8f1c-7ca4bcee9c19 div.sk-parallel-item {display: flex;flex-direction: column;position: relative;background-color: white;}#sk-617c422e-22f4-41d0-8f1c-7ca4bcee9c19 div.sk-parallel-item:first-child::after {align-self: flex-end;width: 50%;}#sk-617c422e-22f4-41d0-8f1c-7ca4bcee9c19 div.sk-parallel-item:last-child::after {align-self: flex-start;width: 50%;}#sk-617c422e-22f4-41d0-8f1c-7ca4bcee9c19 div.sk-parallel-item:only-child::after {width: 0;}#sk-617c422e-22f4-41d0-8f1c-7ca4bcee9c19 div.sk-dashed-wrapped {border: 1px dashed gray;margin: 0 0.4em 0.5em 0.4em;box-sizing: border-box;padding-bottom: 0.4em;background-color: white;position: relative;}#sk-617c422e-22f4-41d0-8f1c-7ca4bcee9c19 div.sk-label label {font-family: monospace;font-weight: bold;background-color: white;display: inline-block;line-height: 1.2em;}#sk-617c422e-22f4-41d0-8f1c-7ca4bcee9c19 div.sk-label-container {position: relative;z-index: 2;text-align: center;}#sk-617c422e-22f4-41d0-8f1c-7ca4bcee9c19 div.sk-container {/* jupyter's `normalize.less` sets `[hidden] { display: none; }` but bootstrap.min.css set `[hidden] { display: none !important; }` so we also need the `!important` here to be able to override the default hidden behavior on the sphinx rendered scikit-learn.org. See: https://github.com/scikit-learn/scikit-learn/issues/21755 */display: inline-block !important;position: relative;}#sk-617c422e-22f4-41d0-8f1c-7ca4bcee9c19 div.sk-text-repr-fallback {display: none;}</style><div id=\"sk-617c422e-22f4-41d0-8f1c-7ca4bcee9c19\" class=\"sk-top-container\"><div class=\"sk-text-repr-fallback\"><pre>Pipeline(steps=[(&#x27;columntransformer&#x27;,\n",
       "                 ColumnTransformer(transformers=[(&#x27;categorical&#x27;,\n",
       "                                                  Pipeline(steps=[(&#x27;imputation_constant&#x27;,\n",
       "                                                                   SimpleImputer(fill_value=&#x27;missing&#x27;,\n",
       "                                                                                 strategy=&#x27;constant&#x27;)),\n",
       "                                                                  (&#x27;onehot&#x27;,\n",
       "                                                                   OneHotEncoder(handle_unknown=&#x27;ignore&#x27;))]),\n",
       "                                                  [&#x27;porosity&#x27;]),\n",
       "                                                 (&#x27;numerical&#x27;,\n",
       "                                                  Pipeline(steps=[(&#x27;imputation_mean&#x27;,\n",
       "                                                                   SimpleImputer()),\n",
       "                                                                  (&#x27;scaler&#x27;,\n",
       "                                                                   StandardScaler())]),\n",
       "                                                  [&#x27;LogPerm&#x27;, &#x27;AI&#x27;, &#x27;Brittle&#x27;,\n",
       "                                                   &#x27;TOC&#x27;, &#x27;VR&#x27;])])),\n",
       "                (&#x27;logisticregression&#x27;, LogisticRegression())])</pre><b>Please rerun this cell to show the HTML repr or trust the notebook.</b></div><div class=\"sk-container\" hidden><div class=\"sk-item sk-dashed-wrapped\"><div class=\"sk-label-container\"><div class=\"sk-label sk-toggleable\"><input class=\"sk-toggleable__control sk-hidden--visually\" id=\"50004bab-3e6c-47f3-9ee8-fc6b7bad8ea2\" type=\"checkbox\" ><label for=\"50004bab-3e6c-47f3-9ee8-fc6b7bad8ea2\" class=\"sk-toggleable__label sk-toggleable__label-arrow\">Pipeline</label><div class=\"sk-toggleable__content\"><pre>Pipeline(steps=[(&#x27;columntransformer&#x27;,\n",
       "                 ColumnTransformer(transformers=[(&#x27;categorical&#x27;,\n",
       "                                                  Pipeline(steps=[(&#x27;imputation_constant&#x27;,\n",
       "                                                                   SimpleImputer(fill_value=&#x27;missing&#x27;,\n",
       "                                                                                 strategy=&#x27;constant&#x27;)),\n",
       "                                                                  (&#x27;onehot&#x27;,\n",
       "                                                                   OneHotEncoder(handle_unknown=&#x27;ignore&#x27;))]),\n",
       "                                                  [&#x27;porosity&#x27;]),\n",
       "                                                 (&#x27;numerical&#x27;,\n",
       "                                                  Pipeline(steps=[(&#x27;imputation_mean&#x27;,\n",
       "                                                                   SimpleImputer()),\n",
       "                                                                  (&#x27;scaler&#x27;,\n",
       "                                                                   StandardScaler())]),\n",
       "                                                  [&#x27;LogPerm&#x27;, &#x27;AI&#x27;, &#x27;Brittle&#x27;,\n",
       "                                                   &#x27;TOC&#x27;, &#x27;VR&#x27;])])),\n",
       "                (&#x27;logisticregression&#x27;, LogisticRegression())])</pre></div></div></div><div class=\"sk-serial\"><div class=\"sk-item sk-dashed-wrapped\"><div class=\"sk-label-container\"><div class=\"sk-label sk-toggleable\"><input class=\"sk-toggleable__control sk-hidden--visually\" id=\"4ce1f1f8-6288-45a2-b614-3a5fff953d5a\" type=\"checkbox\" ><label for=\"4ce1f1f8-6288-45a2-b614-3a5fff953d5a\" class=\"sk-toggleable__label sk-toggleable__label-arrow\">columntransformer: ColumnTransformer</label><div class=\"sk-toggleable__content\"><pre>ColumnTransformer(transformers=[(&#x27;categorical&#x27;,\n",
       "                                 Pipeline(steps=[(&#x27;imputation_constant&#x27;,\n",
       "                                                  SimpleImputer(fill_value=&#x27;missing&#x27;,\n",
       "                                                                strategy=&#x27;constant&#x27;)),\n",
       "                                                 (&#x27;onehot&#x27;,\n",
       "                                                  OneHotEncoder(handle_unknown=&#x27;ignore&#x27;))]),\n",
       "                                 [&#x27;porosity&#x27;]),\n",
       "                                (&#x27;numerical&#x27;,\n",
       "                                 Pipeline(steps=[(&#x27;imputation_mean&#x27;,\n",
       "                                                  SimpleImputer()),\n",
       "                                                 (&#x27;scaler&#x27;, StandardScaler())]),\n",
       "                                 [&#x27;LogPerm&#x27;, &#x27;AI&#x27;, &#x27;Brittle&#x27;, &#x27;TOC&#x27;, &#x27;VR&#x27;])])</pre></div></div></div><div class=\"sk-parallel\"><div class=\"sk-parallel-item\"><div class=\"sk-item\"><div class=\"sk-label-container\"><div class=\"sk-label sk-toggleable\"><input class=\"sk-toggleable__control sk-hidden--visually\" id=\"b0e6874c-1a10-45b1-98ad-77d0f009c41f\" type=\"checkbox\" ><label for=\"b0e6874c-1a10-45b1-98ad-77d0f009c41f\" class=\"sk-toggleable__label sk-toggleable__label-arrow\">categorical</label><div class=\"sk-toggleable__content\"><pre>[&#x27;porosity&#x27;]</pre></div></div></div><div class=\"sk-serial\"><div class=\"sk-item\"><div class=\"sk-serial\"><div class=\"sk-item\"><div class=\"sk-estimator sk-toggleable\"><input class=\"sk-toggleable__control sk-hidden--visually\" id=\"e8f4eee2-f318-482e-be83-8774a1c4fea4\" type=\"checkbox\" ><label for=\"e8f4eee2-f318-482e-be83-8774a1c4fea4\" class=\"sk-toggleable__label sk-toggleable__label-arrow\">SimpleImputer</label><div class=\"sk-toggleable__content\"><pre>SimpleImputer(fill_value=&#x27;missing&#x27;, strategy=&#x27;constant&#x27;)</pre></div></div></div><div class=\"sk-item\"><div class=\"sk-estimator sk-toggleable\"><input class=\"sk-toggleable__control sk-hidden--visually\" id=\"2134ba11-28cb-4cdd-8582-8369b2b40528\" type=\"checkbox\" ><label for=\"2134ba11-28cb-4cdd-8582-8369b2b40528\" class=\"sk-toggleable__label sk-toggleable__label-arrow\">OneHotEncoder</label><div class=\"sk-toggleable__content\"><pre>OneHotEncoder(handle_unknown=&#x27;ignore&#x27;)</pre></div></div></div></div></div></div></div></div><div class=\"sk-parallel-item\"><div class=\"sk-item\"><div class=\"sk-label-container\"><div class=\"sk-label sk-toggleable\"><input class=\"sk-toggleable__control sk-hidden--visually\" id=\"037bab95-ea34-4743-b59a-150a206c9461\" type=\"checkbox\" ><label for=\"037bab95-ea34-4743-b59a-150a206c9461\" class=\"sk-toggleable__label sk-toggleable__label-arrow\">numerical</label><div class=\"sk-toggleable__content\"><pre>[&#x27;LogPerm&#x27;, &#x27;AI&#x27;, &#x27;Brittle&#x27;, &#x27;TOC&#x27;, &#x27;VR&#x27;]</pre></div></div></div><div class=\"sk-serial\"><div class=\"sk-item\"><div class=\"sk-serial\"><div class=\"sk-item\"><div class=\"sk-estimator sk-toggleable\"><input class=\"sk-toggleable__control sk-hidden--visually\" id=\"6dad2ff6-7016-4b35-9761-4576fd142b14\" type=\"checkbox\" ><label for=\"6dad2ff6-7016-4b35-9761-4576fd142b14\" class=\"sk-toggleable__label sk-toggleable__label-arrow\">SimpleImputer</label><div class=\"sk-toggleable__content\"><pre>SimpleImputer()</pre></div></div></div><div class=\"sk-item\"><div class=\"sk-estimator sk-toggleable\"><input class=\"sk-toggleable__control sk-hidden--visually\" id=\"dc9b98d8-30f7-41ec-9a1c-d0367adb3aa3\" type=\"checkbox\" ><label for=\"dc9b98d8-30f7-41ec-9a1c-d0367adb3aa3\" class=\"sk-toggleable__label sk-toggleable__label-arrow\">StandardScaler</label><div class=\"sk-toggleable__content\"><pre>StandardScaler()</pre></div></div></div></div></div></div></div></div></div></div><div class=\"sk-item\"><div class=\"sk-estimator sk-toggleable\"><input class=\"sk-toggleable__control sk-hidden--visually\" id=\"3f7c866d-58c0-459d-acd2-001dd31898cf\" type=\"checkbox\" ><label for=\"3f7c866d-58c0-459d-acd2-001dd31898cf\" class=\"sk-toggleable__label sk-toggleable__label-arrow\">LogisticRegression</label><div class=\"sk-toggleable__content\"><pre>LogisticRegression()</pre></div></div></div></div></div></div></div>"
      ],
      "text/plain": [
       "Pipeline(steps=[('columntransformer',\n",
       "                 ColumnTransformer(transformers=[('categorical',\n",
       "                                                  Pipeline(steps=[('imputation_constant',\n",
       "                                                                   SimpleImputer(fill_value='missing',\n",
       "                                                                                 strategy='constant')),\n",
       "                                                                  ('onehot',\n",
       "                                                                   OneHotEncoder(handle_unknown='ignore'))]),\n",
       "                                                  ['porosity']),\n",
       "                                                 ('numerical',\n",
       "                                                  Pipeline(steps=[('imputation_mean',\n",
       "                                                                   SimpleImputer()),\n",
       "                                                                  ('scaler',\n",
       "                                                                   StandardScaler())]),\n",
       "                                                  ['LogPerm', 'AI', 'Brittle',\n",
       "                                                   'TOC', 'VR'])])),\n",
       "                ('logisticregression', LogisticRegression())])"
      ]
     },
     "execution_count": 26,
     "metadata": {},
     "output_type": "execute_result"
    }
   ],
   "source": [
    "pipe3 = make_pipeline(preprocessor,LogisticRegression())\n",
    "pipe3.fit(X2_train, y2_train) #fit the model"
   ]
  },
  {
   "cell_type": "code",
   "execution_count": 27,
   "metadata": {},
   "outputs": [
    {
     "name": "stdout",
     "output_type": "stream",
     "text": [
      "Test score: 0.71\n"
     ]
    }
   ],
   "source": [
    "#evaluate on test data\n",
    "print(\"Test score: {:.2f}\".format(pipe3.score(X2_test, y2_test)))"
   ]
  },
  {
   "cell_type": "markdown",
   "metadata": {},
   "source": [
    "### Final Remarks\n",
    "\n",
    "Machine Learning workflows include different processing steps. In this workflow, we learned how to use the Pipeline class, a useful tool to \"glue\" together multiple processing steps in a machine learning workflow. The Pipeline class allows us to chain multiple steps into a Python object that works with the scikit-learn interface.\n",
    "In ML  it is an art to find the right combination of feature extraction, preprocessing, and models, and it often requires trial and error. Using pipelines make this trial and error of many different steps easier!\n",
    "\n",
    "I hope this was helpful,\n",
    "\n",
    "*Nataly Chacon Buitrago*"
   ]
  },
  {
   "cell_type": "markdown",
   "metadata": {},
   "source": [
    "### References\n",
    "\n",
    "* Miles, J. (2021, June 29). Getting the most out of scikit-learn pipelines | by Jessica Miles ... Towards Data Science. Retrieved November 20, 2022, from https://towardsdatascience.com/getting-the-most-out-of-scikit-learn-pipelines-c2afc4410f1a \n",
    "\n",
    "* Müller, A. C., &amp; Guido, S. (2018). Introduction to machine learning with python a guide for Data scientists. O'Reilly. \n",
    "\n",
    "* Naik, K. Creating Pipelines Using SKlearn- Machine Learning Tutorial. (2020). YouTube. Retrieved November 10, 2022, from https://youtu.be/w9IGkBfOoic. \n",
    "* Pyrcz, M. (n.d.). Machine Learning Modeling in Python with scikit-learn Pipelines. GitHub. Retrieved November 13, 2022, from https://github.com/GeostatsGuy/PythonNumericalDemos/blob/master/PythonDataBasics_Pipelines.ipynb "
   ]
  },
  {
   "cell_type": "markdown",
   "metadata": {},
   "source": [
    "___________________\n",
    "\n",
    "#### Work Supervised by:\n",
    "\n",
    "### Michael Pyrcz, Associate Professor, University of Texas at Austin \n",
    "*Novel Data Analytics, Geostatistics and Machine Learning Subsurface Solutions*\n",
    "\n",
    "With over 17 years of experience in subsurface consulting, research and development, Michael has returned to academia driven by his passion for teaching and enthusiasm for enhancing engineers' and geoscientists' impact in subsurface resource development. \n",
    "\n",
    "For more about Michael check out these links:\n",
    "\n",
    "#### [Twitter](https://twitter.com/geostatsguy) | [GitHub](https://github.com/GeostatsGuy) | [Website](http://michaelpyrcz.com) | [GoogleScholar](https://scholar.google.com/citations?user=QVZ20eQAAAAJ&hl=en&oi=ao) | [Book](https://www.amazon.com/Geostatistical-Reservoir-Modeling-Michael-Pyrcz/dp/0199731446) | [YouTube](https://www.youtube.com/channel/UCLqEr-xV-ceHdXXXrTId5ig)  | [LinkedIn](https://www.linkedin.com/in/michael-pyrcz-61a648a1)\n",
    "\n",
    "#### Want to Work Together?\n",
    "\n",
    "I hope this content is helpful to those that want to learn more about subsurface modeling, data analytics and machine learning. Students and working professionals are welcome to participate.\n",
    "\n",
    "* Want to invite me to visit your company for training, mentoring, project review, workflow design and / or consulting? I'd be happy to drop by and work with you! \n",
    "\n",
    "* Interested in partnering, supporting my graduate student research or my Subsurface Data Analytics and Machine Learning consortium (co-PIs including Profs. Foster, Torres-Verdin and van Oort)? My research combines data analytics, stochastic modeling and machine learning theory with practice to develop novel methods and workflows to add value. We are solving challenging subsurface problems!\n",
    "\n",
    "* I can be reached at mpyrcz@austin.utexas.edu.\n",
    "\n",
    "I'm always happy to discuss,\n",
    "\n",
    "*Michael*\n",
    "\n",
    "Michael Pyrcz, Ph.D., P.Eng. Associate Professor The Hildebrand Department of Petroleum and Geosystems Engineering, Bureau of Economic Geology, The Jackson School of Geosciences, The University of Texas at Austin\n"
   ]
  },
  {
   "cell_type": "code",
   "execution_count": null,
   "metadata": {},
   "outputs": [],
   "source": []
  }
 ],
 "metadata": {
  "kernelspec": {
   "display_name": "Python 3 (ipykernel)",
   "language": "python",
   "name": "python3"
  },
  "language_info": {
   "codemirror_mode": {
    "name": "ipython",
    "version": 3
   },
   "file_extension": ".py",
   "mimetype": "text/x-python",
   "name": "python",
   "nbconvert_exporter": "python",
   "pygments_lexer": "ipython3",
   "version": "3.9.12"
  }
 },
 "nbformat": 4,
 "nbformat_minor": 2
}
