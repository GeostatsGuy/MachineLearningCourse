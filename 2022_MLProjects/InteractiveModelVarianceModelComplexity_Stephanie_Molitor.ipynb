{
 "cells": [
  {
   "cell_type": "markdown",
   "metadata": {},
   "source": [
    "\n",
    "\n",
    "<p align=\"center\">\n",
    "    <img src=\"https://github.com/GeostatsGuy/GeostatsPy/blob/master/TCG_color_logo.png?raw=true\" width=\"220\" height=\"240\" />\n",
    "\n",
    "</p>\n",
    "\n"
   ]
  },
  {
   "cell_type": "markdown",
   "metadata": {},
   "source": [
    "\n",
    "## Interactive Demo of Model Complexity & Model Variance\n",
    "\n",
    "#### Developed by: Stephanie Molitor\n",
    "#### Walker Department of Mechanical Engineering, The University of Texas at Austin\n",
    "\n",
    "### Subsurface Machine Learning Course, The University of Texas at Austin\n",
    "#### Hildebrand Department of Petroleum and Geosystems Engineering, Cockrell School of Engineering\n",
    "#### Department of Geological Sciences, Jackson School of Geosciences\n",
    "\n",
    "\n",
    "\n",
    "\n",
    "_____________________\n",
    "\n",
    "Workflow supervision and review by:\n",
    "\n",
    "#### Instructor: Prof. Michael Pyrcz, Ph.D., P.Eng., Associate Professor, The Univeristy of Texas at Austin\n",
    "##### [Twitter](https://twitter.com/geostatsguy) | [GitHub](https://github.com/GeostatsGuy) | [Website](http://michaelpyrcz.com) | [GoogleScholar](https://scholar.google.com/citations?user=QVZ20eQAAAAJ&hl=en&oi=ao) | [Book](https://www.amazon.com/Geostatistical-Reservoir-Modeling-Michael-Pyrcz/dp/0199731446) | [YouTube](https://www.youtube.com/channel/UCLqEr-xV-ceHdXXXrTId5ig)  | [LinkedIn](https://www.linkedin.com/in/michael-pyrcz-61a648a1)\n",
    "\n",
    "#### Course TA: Misael Morales, Graduate Student, The University of Texas at Austin\n",
    "##### [LinkedIn](https://www.linkedin.com/in/misaelmmorales/)\n"
   ]
  },
  {
   "cell_type": "markdown",
   "metadata": {},
   "source": [
    "### Executive Summary\n",
    "\n",
    "This demo will highlight the relationship between model complexity and model variance as part of the model bias-variance tradeoff. This GUI will fit a dataset using polynomial regression, and model complexity can be modulated by changing the order of the polynomial used to fit the training data, whereby a higher order polynomial results in a more complex model. \n",
    "\n",
    "This GUI allows the user to select five levels of model complexity (i.e., polynomial order), then bootstraps the dataset to create multiple realizations of the training data, each of which is used to generate a polynomial regression model. The models are all plotted in order to visualize how the complexity of the model changes the goodness of fit to the training data, as well as how moxel complexity affects the variation between models created from different subsets of training data. \n",
    "\n",
    "Finally, scatter plots of the averange and spread of the mean squared error over the training data are generated to visualize how model variance changes with increased model complexity.\n"
   ]
  },
  {
   "cell_type": "markdown",
   "metadata": {},
   "source": [
    "### Import Packages\n"
   ]
  },
  {
   "cell_type": "code",
   "execution_count": 1,
   "metadata": {},
   "outputs": [],
   "source": [
    "import os                                                   # to set current working directory \n",
    "import math                                                 # basic calculations like square root\n",
    "\n",
    "import pandas as pd                                         # DataFrames and plotting\n",
    "import pandas.plotting as pd_plot\n",
    "import numpy as np                                          # arrays and matrix math\n",
    "import matplotlib; import matplotlib.pyplot as plt        # plotting\n",
    "from subprocess import check_call\n",
    "from sklearn.model_selection import train_test_split        # train and test split\n",
    "import warnings\n",
    "warnings.filterwarnings('ignore')                           # supress warnings\n",
    "\n",
    "%matplotlib inline\n",
    "import sys                                              # supress output to screen for interactive variogram modeling\n",
    "import io\n",
    "from sklearn.metrics import mean_squared_error          # model error calculation\n",
    "import scipy                                            # kernel density estimator for PDF plot\n",
    "from ipywidgets import interactive      # widgets and interactivity\n",
    "from ipywidgets import widgets                            \n",
    "from ipywidgets import Layout\n",
    "from ipywidgets import Label\n",
    "from ipywidgets import VBox, HBox\n",
    "\n",
    "from sklearn.linear_model import LinearRegression           # linear regression with scikit learn\n",
    "from sklearn.preprocessing import PolynomialFeatures        # polynomial basis expansion\n",
    "from scipy import stats                                     # statistical summary from a 2D ndarray\n",
    "import seaborn as sns                                       # multivariate statistical displays\n"
   ]
  },
  {
   "cell_type": "markdown",
   "metadata": {},
   "source": [
    "### Load Data\n",
    "\n",
    "The following workflow applies the .csv file '31D_Porosity.csv'. The dataset is publically available on Proferssor Michael Pyrcz's GitHub [here](https://github.com/GeostatsGuy/GeoDataSets)  \n",
    "\n",
    "We will work with the following features:\n",
    "\n",
    "* **normal score porosity** - fraction of rock void \n",
    "* **depth** - in units of meters\n",
    "\n"
   ]
  },
  {
   "cell_type": "code",
   "execution_count": 2,
   "metadata": {},
   "outputs": [
    {
     "data": {
      "text/html": [
       "<div>\n",
       "<style scoped>\n",
       "    .dataframe tbody tr th:only-of-type {\n",
       "        vertical-align: middle;\n",
       "    }\n",
       "\n",
       "    .dataframe tbody tr th {\n",
       "        vertical-align: top;\n",
       "    }\n",
       "\n",
       "    .dataframe thead th {\n",
       "        text-align: right;\n",
       "    }\n",
       "</style>\n",
       "<table border=\"1\" class=\"dataframe\">\n",
       "  <thead>\n",
       "    <tr style=\"text-align: right;\">\n",
       "      <th></th>\n",
       "      <th>Depth</th>\n",
       "      <th>Nporosity</th>\n",
       "    </tr>\n",
       "  </thead>\n",
       "  <tbody>\n",
       "    <tr>\n",
       "      <th>0</th>\n",
       "      <td>0.25</td>\n",
       "      <td>-1.37</td>\n",
       "    </tr>\n",
       "    <tr>\n",
       "      <th>1</th>\n",
       "      <td>0.50</td>\n",
       "      <td>-2.08</td>\n",
       "    </tr>\n",
       "    <tr>\n",
       "      <th>2</th>\n",
       "      <td>0.75</td>\n",
       "      <td>-1.67</td>\n",
       "    </tr>\n",
       "    <tr>\n",
       "      <th>3</th>\n",
       "      <td>1.00</td>\n",
       "      <td>-1.16</td>\n",
       "    </tr>\n",
       "    <tr>\n",
       "      <th>4</th>\n",
       "      <td>1.25</td>\n",
       "      <td>-0.24</td>\n",
       "    </tr>\n",
       "  </tbody>\n",
       "</table>\n",
       "</div>"
      ],
      "text/plain": [
       "   Depth  Nporosity\n",
       "0   0.25      -1.37\n",
       "1   0.50      -2.08\n",
       "2   0.75      -1.67\n",
       "3   1.00      -1.16\n",
       "4   1.25      -0.24"
      ]
     },
     "execution_count": 2,
     "metadata": {},
     "output_type": "execute_result"
    }
   ],
   "source": [
    "df2 = pd.read_csv(\"https://raw.githubusercontent.com/GeostatsGuy/GeoDataSets/master/1D_Porosity.csv\") # load the data from Dr. Pyrcz's github repository\n",
    "df2.head()                                              # we could also use this command for a table preview "
   ]
  },
  {
   "cell_type": "markdown",
   "metadata": {},
   "source": [
    "### Min/Max Normalize Predictor Features\n",
    "\n",
    "Normalize our predictor features to be over a range of [-1, 1]."
   ]
  },
  {
   "cell_type": "code",
   "execution_count": 3,
   "metadata": {},
   "outputs": [
    {
     "data": {
      "text/html": [
       "<div>\n",
       "<style scoped>\n",
       "    .dataframe tbody tr th:only-of-type {\n",
       "        vertical-align: middle;\n",
       "    }\n",
       "\n",
       "    .dataframe tbody tr th {\n",
       "        vertical-align: top;\n",
       "    }\n",
       "\n",
       "    .dataframe thead th {\n",
       "        text-align: right;\n",
       "    }\n",
       "</style>\n",
       "<table border=\"1\" class=\"dataframe\">\n",
       "  <thead>\n",
       "    <tr style=\"text-align: right;\">\n",
       "      <th></th>\n",
       "      <th>count</th>\n",
       "      <th>mean</th>\n",
       "      <th>std</th>\n",
       "      <th>min</th>\n",
       "      <th>25%</th>\n",
       "      <th>50%</th>\n",
       "      <th>75%</th>\n",
       "      <th>max</th>\n",
       "    </tr>\n",
       "  </thead>\n",
       "  <tbody>\n",
       "    <tr>\n",
       "      <th>Depth</th>\n",
       "      <td>40.0</td>\n",
       "      <td>5.125000e+00</td>\n",
       "      <td>2.922613</td>\n",
       "      <td>0.25</td>\n",
       "      <td>2.687500</td>\n",
       "      <td>5.125000e+00</td>\n",
       "      <td>7.562500</td>\n",
       "      <td>10.00</td>\n",
       "    </tr>\n",
       "    <tr>\n",
       "      <th>Nporosity</th>\n",
       "      <td>40.0</td>\n",
       "      <td>2.225000e-02</td>\n",
       "      <td>0.992111</td>\n",
       "      <td>-2.08</td>\n",
       "      <td>-0.757500</td>\n",
       "      <td>1.400000e-01</td>\n",
       "      <td>0.742500</td>\n",
       "      <td>2.35</td>\n",
       "    </tr>\n",
       "    <tr>\n",
       "      <th>norm_Depth</th>\n",
       "      <td>40.0</td>\n",
       "      <td>-5.551115e-18</td>\n",
       "      <td>0.599510</td>\n",
       "      <td>-1.00</td>\n",
       "      <td>-0.500000</td>\n",
       "      <td>-5.551115e-17</td>\n",
       "      <td>0.500000</td>\n",
       "      <td>1.00</td>\n",
       "    </tr>\n",
       "    <tr>\n",
       "      <th>norm_Nporosity</th>\n",
       "      <td>40.0</td>\n",
       "      <td>-5.090293e-02</td>\n",
       "      <td>0.447906</td>\n",
       "      <td>-1.00</td>\n",
       "      <td>-0.402935</td>\n",
       "      <td>2.257336e-03</td>\n",
       "      <td>0.274266</td>\n",
       "      <td>1.00</td>\n",
       "    </tr>\n",
       "  </tbody>\n",
       "</table>\n",
       "</div>"
      ],
      "text/plain": [
       "                count          mean       std   min       25%           50%  \\\n",
       "Depth            40.0  5.125000e+00  2.922613  0.25  2.687500  5.125000e+00   \n",
       "Nporosity        40.0  2.225000e-02  0.992111 -2.08 -0.757500  1.400000e-01   \n",
       "norm_Depth       40.0 -5.551115e-18  0.599510 -1.00 -0.500000 -5.551115e-17   \n",
       "norm_Nporosity   40.0 -5.090293e-02  0.447906 -1.00 -0.402935  2.257336e-03   \n",
       "\n",
       "                     75%    max  \n",
       "Depth           7.562500  10.00  \n",
       "Nporosity       0.742500   2.35  \n",
       "norm_Depth      0.500000   1.00  \n",
       "norm_Nporosity  0.274266   1.00  "
      ]
     },
     "execution_count": 3,
     "metadata": {},
     "output_type": "execute_result"
    }
   ],
   "source": [
    "depth_min = df2['Depth'].values.min(); depth_max = df2['Depth'].values.max()\n",
    "Npor_min = df2['Nporosity'].values.min(); Npor_max = df2['Nporosity'].values.max()\n",
    "df2['norm_Depth'] = (df2['Depth'] - depth_min)/(depth_max - depth_min) * 2 - 1\n",
    "df2['norm_Nporosity'] = (df2['Nporosity'] - Npor_min)/(Npor_max - Npor_min) * 2 - 1\n",
    "\n",
    "df2.describe().transpose()"
   ]
  },
  {
   "cell_type": "markdown",
   "metadata": {},
   "source": [
    "###  Extract Predictor Features\n",
    "\n",
    "We want to extract only our min/max normalized predictor features:\n",
    "\n",
    "* **norm_Nporosity** - fraction of rock void \n",
    "* **norm_Depth** - in units of meters"
   ]
  },
  {
   "cell_type": "code",
   "execution_count": 4,
   "metadata": {},
   "outputs": [],
   "source": [
    "X2 = df2.iloc[:,[0,2]]                        # extract the predictor feature - norm_Nporosity\n",
    "y2 = df2.iloc[:,[1,3]]                        # extract the response feature - nomr_Depth\n"
   ]
  },
  {
   "cell_type": "markdown",
   "metadata": {},
   "source": [
    "### Visualize Complete Normalized Dataset\n",
    "\n",
    "Generate a scatterplot to visualize our simple 2D dataset.\n",
    "\n",
    "We will be taking subsets of this dataset to create several instances of (incomplete) training data for model creation."
   ]
  },
  {
   "cell_type": "code",
   "execution_count": 5,
   "metadata": {},
   "outputs": [
    {
     "data": {
      "image/png": "[encoded data removed]",
      "text/plain": [
       "<Figure size 432x288 with 1 Axes>"
      ]
     },
     "metadata": {
      "needs_background": "light"
     },
     "output_type": "display_data"
    }
   ],
   "source": [
    "plt.subplot(111)\n",
    "plt.plot(X2['norm_Depth'].values,y2['norm_Nporosity'].values, 'o', markerfacecolor='black', markeredgecolor='black', alpha=0.4)\n",
    "plt.title('Normalized Standard Normal Porosity vs. Normalized Depth (all data)')\n",
    "plt.xlabel('Normalized Depth')\n",
    "plt.ylabel('Normalized Porosity')\n",
    "\n",
    "plt.subplots_adjust(left=0.0, right=2.0, wspace=0.2, hspace=0.53)\n",
    "plt.show()"
   ]
  },
  {
   "cell_type": "markdown",
   "metadata": {},
   "source": [
    "### Create GUI\n",
    "\n",
    "The following code:\n",
    "\n",
    "* makes 5 random subsets of the dataset with 70%/30% train/test split\n",
    "* loops over 5 polynomial regression fits of each realization of the data, varying polynomial order according to the values chosen by the user\n",
    "* calculates average MSE and variance of the MSE over the training data\n",
    "* plots the training data and fit for each model, and the MSE as it varies with model complexity\n",
    "\n",
    "Pieces of this code are adapted from the \"Interactive_Overfit\" demo by Michael Pyrcz and John Eric McCarthy II."
   ]
  },
  {
   "cell_type": "code",
   "execution_count": 6,
   "metadata": {},
   "outputs": [],
   "source": [
    "#title\n",
    "str_1 = '         Model Complexity & Model Variance Relationship Demo -------- Prof. Michael Pyrcz and Stephanie Molitor -------- The University of Texas at Austin'\n",
    "l = widgets.Text(value=str_1, layout=Layout(width='950px', height='45px'))\n",
    "\n",
    "#brief description of the user inputs\n",
    "str_2 = '              Manipulate the level of model complexity by changing the order of polynomial that will be used for each of the 5 regression models'\n",
    "l2 = widgets.Text(value=str_2, layout=Layout(width = '950px', height = '45px'))\n",
    "\n",
    "#initate sliders to choose polynomical model orders to alter model complexity\n",
    "n1 = widgets.IntSlider(min=1, max = 50, value=1, step = 1, description = 'Complexity Order Model 1',orientation='horizontal', style = {'description_width': 'initial'}, continuous_update=False)\n",
    "n2 = widgets.IntSlider(min=1, max = 50, value=3, step = 1, description = 'Complexity Order Model 2',orientation='horizontal', style = {'description_width': 'initial'}, continuous_update=False)\n",
    "n3 = widgets.IntSlider(min=1, max = 50, value=5, step = 1, description = 'Complexity Order Model 3',orientation='horizontal', style = {'description_width': 'initial'}, continuous_update=False)\n",
    "n4 = widgets.IntSlider(min=1, max = 50, value=10, step = 1, description = 'Complexity Order Model 4',orientation='horizontal', style = {'description_width': 'initial'}, continuous_update=False)\n",
    "n5 = widgets.IntSlider(min=1, max = 50, value=40, step = 1, description = 'Complexity Order Model 5',orientation='horizontal', style = {'description_width': 'initial'}, continuous_update=False)\n",
    "\n",
    "#organize interactive inputs\n",
    "hbox1 = widgets.HBox([n1,n2, n3])\n",
    "hbox2 = widgets.HBox([n4, n5])\n",
    "ui2 = widgets.VBox([l, l2, hbox1, hbox2])\n",
    "\n",
    "\n",
    "def run_plot(n1, n2, n3, n4, n5):\n",
    "    \n",
    "    #bootstrap the data to create multiple sets of (incomplete) training data\n",
    "    seeds = [73083, 73125, 73090, 1100, 601324]  # random number seeds. 5 seeds to create 5 datasets\n",
    "    num_orders = [n1, n2, n3, n4, n5]   #polynomical orders selected above - one for each model of the 5 datasets\n",
    "\n",
    "    #initatiate variables\n",
    "    cmse_train = np.zeros([len(seeds), len(num_orders)]) # model mean squared error over the training data\n",
    "    sindex = 1 # seed index\n",
    "    pltindex = 1; #plotting index\n",
    "    leading_coeff = np.zeros([len(seeds), len(num_orders)])\n",
    "\n",
    "    from sklearn.preprocessing import PolynomialFeatures\n",
    "    from sklearn.pipeline import make_pipeline\n",
    "    \n",
    "    print('Complete of ' + str(len(seeds)*len(num_orders)) + ': ', end =\" \") #progress bar\n",
    "    for seed in seeds:\n",
    "        # 70/30% train test split with random seed\n",
    "        X2_train, X2_test, y2_train, y2_test = train_test_split(X2, y2, test_size=0.30, random_state=seed)\n",
    "        \n",
    "        oindex = 1 # model order (complexity) index\n",
    "        for num_order in num_orders:\n",
    "            polyreg=make_pipeline(PolynomialFeatures(num_order),LinearRegression()) # make the modeling pipeline\n",
    "            polyreg.fit(X2_train['norm_Depth'].values.reshape(-1, 1), y2_train['norm_Nporosity'].values.reshape(-1, 1))    # fit the model to the data\n",
    "            \n",
    "            xy_train_sorted = np.array([np.copy(X2_train['norm_Depth'].values), np.copy(y2_train['norm_Nporosity'].values)]).T #make a deep copy of the input and output values \n",
    "            xy_train_sorted = xy_train_sorted[xy_train_sorted[:, 0].argsort()] \n",
    "            X2_train_sorted = xy_train_sorted[:, 0]; y2_train_sortedByX2_train = xy_train_sorted[:, 1]  #sort x and correspnsing y values such that x is in ascending order\n",
    "\n",
    "            ccoefs = np.polyfit(X2_train['norm_Depth'].values,y2_train['norm_Nporosity'].values,num_order)\n",
    "            y_pred_train = np.polyval(ccoefs, X2_train_sorted)\n",
    "            cmse_train[(sindex-1, oindex-1)] = mean_squared_error(y2_train['norm_Nporosity'].values, y_pred_train)\n",
    "            leading_coeff[(sindex-1, oindex-1)] = ccoefs[0]\n",
    "        \n",
    "            oindex = oindex+1\n",
    "\n",
    "            #plot the training data and the predicted model for each complexity & random seed pair\n",
    "            plt.subplot(len(seeds), len(num_orders), pltindex)\n",
    "            plt.plot(X2_train['norm_Depth'].values,y2_train['norm_Nporosity'].values, 'o', markerfacecolor='red', markeredgecolor='black', alpha=0.4, label = \"Train\")\n",
    "            plt.plot(X2_train_sorted, y_pred_train, color = 'blue')\n",
    "            plt.title(str(num_order)  + ' order fit (Seed #' + str(sindex) + ')')\n",
    "            plt.xlabel('Normalized Depth')\n",
    "            plt.ylabel('Normalized Porosity')\n",
    "\n",
    "            pltindex = pltindex + 1\n",
    "            \n",
    "            print(str(pltindex-1)+ ', ', end =\" \")\n",
    "        sindex = sindex + 1\n",
    "\n",
    "    plt.subplots_adjust(left=0.0, bottom=0.0, right=2.0, top=3.0, wspace=0.5, hspace=0.5)\n",
    "    plt.show()\n",
    "\n",
    "    # calculate model variance via mean squared error across the realizations\n",
    "    cmse_train_avg = cmse_train.mean(axis=0)\n",
    "    model_var = cmse_train.var(axis=0)\n",
    "    \n",
    "    #plot average of MSE for the different models\n",
    "    plt.subplot(121)\n",
    "    plt.plot(num_orders, cmse_train_avg,  'o', markerfacecolor='blue', markeredgecolor='black', alpha=0.4)\n",
    "    plt.xlabel('Model polynomial order')\n",
    "    plt.ylabel('Average Training MSE')\n",
    "    plt.title('Training MSE over Bootstrapped Data')\n",
    "    \n",
    "    #plot spread of MSE for the different models\n",
    "    plt.subplot(122)\n",
    "    plt.plot(num_orders, model_var, 'o', markerfacecolor='blue', markeredgecolor='black', alpha=0.4)\n",
    "    plt.xlabel('Model polynomial order')\n",
    "    plt.ylabel('Variance of Training MSE')\n",
    "    plt.title('Training MSE over Bootstrapped Data')\n",
    "    \n",
    "    plt.subplots_adjust(left=0.0, right=2.0, wspace=0.2, hspace=0.53)\n",
    "    plt.show()\n",
    "\n",
    "# connect the function to make the samples and plot to the widgets    \n",
    "interactive_plot = widgets.interactive_output(run_plot, {'n1':n1, 'n2':n2, 'n3':n3, 'n4':n4, 'n5':n5})\n",
    "interactive_plot.clear_output(wait = True)               # reduce flickering by delaying plot updating\n"
   ]
  },
  {
   "cell_type": "markdown",
   "metadata": {},
   "source": [
    "### Visualize GUI\n",
    "\n",
    "Create polynomial regression models with different complexity levels (i.e., polynomial order) to investigate how model variance changes with model complexity!\n",
    "\n",
    "\n",
    "#### The Inputs\n",
    "\n",
    "* **Complexity Order Model #1-5** - order of polynomial used for each of the 5 polynomial regression models to fit the data. A higher order translates to a more complex model.\n",
    "\n",
    "#### The Outputs\n",
    "\n",
    "* **5x5 grid of plots** - For each realization of the bootstrapped data, visualize the data used and model created. Each row indicates a different random subset of the dataset used to train the model. Each column indicates a different complexity of polynomial regression, dictated by you, the user! To visually inspect model variance, see how the models in a given column (i.,e., complexity) vary across the rows (i.e., bootstrapped instances of the data). Models that look the same across the rows have low model variance and models that are very different across rows have high model varaince.\n",
    "* **Plots of mean squared error (MSE) over the training data** - Average (left) and variance (right) of the errors between the model and training data.\n",
    "\n",
    "\n"
   ]
  },
  {
   "cell_type": "code",
   "execution_count": 7,
   "metadata": {},
   "outputs": [
    {
     "data": {
      "application/vnd.jupyter.widget-view+json": {
       "model_id": "9cd3c12b7e9f44119d6f90e8ee8288b1",
       "version_major": 2,
       "version_minor": 0
      },
      "text/plain": [
       "VBox(children=(Text(value='         Model Complexity & Model Variance Relationship Demo -------- Prof. Michael…"
      ]
     },
     "metadata": {},
     "output_type": "display_data"
    },
    {
     "data": {
      "application/vnd.jupyter.widget-view+json": {
       "model_id": "f57568b47ca443f49e2f3bf82226fda4",
       "version_major": 2,
       "version_minor": 0
      },
      "text/plain": [
       "Output(outputs=({'output_type': 'stream', 'text': 'Complete of 25:  1,  2,  ', 'name': 'stdout'},))"
      ]
     },
     "metadata": {},
     "output_type": "display_data"
    }
   ],
   "source": [
    "display(ui2, interactive_plot)                           # display the interactive plot"
   ]
  },
  {
   "cell_type": "markdown",
   "metadata": {},
   "source": [
    "### Final Summary\n",
    "\n",
    "This was a basic demonstration of how model variance increases with model complexity, as the model becomes more overfit to the particular training data.\n",
    "\n"
   ]
  },
  {
   "cell_type": "markdown",
   "metadata": {},
   "source": [
    "\n",
    "I hope this was helpful,\n",
    "\n",
    "*Stephanie Molitor*\n",
    "\n",
    "___________________\n",
    "\n",
    "#### Work Supervised by:\n",
    "\n",
    "### Michael Pyrcz, Associate Professor, University of Texas at Austin \n",
    "*Novel Data Analytics, Geostatistics and Machine Learning Subsurface Solutions*\n",
    "\n",
    "With over 17 years of experience in subsurface consulting, research and development, Michael has returned to academia driven by his passion for teaching and enthusiasm for enhancing engineers' and geoscientists' impact in subsurface resource development. \n",
    "\n",
    "For more about Michael check out these links:\n",
    "\n",
    "#### [Twitter](https://twitter.com/geostatsguy) | [GitHub](https://github.com/GeostatsGuy) | [Website](http://michaelpyrcz.com) | [GoogleScholar](https://scholar.google.com/citations?user=QVZ20eQAAAAJ&hl=en&oi=ao) | [Book](https://www.amazon.com/Geostatistical-Reservoir-Modeling-Michael-Pyrcz/dp/0199731446) | [YouTube](https://www.youtube.com/channel/UCLqEr-xV-ceHdXXXrTId5ig)  | [LinkedIn](https://www.linkedin.com/in/michael-pyrcz-61a648a1)\n",
    "\n",
    "#### Want to Work Together?\n",
    "\n",
    "I hope this content is helpful to those that want to learn more about subsurface modeling, data analytics and machine learning. Students and working professionals are welcome to participate.\n",
    "\n",
    "* Want to invite me to visit your company for training, mentoring, project review, workflow design and / or consulting? I'd be happy to drop by and work with you! \n",
    "\n",
    "* Interested in partnering, supporting my graduate student research or my Subsurface Data Analytics and Machine Learning consortium (co-PIs including Profs. Foster, Torres-Verdin and van Oort)? My research combines data analytics, stochastic modeling and machine learning theory with practice to develop novel methods and workflows to add value. We are solving challenging subsurface problems!\n",
    "\n",
    "* I can be reached at mpyrcz@austin.utexas.edu.\n",
    "\n",
    "I'm always happy to discuss,\n",
    "\n",
    "*Michael*\n",
    "\n",
    "Michael Pyrcz, Ph.D., P.Eng. Associate Professor The Hildebrand Department of Petroleum and Geosystems Engineering, Bureau of Economic Geology, The Jackson School of Geosciences, The University of Texas at Austin\n"
   ]
  },
  {
   "cell_type": "code",
   "execution_count": null,
   "metadata": {},
   "outputs": [],
   "source": []
  }
 ],
 "metadata": {
  "kernelspec": {
   "display_name": "Python 3 (ipykernel)",
   "language": "python",
   "name": "python3"
  },
  "language_info": {
   "codemirror_mode": {
    "name": "ipython",
    "version": 3
   },
   "file_extension": ".py",
   "mimetype": "text/x-python",
   "name": "python",
   "nbconvert_exporter": "python",
   "pygments_lexer": "ipython3",
   "version": "3.9.12"
  }
 },
 "nbformat": 4,
 "nbformat_minor": 2
}
