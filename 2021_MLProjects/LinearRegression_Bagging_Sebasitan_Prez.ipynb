{
 "cells": [
  {
   "cell_type": "markdown",
   "metadata": {},
   "source": [
    "\n",
    "## Linear Regression Bagging\n",
    "\n",
    "#### Sebastian Prez\n",
    "#### Hildebrand Department of Petroleum and Geosystems Engineering, Cockrell School of Engineering\n",
    "\n",
    "### Subsurface Machine Learning Course, The University of Texas at Austin\n",
    "#### Hildebrand Department of Petroleum and Geosystems Engineering, Cockrell School of Engineering\n",
    "#### Department of Geological Sciences, Jackson School of Geosciences\n",
    "\n",
    "\n",
    "\n",
    "\n",
    "_____________________\n",
    "\n",
    "Workflow supervision and review by:\n",
    "\n",
    "#### Instructor: Prof. Michael Pyrcz, Ph.D., P.Eng., Associate Professor, The Univeristy of Texas at Austin\n",
    "##### [Twitter](https://twitter.com/geostatsguy) | [GitHub](https://github.com/GeostatsGuy) | [Website](http://michaelpyrcz.com) | [GoogleScholar](https://scholar.google.com/citations?user=QVZ20eQAAAAJ&hl=en&oi=ao) | [Book](https://www.amazon.com/Geostatistical-Reservoir-Modeling-Michael-Pyrcz/dp/0199731446) | [YouTube](https://www.youtube.com/channel/UCLqEr-xV-ceHdXXXrTId5ig)  | [LinkedIn](https://www.linkedin.com/in/michael-pyrcz-61a648a1)\n",
    "\n",
    "#### Course TA: Ademidé Mabadeje, Graduate Student, The University of Texas at Austin\n",
    "##### [LinkedIn](https://www.linkedin.com/in/ademidemabadeje/)\n"
   ]
  },
  {
   "cell_type": "markdown",
   "metadata": {},
   "source": [
    "### Executive Summary\n",
    "\n",
    "Boostrap aggregation, or bagging, is a method generally used in prediction methods that tend to overfit the training data. Thus, bagging is very useful with low-bias, high-variance models. Linear regression, on the other hand, is a relatively high-bias and low variance method. The goal of this workflow is to evaluate the impact of uncertainty on the variance of a linear regression model by bagging the training data. A plot of the r2 score (variance explained) and the mean squared error (MSE) is used to determine if and how the model variance changes with the number of bootstrap realizations. Small improvements are sometimes observed with a relatively low number of bootstrap realizations, which likely due to using a \"modified\" dataset; and even then, no change is detected after 100 realizations or so. The overall results show that bootstrapping the training data does not significantly affect the variance of a linear regression model.\n",
    "\n",
    "Going forward, I recommend exploring this phenomenon with different datasets. It would be useful to see how the data itself and the size of the dataset affect the results shown in this workflow. This was beyond the scope of this project due to length and time constraints.\n"
   ]
  },
  {
   "cell_type": "markdown",
   "metadata": {},
   "source": [
    "### Import Packages"
   ]
  },
  {
   "cell_type": "code",
   "execution_count": 1,
   "metadata": {},
   "outputs": [],
   "source": [
    "import numpy as np                                          # arrays and matrix math\n",
    "import pandas as pd                                         # DataFrames\n",
    "import pandas.plotting as pd_plot\n",
    "import matplotlib.pyplot as plt                             # for plotting\n",
    "from sklearn.metrics import mean_squared_error, r2_score    # specific measures to check our models\n",
    "from sklearn import linear_model                            # linear regression model\n",
    "from sklearn.model_selection import train_test_split        # train and test split\n",
    "import random                                               # used to perform bootstrap manually"
   ]
  },
  {
   "cell_type": "markdown",
   "metadata": {},
   "source": [
    "### Load Data\n",
    "\n",
    "The following workflow applies the CSV file 'Density_Por_data.csv', a synthetic yet realistic dataset created by Dr. Michael Pyrcz, which can be found on his Github repository [here](https://github.com/GeostatsGuy/GeoDataSets). This dataset was chosen because it has a good linear relationship, which is useful to properly assess the findings of this project.\n",
    "\n",
    "We will work with the following features:\n",
    "\n",
    "* **Density** - weight of the rock in grams divided by its volume in cubic centimeters (g/cc).\n",
    "* **Porosity** - rock void space over bulk volume (void + solids) as a percentage."
   ]
  },
  {
   "cell_type": "code",
   "execution_count": 2,
   "metadata": {},
   "outputs": [],
   "source": [
    "my_data = pd.read_csv(\"https://raw.githubusercontent.com/GeostatsGuy/GeoDataSets/master/Density_Por_data.csv\") # load from Prof. Pyrcz's GitHub"
   ]
  },
  {
   "cell_type": "markdown",
   "metadata": {},
   "source": [
    "We display the first few rows of the dataframe to check it was loaded properly."
   ]
  },
  {
   "cell_type": "code",
   "execution_count": 3,
   "metadata": {},
   "outputs": [
    {
     "data": {
      "text/html": [
       "<div>\n",
       "<style scoped>\n",
       "    .dataframe tbody tr th:only-of-type {\n",
       "        vertical-align: middle;\n",
       "    }\n",
       "\n",
       "    .dataframe tbody tr th {\n",
       "        vertical-align: top;\n",
       "    }\n",
       "\n",
       "    .dataframe thead th {\n",
       "        text-align: right;\n",
       "    }\n",
       "</style>\n",
       "<table border=\"1\" class=\"dataframe\">\n",
       "  <thead>\n",
       "    <tr style=\"text-align: right;\">\n",
       "      <th></th>\n",
       "      <th>Density</th>\n",
       "      <th>Porosity</th>\n",
       "    </tr>\n",
       "  </thead>\n",
       "  <tbody>\n",
       "    <tr>\n",
       "      <th>0</th>\n",
       "      <td>1.281391</td>\n",
       "      <td>16.610982</td>\n",
       "    </tr>\n",
       "    <tr>\n",
       "      <th>1</th>\n",
       "      <td>1.404932</td>\n",
       "      <td>13.668073</td>\n",
       "    </tr>\n",
       "    <tr>\n",
       "      <th>2</th>\n",
       "      <td>2.346926</td>\n",
       "      <td>9.590092</td>\n",
       "    </tr>\n",
       "    <tr>\n",
       "      <th>3</th>\n",
       "      <td>1.348847</td>\n",
       "      <td>15.877907</td>\n",
       "    </tr>\n",
       "    <tr>\n",
       "      <th>4</th>\n",
       "      <td>2.331653</td>\n",
       "      <td>4.968240</td>\n",
       "    </tr>\n",
       "  </tbody>\n",
       "</table>\n",
       "</div>"
      ],
      "text/plain": [
       "    Density   Porosity\n",
       "0  1.281391  16.610982\n",
       "1  1.404932  13.668073\n",
       "2  2.346926   9.590092\n",
       "3  1.348847  15.877907\n",
       "4  2.331653   4.968240"
      ]
     },
     "execution_count": 3,
     "metadata": {},
     "output_type": "execute_result"
    }
   ],
   "source": [
    "my_data.head()"
   ]
  },
  {
   "cell_type": "markdown",
   "metadata": {},
   "source": [
    "### Summary Statistics for Tabular Data\n",
    "Below is a quick summary of statistics for the dataset. This serves as a quick quality check of the data."
   ]
  },
  {
   "cell_type": "code",
   "execution_count": 4,
   "metadata": {},
   "outputs": [
    {
     "data": {
      "text/html": [
       "<div>\n",
       "<style scoped>\n",
       "    .dataframe tbody tr th:only-of-type {\n",
       "        vertical-align: middle;\n",
       "    }\n",
       "\n",
       "    .dataframe tbody tr th {\n",
       "        vertical-align: top;\n",
       "    }\n",
       "\n",
       "    .dataframe thead th {\n",
       "        text-align: right;\n",
       "    }\n",
       "</style>\n",
       "<table border=\"1\" class=\"dataframe\">\n",
       "  <thead>\n",
       "    <tr style=\"text-align: right;\">\n",
       "      <th></th>\n",
       "      <th>count</th>\n",
       "      <th>mean</th>\n",
       "      <th>std</th>\n",
       "      <th>min</th>\n",
       "      <th>25%</th>\n",
       "      <th>50%</th>\n",
       "      <th>75%</th>\n",
       "      <th>max</th>\n",
       "    </tr>\n",
       "  </thead>\n",
       "  <tbody>\n",
       "    <tr>\n",
       "      <th>Density</th>\n",
       "      <td>105.0</td>\n",
       "      <td>1.737917</td>\n",
       "      <td>0.288278</td>\n",
       "      <td>0.996736</td>\n",
       "      <td>1.552713</td>\n",
       "      <td>1.748788</td>\n",
       "      <td>1.906634</td>\n",
       "      <td>2.410560</td>\n",
       "    </tr>\n",
       "    <tr>\n",
       "      <th>Porosity</th>\n",
       "      <td>105.0</td>\n",
       "      <td>12.531279</td>\n",
       "      <td>3.132269</td>\n",
       "      <td>4.966421</td>\n",
       "      <td>10.546483</td>\n",
       "      <td>12.411608</td>\n",
       "      <td>14.230930</td>\n",
       "      <td>20.964941</td>\n",
       "    </tr>\n",
       "  </tbody>\n",
       "</table>\n",
       "</div>"
      ],
      "text/plain": [
       "          count       mean       std       min        25%        50%  \\\n",
       "Density   105.0   1.737917  0.288278  0.996736   1.552713   1.748788   \n",
       "Porosity  105.0  12.531279  3.132269  4.966421  10.546483  12.411608   \n",
       "\n",
       "                75%        max  \n",
       "Density    1.906634   2.410560  \n",
       "Porosity  14.230930  20.964941  "
      ]
     },
     "execution_count": 4,
     "metadata": {},
     "output_type": "execute_result"
    }
   ],
   "source": [
    "my_data.describe().transpose()"
   ]
  },
  {
   "cell_type": "markdown",
   "metadata": {},
   "source": [
    "Because we want to evaluate the impact of bootstrapping the training data in this workflow, we will work with a subset of about 60 samples, which we will select at random."
   ]
  },
  {
   "cell_type": "code",
   "execution_count": 5,
   "metadata": {},
   "outputs": [
    {
     "data": {
      "text/html": [
       "<div>\n",
       "<style scoped>\n",
       "    .dataframe tbody tr th:only-of-type {\n",
       "        vertical-align: middle;\n",
       "    }\n",
       "\n",
       "    .dataframe tbody tr th {\n",
       "        vertical-align: top;\n",
       "    }\n",
       "\n",
       "    .dataframe thead th {\n",
       "        text-align: right;\n",
       "    }\n",
       "</style>\n",
       "<table border=\"1\" class=\"dataframe\">\n",
       "  <thead>\n",
       "    <tr style=\"text-align: right;\">\n",
       "      <th></th>\n",
       "      <th>count</th>\n",
       "      <th>mean</th>\n",
       "      <th>std</th>\n",
       "      <th>min</th>\n",
       "      <th>25%</th>\n",
       "      <th>50%</th>\n",
       "      <th>75%</th>\n",
       "      <th>max</th>\n",
       "    </tr>\n",
       "  </thead>\n",
       "  <tbody>\n",
       "    <tr>\n",
       "      <th>Density</th>\n",
       "      <td>63.0</td>\n",
       "      <td>1.777852</td>\n",
       "      <td>0.262494</td>\n",
       "      <td>1.257021</td>\n",
       "      <td>1.587645</td>\n",
       "      <td>1.748788</td>\n",
       "      <td>1.891934</td>\n",
       "      <td>2.410560</td>\n",
       "    </tr>\n",
       "    <tr>\n",
       "      <th>Porosity</th>\n",
       "      <td>63.0</td>\n",
       "      <td>12.127930</td>\n",
       "      <td>2.836517</td>\n",
       "      <td>4.966421</td>\n",
       "      <td>10.307675</td>\n",
       "      <td>12.258592</td>\n",
       "      <td>13.991371</td>\n",
       "      <td>19.600717</td>\n",
       "    </tr>\n",
       "  </tbody>\n",
       "</table>\n",
       "</div>"
      ],
      "text/plain": [
       "          count       mean       std       min        25%        50%  \\\n",
       "Density    63.0   1.777852  0.262494  1.257021   1.587645   1.748788   \n",
       "Porosity   63.0  12.127930  2.836517  4.966421  10.307675  12.258592   \n",
       "\n",
       "                75%        max  \n",
       "Density    1.891934   2.410560  \n",
       "Porosity  13.991371  19.600717  "
      ]
     },
     "execution_count": 5,
     "metadata": {},
     "output_type": "execute_result"
    }
   ],
   "source": [
    "my_data_subset = my_data.sample(frac = 0.6, random_state=1)   # samples a fraction of the data without replacement, unless specified.\n",
    "por = my_data_subset['Porosity']; density = my_data_subset['Density']\n",
    "my_data_subset.describe().transpose()"
   ]
  },
  {
   "cell_type": "markdown",
   "metadata": {},
   "source": [
    "### Test-train split\n",
    "Now we will split out dataset into a training dataset and a testing dataset. I will a 70/30 split,"
   ]
  },
  {
   "cell_type": "code",
   "execution_count": 6,
   "metadata": {},
   "outputs": [],
   "source": [
    "x_train, x_test, y_train, y_test = train_test_split(density, por, test_size=0.30, random_state=73073)\n",
    "y_train = pd.DataFrame({'Porosity':y_train.values})\n",
    "y_test = pd.DataFrame({'Porosity':y_test.values})"
   ]
  },
  {
   "cell_type": "markdown",
   "metadata": {},
   "source": [
    "### Visualizing the training and testing data. \n",
    "It is useful to see how the training data looks relative to the testing data. This also serves as a quality check to make sure that our train-test split was done properly."
   ]
  },
  {
   "cell_type": "code",
   "execution_count": 7,
   "metadata": {},
   "outputs": [
    {
     "data": {
      "image/png": "[encoded data removed]",
      "text/plain": [
       "<Figure size 432x288 with 1 Axes>"
      ]
     },
     "metadata": {
      "needs_background": "light"
     },
     "output_type": "display_data"
    }
   ],
   "source": [
    "plt.subplot(111)\n",
    "plt.scatter(x_train, y_train,  color='black', s = 20, alpha = 0.3, label = 'training')\n",
    "plt.scatter(x_test, y_test,  color='red', s = 20, alpha = 0.3, label = 'testing')\n",
    "plt.title('Training vs. Testing Data for Linear Regression'); plt.xlabel('Density (g/cc)'); plt.ylabel('porosity (%)')\n",
    "plt.legend()\n",
    "plt.subplots_adjust(left=0.0, bottom=0.0, right=2.0, top=1.0, wspace=0.2, hspace=0.2)\n",
    "plt.show()"
   ]
  },
  {
   "cell_type": "markdown",
   "metadata": {},
   "source": [
    "### Linear regression without bootstrapping the training data\n",
    "\n",
    "We will now fit a linear regression model to the training data and make predictions. The results of this model will serve as a base to assess the impact of bagging the training data in the subsequent linear regression models.\n",
    "\n",
    "We will plot the model and the predictions, along with the r2 score and the MSE.\n",
    "\n",
    "* The code used in the blocks below was taken from Professor Michael Pyrcz (@GeostatsGuy) in collaboration with Midé Mabadeje. Most of the code has been modified.\n",
    "(https://github.com/GeostatsGuy/PythonNumericalDemos/blob/master/SubsurfaceDataAnalytics_PCA.ipynb)"
   ]
  },
  {
   "cell_type": "code",
   "execution_count": 8,
   "metadata": {},
   "outputs": [
    {
     "name": "stdout",
     "output_type": "stream",
     "text": [
      "Variance explained: 0.68843\n",
      "MSE: 2.373\n"
     ]
    },
    {
     "data": {
      "image/png": "[encoded data removed]",
      "text/plain": [
       "<Figure size 432x288 with 2 Axes>"
      ]
     },
     "metadata": {
      "needs_background": "light"
     },
     "output_type": "display_data"
    }
   ],
   "source": [
    "# Step 1. Instantiate the Model \n",
    "linear_reg = linear_model.LinearRegression()\n",
    "\n",
    "# Step 2: Fit the model on Training Data\n",
    "linear_reg.fit(x_train.values.reshape(-1,1), y_train) # fit model\n",
    "density_model = np.linspace(1,2.5,len(x_train)) # create x values for a visual representation of the model\n",
    "\n",
    "# Print the model parameters\n",
    "porosity_model = linear_reg.predict(density_model.reshape(-1,1)) # predict with the fit model \n",
    "\n",
    "# Step 3: - Make predictions using the testing dataset\n",
    "y_pred = linear_reg.predict(x_test.values.reshape(-1,1))\n",
    "\n",
    "# Report the goodness of fit\n",
    "print('Variance explained: %.5f' % r2_score(y_test.values, y_pred))\n",
    "print('MSE: ' + str(round(mean_squared_error(y_test.values, y_pred), 3)))\n",
    "\n",
    "# Plot model fit\n",
    "plt.subplot(121)\n",
    "plt.scatter(x_train, y_train,  color='black', s = 20, alpha = 0.3)\n",
    "plt.plot(density_model,porosity_model, color='red', linewidth=1)\n",
    "plt.title('Linear Regression Density from Porosity with Training Data'); plt.xlabel('Density (g/cc)'); plt.ylabel('Porosity (%)')\n",
    "plt.xlim(1,2.5); plt.ylim(8,20)\n",
    "\n",
    "# Plot model predictions \n",
    "plt.subplot(122)\n",
    "plt.scatter(x_test, y_test,  color='black', s = 20, alpha = 0.3)\n",
    "plt.scatter(x_test, y_pred, color='blue', s = 20, alpha = 0.3)\n",
    "plt.title('Linear Regression Model Testing - Production from Porosity'); plt.xlabel('Density (g/cc)'); plt.ylabel('Porosity (%)')\n",
    "plt.xlim(1,2.5); plt.ylim(8,20)\n",
    "\n",
    "plt.subplots_adjust(left=0.0, bottom=0.0, right=2.0, top=1.0, wspace=0.2, hspace=0.2)\n",
    "plt.show()"
   ]
  },
  {
   "cell_type": "markdown",
   "metadata": {},
   "source": [
    "Before proceeding, we will add the X and Y training data to a dataframe called df_train. This will make the subsequent steps easier."
   ]
  },
  {
   "cell_type": "code",
   "execution_count": 9,
   "metadata": {},
   "outputs": [
    {
     "data": {
      "text/html": [
       "<div>\n",
       "<style scoped>\n",
       "    .dataframe tbody tr th:only-of-type {\n",
       "        vertical-align: middle;\n",
       "    }\n",
       "\n",
       "    .dataframe tbody tr th {\n",
       "        vertical-align: top;\n",
       "    }\n",
       "\n",
       "    .dataframe thead th {\n",
       "        text-align: right;\n",
       "    }\n",
       "</style>\n",
       "<table border=\"1\" class=\"dataframe\">\n",
       "  <thead>\n",
       "    <tr style=\"text-align: right;\">\n",
       "      <th></th>\n",
       "      <th>Density</th>\n",
       "      <th>Por</th>\n",
       "    </tr>\n",
       "  </thead>\n",
       "  <tbody>\n",
       "    <tr>\n",
       "      <th>0</th>\n",
       "      <td>1.778580</td>\n",
       "      <td>11.426343</td>\n",
       "    </tr>\n",
       "    <tr>\n",
       "      <th>1</th>\n",
       "      <td>1.547463</td>\n",
       "      <td>13.234917</td>\n",
       "    </tr>\n",
       "    <tr>\n",
       "      <th>2</th>\n",
       "      <td>1.802992</td>\n",
       "      <td>10.120258</td>\n",
       "    </tr>\n",
       "    <tr>\n",
       "      <th>3</th>\n",
       "      <td>1.774021</td>\n",
       "      <td>9.489298</td>\n",
       "    </tr>\n",
       "    <tr>\n",
       "      <th>4</th>\n",
       "      <td>1.697005</td>\n",
       "      <td>10.495092</td>\n",
       "    </tr>\n",
       "  </tbody>\n",
       "</table>\n",
       "</div>"
      ],
      "text/plain": [
       "    Density        Por\n",
       "0  1.778580  11.426343\n",
       "1  1.547463  13.234917\n",
       "2  1.802992  10.120258\n",
       "3  1.774021   9.489298\n",
       "4  1.697005  10.495092"
      ]
     },
     "execution_count": 9,
     "metadata": {},
     "output_type": "execute_result"
    }
   ],
   "source": [
    "df_train = pd.DataFrame()\n",
    "df_train['Density'] = x_train.values\n",
    "df_train['Por'] = y_train\n",
    "df_train.head()"
   ]
  },
  {
   "cell_type": "markdown",
   "metadata": {},
   "source": [
    "### Linear regression with bootstrapping of the training data\n",
    "\n",
    "Now, we will bootstrap the training data and assess the impact on model variance by comparing it to the previous results. We will start with 50 realizations."
   ]
  },
  {
   "cell_type": "code",
   "execution_count": 10,
   "metadata": {},
   "outputs": [
    {
     "name": "stdout",
     "output_type": "stream",
     "text": [
      "Variance explained: 0.68764\n",
      "MSE: 2.379\n"
     ]
    },
    {
     "data": {
      "image/png": "[encoded data removed]",
      "text/plain": [
       "<Figure size 432x288 with 1 Axes>"
      ]
     },
     "metadata": {
      "needs_background": "light"
     },
     "output_type": "display_data"
    }
   ],
   "source": [
    "import warnings\n",
    "warnings.filterwarnings('ignore')                           # suppress warnings\n",
    "\n",
    "B = 50                               # number of bootstrap realizations                            \n",
    "df_pred = pd.DataFrame()\n",
    "df_pred['y_test'] = y_test\n",
    "df_samples = pd.DataFrame()\n",
    "\n",
    "for b in range(0,B):\n",
    "    df_samples = df_train.sample(n=len(df_train), replace=True)                    # sample with replacement from training dataset\n",
    "    linear_regr = linear_model.LinearRegression()                                  # instantiate the model\n",
    "    linear_regr.fit(df_samples['Density'].values.reshape(-1,1), df_samples['Por']) # fit model\n",
    "    y_preds = linear_regr.predict(x_test.values.reshape(-1,1))                     # make predictions\n",
    "    df_pred['pred_' + str(b)] = y_preds\n",
    "    \n",
    "df_pred['final_pred'] = df_pred.iloc[:,1:].mean(axis=1)\n",
    "\n",
    "# Report the goodness of fit\n",
    "print('Variance explained: %.5f' % r2_score(y_test.values, df_pred['final_pred'].values.reshape(-1,1)))\n",
    "print('MSE: ' + str(round(mean_squared_error(y_test.values, df_pred['final_pred'].values.reshape(-1,1)),3)))\n",
    "\n",
    "# Plot model predictions \n",
    "plt.subplot(111)\n",
    "plt.scatter(x_test, y_test,  color='black', s = 20, alpha = 0.3)\n",
    "plt.scatter(x_test, df_pred['final_pred'], color='blue', s = 20, alpha = 0.3)\n",
    "plt.title('Linear Regression Model Testing - Production from Porosity'); plt.xlabel('Density (g/cc)'); plt.ylabel('Porosity (%)')\n",
    "#plt.xlim(7,23); plt.ylim(0.5,2.5)\n",
    "\n",
    "plt.subplots_adjust(left=0.0, bottom=0.0, right=1.2, top=1.2, wspace=0.2, hspace=0.2)\n",
    "plt.show()"
   ]
  },
  {
   "cell_type": "markdown",
   "metadata": {},
   "source": [
    "### Results\n",
    "\n",
    "Comparing the r2 score and MSE to the previous results, we can see that they have barely changed. The variance explained requires at least 3 decimals before we observe any change, and even then, the change is not significant. Thus, bootstrapping the training data seems to have no meaningful impact on model variance.\n",
    "\n",
    "Now, we will determine if and how the variance of the model changes as the number of bootstrap realizations becomes larger. We will plot the variance explained and the MSE vs. the number of bootstrap realizations. The block below should take a few seconds to run."
   ]
  },
  {
   "cell_type": "code",
   "execution_count": 11,
   "metadata": {},
   "outputs": [
    {
     "data": {
      "image/png": "[encoded data removed]",
      "text/plain": [
       "<Figure size 432x288 with 2 Axes>"
      ]
     },
     "metadata": {
      "needs_background": "light"
     },
     "output_type": "display_data"
    }
   ],
   "source": [
    "ncases = 10                             # number of cases (items) in the bootstrap realizations matrix\n",
    "real_mat = np.linspace(1,1000, ncases)  # matrix with number of bootstrap realizations\n",
    "var_explained_mat = np.zeros(ncases)\n",
    "MSE_mat = np.zeros(ncases)\n",
    "\n",
    "for i in range(0, len(real_mat)):\n",
    "    df_pred = pd.DataFrame()\n",
    "    df_pred['y_test'] = y_test\n",
    "    df_samples = pd.DataFrame()\n",
    "\n",
    "    for b in range(0,int(real_mat[i])):\n",
    "        df_samples = df_train.sample(n=len(df_train), replace=True)                    # sample with replacement from training dataset\n",
    "        linear_regr = linear_model.LinearRegression()                                  # instantiate the model\n",
    "        linear_regr.fit(df_samples['Density'].values.reshape(-1,1), df_samples['Por']) # fit model\n",
    "        y_preds = linear_regr.predict(x_test.values.reshape(-1,1))                     # make predictions\n",
    "        df_pred['pred_' + str(b)] = y_preds                                            # save predictions to a dataframe\n",
    "    \n",
    "    df_pred['final_pred'] = df_pred.iloc[:,1:].mean(axis=1)                            # aggregate all predictions\n",
    "    var_explained_mat[i] = r2_score(y_test.values, df_pred['final_pred'].values.reshape(-1,1))  # calculate r2 score\n",
    "    MSE_mat[i] = mean_squared_error(y_test.values, df_pred['final_pred'].values.reshape(-1,1))  # calculate MSE\n",
    "\n",
    "plt.subplot(121)\n",
    "plt.plot(real_mat, var_explained_mat,  color='blue', linewidth = 2, label = 'Training')\n",
    "plt.title('Variance Explained vs. No. of realizations'); plt.xlabel('No. of realizations'); plt.ylabel('Variance Explained')\n",
    "plt.xlim(0.,1000.0); plt.ylim(0,1.0)\n",
    "\n",
    "plt.subplot(122)\n",
    "plt.plot(real_mat, MSE_mat,  color='blue', linewidth = 2, label = 'Training')\n",
    "plt.title('MSE vs. No. of realizations'); plt.xlabel('No. of realizations'); plt.ylabel('MSE')\n",
    "plt.xlim(0.,1000.0); plt.ylim(1,8)\n",
    "\n",
    "plt.subplots_adjust(left=0.0, bottom=0.0, right=2.0, top=1.0, wspace=0.2, hspace=0.2)\n",
    "plt.show()"
   ]
  },
  {
   "cell_type": "markdown",
   "metadata": {},
   "source": [
    "We can see that there is no significant change in the model variance due to bootstrapping of the training data. There is some very slight improvement before 100 realizations, which is likely due to using \"modified' datasets obtained from the realizations. However, there is no improvement beyond 100 realizations."
   ]
  },
  {
   "cell_type": "markdown",
   "metadata": {},
   "source": [
    "I hope this was helpful,\n",
    "\n",
    "Sebastian\n",
    "\n",
    "___________________\n",
    "#### Work Supervised by:\n",
    "\n",
    "### Michael Pyrcz, Associate Professor, University of Texas at Austin \n",
    "*Novel Data Analytics, Geostatistics and Machine Learning Subsurface Solutions*\n",
    "\n",
    "With over 17 years of experience in subsurface consulting, research and development, Michael has returned to academia driven by his passion for teaching and enthusiasm for enhancing engineers' and geoscientists' impact in subsurface resource development. \n",
    "\n",
    "For more about Michael check out these links:\n",
    "\n",
    "#### [Twitter](https://twitter.com/geostatsguy) | [GitHub](https://github.com/GeostatsGuy) | [Website](http://michaelpyrcz.com) | [GoogleScholar](https://scholar.google.com/citations?user=QVZ20eQAAAAJ&hl=en&oi=ao) | [Book](https://www.amazon.com/Geostatistical-Reservoir-Modeling-Michael-Pyrcz/dp/0199731446) | [YouTube](https://www.youtube.com/channel/UCLqEr-xV-ceHdXXXrTId5ig)  | [LinkedIn](https://www.linkedin.com/in/michael-pyrcz-61a648a1)"
   ]
  },
  {
   "cell_type": "code",
   "execution_count": null,
   "metadata": {},
   "outputs": [],
   "source": []
  }
 ],
 "metadata": {
  "kernelspec": {
   "display_name": "Python 3",
   "language": "python",
   "name": "python3"
  },
  "language_info": {
   "codemirror_mode": {
    "name": "ipython",
    "version": 3
   },
   "file_extension": ".py",
   "mimetype": "text/x-python",
   "name": "python",
   "nbconvert_exporter": "python",
   "pygments_lexer": "ipython3",
   "version": "3.8.8"
  }
 },
 "nbformat": 4,
 "nbformat_minor": 2
}
